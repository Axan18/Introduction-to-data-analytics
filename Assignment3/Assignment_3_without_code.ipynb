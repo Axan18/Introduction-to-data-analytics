{
 "cells": [
  {
   "cell_type": "markdown",
   "metadata": {},
   "source": [
    "### Today we are going to perform the simple classification of the amazon reviews' sentiment.\n",
    "\n",
    "### Please, download the dataset amazon_baby.csv."
   ]
  },
  {
   "cell_type": "code",
   "metadata": {
    "collapsed": false,
    "ExecuteTime": {
     "end_time": "2024-11-21T07:47:19.927725Z",
     "start_time": "2024-11-21T07:47:02.339163Z"
    }
   },
   "source": [
    "import pandas as pd\n",
    "import numpy as np\n",
    "import matplotlib.pyplot as plt\n",
    "import string\n",
    "\n",
    "from sklearn.linear_model import LogisticRegression\n",
    "from sklearn.model_selection import train_test_split\n",
    "from sklearn.metrics import accuracy_score\n",
    "\n",
    "def remove_punctuation(text):\n",
    "    import string\n",
    "    translator = str.maketrans('', '', string.punctuation)\n",
    "    return text.translate(translator)\n",
    "\n",
    "baby_df = pd.read_csv('amazon_baby.csv')\n",
    "baby_df.head()"
   ],
   "outputs": [
    {
     "data": {
      "text/plain": [
       "                                                name  \\\n",
       "0                           Planetwise Flannel Wipes   \n",
       "1                              Planetwise Wipe Pouch   \n",
       "2                Annas Dream Full Quilt with 2 Shams   \n",
       "3  Stop Pacifier Sucking without tears with Thumb...   \n",
       "4  Stop Pacifier Sucking without tears with Thumb...   \n",
       "\n",
       "                                              review  rating  \n",
       "0  These flannel wipes are OK, but in my opinion ...       3  \n",
       "1  it came early and was not disappointed. i love...       5  \n",
       "2  Very soft and comfortable and warmer than it l...       5  \n",
       "3  This is a product well worth the purchase.  I ...       5  \n",
       "4  All of my kids have cried non-stop when I trie...       5  "
      ],
      "text/html": [
       "<div>\n",
       "<style scoped>\n",
       "    .dataframe tbody tr th:only-of-type {\n",
       "        vertical-align: middle;\n",
       "    }\n",
       "\n",
       "    .dataframe tbody tr th {\n",
       "        vertical-align: top;\n",
       "    }\n",
       "\n",
       "    .dataframe thead th {\n",
       "        text-align: right;\n",
       "    }\n",
       "</style>\n",
       "<table border=\"1\" class=\"dataframe\">\n",
       "  <thead>\n",
       "    <tr style=\"text-align: right;\">\n",
       "      <th></th>\n",
       "      <th>name</th>\n",
       "      <th>review</th>\n",
       "      <th>rating</th>\n",
       "    </tr>\n",
       "  </thead>\n",
       "  <tbody>\n",
       "    <tr>\n",
       "      <th>0</th>\n",
       "      <td>Planetwise Flannel Wipes</td>\n",
       "      <td>These flannel wipes are OK, but in my opinion ...</td>\n",
       "      <td>3</td>\n",
       "    </tr>\n",
       "    <tr>\n",
       "      <th>1</th>\n",
       "      <td>Planetwise Wipe Pouch</td>\n",
       "      <td>it came early and was not disappointed. i love...</td>\n",
       "      <td>5</td>\n",
       "    </tr>\n",
       "    <tr>\n",
       "      <th>2</th>\n",
       "      <td>Annas Dream Full Quilt with 2 Shams</td>\n",
       "      <td>Very soft and comfortable and warmer than it l...</td>\n",
       "      <td>5</td>\n",
       "    </tr>\n",
       "    <tr>\n",
       "      <th>3</th>\n",
       "      <td>Stop Pacifier Sucking without tears with Thumb...</td>\n",
       "      <td>This is a product well worth the purchase.  I ...</td>\n",
       "      <td>5</td>\n",
       "    </tr>\n",
       "    <tr>\n",
       "      <th>4</th>\n",
       "      <td>Stop Pacifier Sucking without tears with Thumb...</td>\n",
       "      <td>All of my kids have cried non-stop when I trie...</td>\n",
       "      <td>5</td>\n",
       "    </tr>\n",
       "  </tbody>\n",
       "</table>\n",
       "</div>"
      ]
     },
     "execution_count": 1,
     "metadata": {},
     "output_type": "execute_result"
    }
   ],
   "execution_count": 1
  },
  {
   "cell_type": "markdown",
   "metadata": {},
   "source": [
    "## Exercise 1 (data preparation)\n",
    "a) Remove punctuation from reviews using the given function.   \n",
    "b) Replace all missing (nan) revies with empty \"\" string.  \n",
    "c) Drop all the entries with rating = 3, as they have neutral sentiment.   \n",
    "d) Set all positive ($\\geq$4) ratings to 1 and negative($\\leq$2) to -1."
   ]
  },
  {
   "cell_type": "code",
   "metadata": {
    "collapsed": false,
    "ExecuteTime": {
     "end_time": "2024-11-21T07:47:21.028248Z",
     "start_time": "2024-11-21T07:47:20.901932Z"
    }
   },
   "source": [
    "#b)\n",
    "baby_df[\"review\"] = baby_df[\"review\"].fillna(\"\")\n",
    "#short test:\n",
    "baby_df[\"review\"][38] == baby_df[\"review\"][38]"
   ],
   "outputs": [
    {
     "data": {
      "text/plain": [
       "True"
      ]
     },
     "execution_count": 2,
     "metadata": {},
     "output_type": "execute_result"
    }
   ],
   "execution_count": 2
  },
  {
   "metadata": {
    "collapsed": false,
    "ExecuteTime": {
     "end_time": "2024-11-21T07:47:26.115323Z",
     "start_time": "2024-11-21T07:47:21.245128Z"
    }
   },
   "cell_type": "code",
   "source": [
    "#a)\n",
    "baby_df[\"review\"] = baby_df[\"review\"].apply(remove_punctuation)\n",
    "#short test: \n",
    "baby_df[\"review\"][4] == 'All of my kids have cried nonstop when I tried to ween them off their pacifier until I found Thumbuddy To Loves Binky Fairy Puppet  It is an easy way to work with your kids to allow them to understand where their pacifier is going and help them part from itThis is a must buy book and a great gift for expecting parents  You will save them soo many headachesThanks for this book  You all rock.,'\n",
    "remove_punctuation(baby_df[\"review\"][4]) == 'All of my kids have cried nonstop when I tried to ween them off their pacifier until I found Thumbuddy To Loves Binky Fairy Puppet  It is an easy way to work with your kids to allow them to understand where their pacifier is going and help them part from itThis is a must buy book and a great gift for expecting parents  You will save them soo many headachesThanks for this book  You all rock'"
   ],
   "outputs": [
    {
     "data": {
      "text/plain": [
       "True"
      ]
     },
     "execution_count": 3,
     "metadata": {},
     "output_type": "execute_result"
    }
   ],
   "execution_count": 3
  },
  {
   "cell_type": "code",
   "metadata": {
    "collapsed": false,
    "ExecuteTime": {
     "end_time": "2024-11-21T07:47:26.361656Z",
     "start_time": "2024-11-21T07:47:26.257972Z"
    }
   },
   "source": [
    "#c)\n",
    "baby_df = baby_df[baby_df[\"rating\"] != 3]\n",
    "#short test:\n",
    "sum(baby_df[\"rating\"] == 3)"
   ],
   "outputs": [
    {
     "data": {
      "text/plain": [
       "0"
      ]
     },
     "execution_count": 4,
     "metadata": {},
     "output_type": "execute_result"
    }
   ],
   "execution_count": 4
  },
  {
   "cell_type": "code",
   "metadata": {
    "collapsed": false,
    "ExecuteTime": {
     "end_time": "2024-11-21T07:47:27.333048Z",
     "start_time": "2024-11-21T07:47:27.197759Z"
    }
   },
   "source": [
    "#d) \n",
    "baby_df[\"rating\"] = baby_df[\"rating\"].apply(lambda x: 1 if x >= 4 else -1)\n",
    "#short test:\n",
    "sum(baby_df[\"rating\"]**2 != 1)"
   ],
   "outputs": [
    {
     "data": {
      "text/plain": [
       "0"
      ]
     },
     "execution_count": 5,
     "metadata": {},
     "output_type": "execute_result"
    }
   ],
   "execution_count": 5
  },
  {
   "cell_type": "markdown",
   "metadata": {},
   "source": [
    "## CountVectorizer\n",
    "In order to analyze strings, we need to assign them numerical values. We will use one of the simplest string representation, which transforms strings into the $n$ dimensional vectors. The number of dimensions will be the size of our dictionary, and then the values of the vector will represent the number of appereances of the given word in the sentence."
   ]
  },
  {
   "cell_type": "code",
   "metadata": {
    "collapsed": false,
    "ExecuteTime": {
     "end_time": "2024-11-21T07:47:27.445229Z",
     "start_time": "2024-11-21T07:47:27.384932Z"
    }
   },
   "source": [
    "from sklearn.feature_extraction.text import CountVectorizer\n",
    "\n",
    "vectorizer = CountVectorizer()\n",
    "reviews_train_example = [\"We like apples\",\n",
    "                   \"We hate oranges\",\n",
    "                   \"I adore bananas\",\n",
    "                   \"We like like apples and oranges\",\n",
    "                   \"They dislike bananas\"]\n",
    "\n",
    "X_train_example = vectorizer.fit_transform(reviews_train_example)\n",
    "\n",
    "print(vectorizer.get_feature_names_out())\n",
    "print(X_train_example.todense())\n",
    "\n"
   ],
   "outputs": [
    {
     "name": "stdout",
     "output_type": "stream",
     "text": [
      "['adore' 'and' 'apples' 'bananas' 'dislike' 'hate' 'like' 'oranges' 'they'\n",
      " 'we']\n",
      "[[0 0 1 0 0 0 1 0 0 1]\n",
      " [0 0 0 0 0 1 0 1 0 1]\n",
      " [1 0 0 1 0 0 0 0 0 0]\n",
      " [0 1 1 0 0 0 2 1 0 1]\n",
      " [0 0 0 1 1 0 0 0 1 0]]\n"
     ]
    }
   ],
   "execution_count": 6
  },
  {
   "cell_type": "code",
   "metadata": {
    "collapsed": false,
    "ExecuteTime": {
     "end_time": "2024-11-21T07:47:27.584769Z",
     "start_time": "2024-11-21T07:47:27.563597Z"
    }
   },
   "source": [
    "reviews_test_example = [\"They like bananas\",\n",
    "                   \"We hate oranges bananas and apples\",\n",
    "                   \"We love bananas\"] #New word!\n",
    "\n",
    "X_test_example = vectorizer.transform(reviews_test_example)\n",
    "\n",
    "print(X_test_example.todense())"
   ],
   "outputs": [
    {
     "name": "stdout",
     "output_type": "stream",
     "text": [
      "[[0 0 0 1 0 0 1 0 1 0]\n",
      " [0 1 1 1 0 1 0 1 0 1]\n",
      " [0 0 0 1 0 0 0 0 0 1]]\n"
     ]
    }
   ],
   "execution_count": 7
  },
  {
   "cell_type": "markdown",
   "metadata": {},
   "source": [
    "We should acknowledge few facts. Firstly, CountVectorizer does not take order into account. Secondly, it ignores one-letter words (this can be changed during initialization). Finally, for test values, CountVectorizer ignores words which are not in it's dictionary."
   ]
  },
  {
   "cell_type": "markdown",
   "metadata": {},
   "source": [
    "## Exercise 2 \n",
    "a) Split dataset into training and test sets.     \n",
    "b) Transform reviews into vectors using CountVectorizer. "
   ]
  },
  {
   "cell_type": "code",
   "metadata": {
    "collapsed": true,
    "ExecuteTime": {
     "end_time": "2024-11-21T07:47:27.904973Z",
     "start_time": "2024-11-21T07:47:27.787195Z"
    }
   },
   "source": [
    "#a)\n",
    "train_df, test_df = train_test_split(baby_df, test_size=0.2, random_state=42)"
   ],
   "outputs": [],
   "execution_count": 8
  },
  {
   "cell_type": "code",
   "metadata": {
    "collapsed": true,
    "ExecuteTime": {
     "end_time": "2024-11-21T07:47:42.876129Z",
     "start_time": "2024-11-21T07:47:27.937006Z"
    }
   },
   "source": [
    "#b)\n",
    "vectorizer = CountVectorizer()\n",
    "X_train = vectorizer.fit_transform(train_df[\"review\"])\n",
    "print(vectorizer.get_feature_names_out())"
   ],
   "outputs": [
    {
     "name": "stdout",
     "output_type": "stream",
     "text": [
      "['00' '000' '0001' ... 'zzzzzz' 'zzzzzzz' 'zzzzzzzzzzz']\n"
     ]
    }
   ],
   "execution_count": 9
  },
  {
   "cell_type": "markdown",
   "metadata": {},
   "source": [
    "## Exercise 3 \n",
    "a) Train LogisticRegression model on training data (reviews processed with CountVectorizer, ratings as they were).   \n",
    "b) Print 10 most positive and 10 most negative words."
   ]
  },
  {
   "cell_type": "code",
   "metadata": {
    "collapsed": true,
    "ExecuteTime": {
     "end_time": "2024-11-21T07:48:27.595230Z",
     "start_time": "2024-11-21T07:47:42.966758Z"
    }
   },
   "source": [
    "#a)\n",
    "model = LogisticRegression()\n",
    "model.max_iter = 1000\n",
    "model.fit(X_train, train_df[\"rating\"])\n"
   ],
   "outputs": [
    {
     "data": {
      "text/plain": [
       "LogisticRegression(max_iter=1000)"
      ],
      "text/html": [
       "<style>#sk-container-id-1 {\n",
       "  /* Definition of color scheme common for light and dark mode */\n",
       "  --sklearn-color-text: black;\n",
       "  --sklearn-color-line: gray;\n",
       "  /* Definition of color scheme for unfitted estimators */\n",
       "  --sklearn-color-unfitted-level-0: #fff5e6;\n",
       "  --sklearn-color-unfitted-level-1: #f6e4d2;\n",
       "  --sklearn-color-unfitted-level-2: #ffe0b3;\n",
       "  --sklearn-color-unfitted-level-3: chocolate;\n",
       "  /* Definition of color scheme for fitted estimators */\n",
       "  --sklearn-color-fitted-level-0: #f0f8ff;\n",
       "  --sklearn-color-fitted-level-1: #d4ebff;\n",
       "  --sklearn-color-fitted-level-2: #b3dbfd;\n",
       "  --sklearn-color-fitted-level-3: cornflowerblue;\n",
       "\n",
       "  /* Specific color for light theme */\n",
       "  --sklearn-color-text-on-default-background: var(--sg-text-color, var(--theme-code-foreground, var(--jp-content-font-color1, black)));\n",
       "  --sklearn-color-background: var(--sg-background-color, var(--theme-background, var(--jp-layout-color0, white)));\n",
       "  --sklearn-color-border-box: var(--sg-text-color, var(--theme-code-foreground, var(--jp-content-font-color1, black)));\n",
       "  --sklearn-color-icon: #696969;\n",
       "\n",
       "  @media (prefers-color-scheme: dark) {\n",
       "    /* Redefinition of color scheme for dark theme */\n",
       "    --sklearn-color-text-on-default-background: var(--sg-text-color, var(--theme-code-foreground, var(--jp-content-font-color1, white)));\n",
       "    --sklearn-color-background: var(--sg-background-color, var(--theme-background, var(--jp-layout-color0, #111)));\n",
       "    --sklearn-color-border-box: var(--sg-text-color, var(--theme-code-foreground, var(--jp-content-font-color1, white)));\n",
       "    --sklearn-color-icon: #878787;\n",
       "  }\n",
       "}\n",
       "\n",
       "#sk-container-id-1 {\n",
       "  color: var(--sklearn-color-text);\n",
       "}\n",
       "\n",
       "#sk-container-id-1 pre {\n",
       "  padding: 0;\n",
       "}\n",
       "\n",
       "#sk-container-id-1 input.sk-hidden--visually {\n",
       "  border: 0;\n",
       "  clip: rect(1px 1px 1px 1px);\n",
       "  clip: rect(1px, 1px, 1px, 1px);\n",
       "  height: 1px;\n",
       "  margin: -1px;\n",
       "  overflow: hidden;\n",
       "  padding: 0;\n",
       "  position: absolute;\n",
       "  width: 1px;\n",
       "}\n",
       "\n",
       "#sk-container-id-1 div.sk-dashed-wrapped {\n",
       "  border: 1px dashed var(--sklearn-color-line);\n",
       "  margin: 0 0.4em 0.5em 0.4em;\n",
       "  box-sizing: border-box;\n",
       "  padding-bottom: 0.4em;\n",
       "  background-color: var(--sklearn-color-background);\n",
       "}\n",
       "\n",
       "#sk-container-id-1 div.sk-container {\n",
       "  /* jupyter's `normalize.less` sets `[hidden] { display: none; }`\n",
       "     but bootstrap.min.css set `[hidden] { display: none !important; }`\n",
       "     so we also need the `!important` here to be able to override the\n",
       "     default hidden behavior on the sphinx rendered scikit-learn.org.\n",
       "     See: https://github.com/scikit-learn/scikit-learn/issues/21755 */\n",
       "  display: inline-block !important;\n",
       "  position: relative;\n",
       "}\n",
       "\n",
       "#sk-container-id-1 div.sk-text-repr-fallback {\n",
       "  display: none;\n",
       "}\n",
       "\n",
       "div.sk-parallel-item,\n",
       "div.sk-serial,\n",
       "div.sk-item {\n",
       "  /* draw centered vertical line to link estimators */\n",
       "  background-image: linear-gradient(var(--sklearn-color-text-on-default-background), var(--sklearn-color-text-on-default-background));\n",
       "  background-size: 2px 100%;\n",
       "  background-repeat: no-repeat;\n",
       "  background-position: center center;\n",
       "}\n",
       "\n",
       "/* Parallel-specific style estimator block */\n",
       "\n",
       "#sk-container-id-1 div.sk-parallel-item::after {\n",
       "  content: \"\";\n",
       "  width: 100%;\n",
       "  border-bottom: 2px solid var(--sklearn-color-text-on-default-background);\n",
       "  flex-grow: 1;\n",
       "}\n",
       "\n",
       "#sk-container-id-1 div.sk-parallel {\n",
       "  display: flex;\n",
       "  align-items: stretch;\n",
       "  justify-content: center;\n",
       "  background-color: var(--sklearn-color-background);\n",
       "  position: relative;\n",
       "}\n",
       "\n",
       "#sk-container-id-1 div.sk-parallel-item {\n",
       "  display: flex;\n",
       "  flex-direction: column;\n",
       "}\n",
       "\n",
       "#sk-container-id-1 div.sk-parallel-item:first-child::after {\n",
       "  align-self: flex-end;\n",
       "  width: 50%;\n",
       "}\n",
       "\n",
       "#sk-container-id-1 div.sk-parallel-item:last-child::after {\n",
       "  align-self: flex-start;\n",
       "  width: 50%;\n",
       "}\n",
       "\n",
       "#sk-container-id-1 div.sk-parallel-item:only-child::after {\n",
       "  width: 0;\n",
       "}\n",
       "\n",
       "/* Serial-specific style estimator block */\n",
       "\n",
       "#sk-container-id-1 div.sk-serial {\n",
       "  display: flex;\n",
       "  flex-direction: column;\n",
       "  align-items: center;\n",
       "  background-color: var(--sklearn-color-background);\n",
       "  padding-right: 1em;\n",
       "  padding-left: 1em;\n",
       "}\n",
       "\n",
       "\n",
       "/* Toggleable style: style used for estimator/Pipeline/ColumnTransformer box that is\n",
       "clickable and can be expanded/collapsed.\n",
       "- Pipeline and ColumnTransformer use this feature and define the default style\n",
       "- Estimators will overwrite some part of the style using the `sk-estimator` class\n",
       "*/\n",
       "\n",
       "/* Pipeline and ColumnTransformer style (default) */\n",
       "\n",
       "#sk-container-id-1 div.sk-toggleable {\n",
       "  /* Default theme specific background. It is overwritten whether we have a\n",
       "  specific estimator or a Pipeline/ColumnTransformer */\n",
       "  background-color: var(--sklearn-color-background);\n",
       "}\n",
       "\n",
       "/* Toggleable label */\n",
       "#sk-container-id-1 label.sk-toggleable__label {\n",
       "  cursor: pointer;\n",
       "  display: block;\n",
       "  width: 100%;\n",
       "  margin-bottom: 0;\n",
       "  padding: 0.5em;\n",
       "  box-sizing: border-box;\n",
       "  text-align: center;\n",
       "}\n",
       "\n",
       "#sk-container-id-1 label.sk-toggleable__label-arrow:before {\n",
       "  /* Arrow on the left of the label */\n",
       "  content: \"▸\";\n",
       "  float: left;\n",
       "  margin-right: 0.25em;\n",
       "  color: var(--sklearn-color-icon);\n",
       "}\n",
       "\n",
       "#sk-container-id-1 label.sk-toggleable__label-arrow:hover:before {\n",
       "  color: var(--sklearn-color-text);\n",
       "}\n",
       "\n",
       "/* Toggleable content - dropdown */\n",
       "\n",
       "#sk-container-id-1 div.sk-toggleable__content {\n",
       "  max-height: 0;\n",
       "  max-width: 0;\n",
       "  overflow: hidden;\n",
       "  text-align: left;\n",
       "  /* unfitted */\n",
       "  background-color: var(--sklearn-color-unfitted-level-0);\n",
       "}\n",
       "\n",
       "#sk-container-id-1 div.sk-toggleable__content.fitted {\n",
       "  /* fitted */\n",
       "  background-color: var(--sklearn-color-fitted-level-0);\n",
       "}\n",
       "\n",
       "#sk-container-id-1 div.sk-toggleable__content pre {\n",
       "  margin: 0.2em;\n",
       "  border-radius: 0.25em;\n",
       "  color: var(--sklearn-color-text);\n",
       "  /* unfitted */\n",
       "  background-color: var(--sklearn-color-unfitted-level-0);\n",
       "}\n",
       "\n",
       "#sk-container-id-1 div.sk-toggleable__content.fitted pre {\n",
       "  /* unfitted */\n",
       "  background-color: var(--sklearn-color-fitted-level-0);\n",
       "}\n",
       "\n",
       "#sk-container-id-1 input.sk-toggleable__control:checked~div.sk-toggleable__content {\n",
       "  /* Expand drop-down */\n",
       "  max-height: 200px;\n",
       "  max-width: 100%;\n",
       "  overflow: auto;\n",
       "}\n",
       "\n",
       "#sk-container-id-1 input.sk-toggleable__control:checked~label.sk-toggleable__label-arrow:before {\n",
       "  content: \"▾\";\n",
       "}\n",
       "\n",
       "/* Pipeline/ColumnTransformer-specific style */\n",
       "\n",
       "#sk-container-id-1 div.sk-label input.sk-toggleable__control:checked~label.sk-toggleable__label {\n",
       "  color: var(--sklearn-color-text);\n",
       "  background-color: var(--sklearn-color-unfitted-level-2);\n",
       "}\n",
       "\n",
       "#sk-container-id-1 div.sk-label.fitted input.sk-toggleable__control:checked~label.sk-toggleable__label {\n",
       "  background-color: var(--sklearn-color-fitted-level-2);\n",
       "}\n",
       "\n",
       "/* Estimator-specific style */\n",
       "\n",
       "/* Colorize estimator box */\n",
       "#sk-container-id-1 div.sk-estimator input.sk-toggleable__control:checked~label.sk-toggleable__label {\n",
       "  /* unfitted */\n",
       "  background-color: var(--sklearn-color-unfitted-level-2);\n",
       "}\n",
       "\n",
       "#sk-container-id-1 div.sk-estimator.fitted input.sk-toggleable__control:checked~label.sk-toggleable__label {\n",
       "  /* fitted */\n",
       "  background-color: var(--sklearn-color-fitted-level-2);\n",
       "}\n",
       "\n",
       "#sk-container-id-1 div.sk-label label.sk-toggleable__label,\n",
       "#sk-container-id-1 div.sk-label label {\n",
       "  /* The background is the default theme color */\n",
       "  color: var(--sklearn-color-text-on-default-background);\n",
       "}\n",
       "\n",
       "/* On hover, darken the color of the background */\n",
       "#sk-container-id-1 div.sk-label:hover label.sk-toggleable__label {\n",
       "  color: var(--sklearn-color-text);\n",
       "  background-color: var(--sklearn-color-unfitted-level-2);\n",
       "}\n",
       "\n",
       "/* Label box, darken color on hover, fitted */\n",
       "#sk-container-id-1 div.sk-label.fitted:hover label.sk-toggleable__label.fitted {\n",
       "  color: var(--sklearn-color-text);\n",
       "  background-color: var(--sklearn-color-fitted-level-2);\n",
       "}\n",
       "\n",
       "/* Estimator label */\n",
       "\n",
       "#sk-container-id-1 div.sk-label label {\n",
       "  font-family: monospace;\n",
       "  font-weight: bold;\n",
       "  display: inline-block;\n",
       "  line-height: 1.2em;\n",
       "}\n",
       "\n",
       "#sk-container-id-1 div.sk-label-container {\n",
       "  text-align: center;\n",
       "}\n",
       "\n",
       "/* Estimator-specific */\n",
       "#sk-container-id-1 div.sk-estimator {\n",
       "  font-family: monospace;\n",
       "  border: 1px dotted var(--sklearn-color-border-box);\n",
       "  border-radius: 0.25em;\n",
       "  box-sizing: border-box;\n",
       "  margin-bottom: 0.5em;\n",
       "  /* unfitted */\n",
       "  background-color: var(--sklearn-color-unfitted-level-0);\n",
       "}\n",
       "\n",
       "#sk-container-id-1 div.sk-estimator.fitted {\n",
       "  /* fitted */\n",
       "  background-color: var(--sklearn-color-fitted-level-0);\n",
       "}\n",
       "\n",
       "/* on hover */\n",
       "#sk-container-id-1 div.sk-estimator:hover {\n",
       "  /* unfitted */\n",
       "  background-color: var(--sklearn-color-unfitted-level-2);\n",
       "}\n",
       "\n",
       "#sk-container-id-1 div.sk-estimator.fitted:hover {\n",
       "  /* fitted */\n",
       "  background-color: var(--sklearn-color-fitted-level-2);\n",
       "}\n",
       "\n",
       "/* Specification for estimator info (e.g. \"i\" and \"?\") */\n",
       "\n",
       "/* Common style for \"i\" and \"?\" */\n",
       "\n",
       ".sk-estimator-doc-link,\n",
       "a:link.sk-estimator-doc-link,\n",
       "a:visited.sk-estimator-doc-link {\n",
       "  float: right;\n",
       "  font-size: smaller;\n",
       "  line-height: 1em;\n",
       "  font-family: monospace;\n",
       "  background-color: var(--sklearn-color-background);\n",
       "  border-radius: 1em;\n",
       "  height: 1em;\n",
       "  width: 1em;\n",
       "  text-decoration: none !important;\n",
       "  margin-left: 1ex;\n",
       "  /* unfitted */\n",
       "  border: var(--sklearn-color-unfitted-level-1) 1pt solid;\n",
       "  color: var(--sklearn-color-unfitted-level-1);\n",
       "}\n",
       "\n",
       ".sk-estimator-doc-link.fitted,\n",
       "a:link.sk-estimator-doc-link.fitted,\n",
       "a:visited.sk-estimator-doc-link.fitted {\n",
       "  /* fitted */\n",
       "  border: var(--sklearn-color-fitted-level-1) 1pt solid;\n",
       "  color: var(--sklearn-color-fitted-level-1);\n",
       "}\n",
       "\n",
       "/* On hover */\n",
       "div.sk-estimator:hover .sk-estimator-doc-link:hover,\n",
       ".sk-estimator-doc-link:hover,\n",
       "div.sk-label-container:hover .sk-estimator-doc-link:hover,\n",
       ".sk-estimator-doc-link:hover {\n",
       "  /* unfitted */\n",
       "  background-color: var(--sklearn-color-unfitted-level-3);\n",
       "  color: var(--sklearn-color-background);\n",
       "  text-decoration: none;\n",
       "}\n",
       "\n",
       "div.sk-estimator.fitted:hover .sk-estimator-doc-link.fitted:hover,\n",
       ".sk-estimator-doc-link.fitted:hover,\n",
       "div.sk-label-container:hover .sk-estimator-doc-link.fitted:hover,\n",
       ".sk-estimator-doc-link.fitted:hover {\n",
       "  /* fitted */\n",
       "  background-color: var(--sklearn-color-fitted-level-3);\n",
       "  color: var(--sklearn-color-background);\n",
       "  text-decoration: none;\n",
       "}\n",
       "\n",
       "/* Span, style for the box shown on hovering the info icon */\n",
       ".sk-estimator-doc-link span {\n",
       "  display: none;\n",
       "  z-index: 9999;\n",
       "  position: relative;\n",
       "  font-weight: normal;\n",
       "  right: .2ex;\n",
       "  padding: .5ex;\n",
       "  margin: .5ex;\n",
       "  width: min-content;\n",
       "  min-width: 20ex;\n",
       "  max-width: 50ex;\n",
       "  color: var(--sklearn-color-text);\n",
       "  box-shadow: 2pt 2pt 4pt #999;\n",
       "  /* unfitted */\n",
       "  background: var(--sklearn-color-unfitted-level-0);\n",
       "  border: .5pt solid var(--sklearn-color-unfitted-level-3);\n",
       "}\n",
       "\n",
       ".sk-estimator-doc-link.fitted span {\n",
       "  /* fitted */\n",
       "  background: var(--sklearn-color-fitted-level-0);\n",
       "  border: var(--sklearn-color-fitted-level-3);\n",
       "}\n",
       "\n",
       ".sk-estimator-doc-link:hover span {\n",
       "  display: block;\n",
       "}\n",
       "\n",
       "/* \"?\"-specific style due to the `<a>` HTML tag */\n",
       "\n",
       "#sk-container-id-1 a.estimator_doc_link {\n",
       "  float: right;\n",
       "  font-size: 1rem;\n",
       "  line-height: 1em;\n",
       "  font-family: monospace;\n",
       "  background-color: var(--sklearn-color-background);\n",
       "  border-radius: 1rem;\n",
       "  height: 1rem;\n",
       "  width: 1rem;\n",
       "  text-decoration: none;\n",
       "  /* unfitted */\n",
       "  color: var(--sklearn-color-unfitted-level-1);\n",
       "  border: var(--sklearn-color-unfitted-level-1) 1pt solid;\n",
       "}\n",
       "\n",
       "#sk-container-id-1 a.estimator_doc_link.fitted {\n",
       "  /* fitted */\n",
       "  border: var(--sklearn-color-fitted-level-1) 1pt solid;\n",
       "  color: var(--sklearn-color-fitted-level-1);\n",
       "}\n",
       "\n",
       "/* On hover */\n",
       "#sk-container-id-1 a.estimator_doc_link:hover {\n",
       "  /* unfitted */\n",
       "  background-color: var(--sklearn-color-unfitted-level-3);\n",
       "  color: var(--sklearn-color-background);\n",
       "  text-decoration: none;\n",
       "}\n",
       "\n",
       "#sk-container-id-1 a.estimator_doc_link.fitted:hover {\n",
       "  /* fitted */\n",
       "  background-color: var(--sklearn-color-fitted-level-3);\n",
       "}\n",
       "</style><div id=\"sk-container-id-1\" class=\"sk-top-container\"><div class=\"sk-text-repr-fallback\"><pre>LogisticRegression(max_iter=1000)</pre><b>In a Jupyter environment, please rerun this cell to show the HTML representation or trust the notebook. <br />On GitHub, the HTML representation is unable to render, please try loading this page with nbviewer.org.</b></div><div class=\"sk-container\" hidden><div class=\"sk-item\"><div class=\"sk-estimator fitted sk-toggleable\"><input class=\"sk-toggleable__control sk-hidden--visually\" id=\"sk-estimator-id-1\" type=\"checkbox\" checked><label for=\"sk-estimator-id-1\" class=\"sk-toggleable__label fitted sk-toggleable__label-arrow fitted\">&nbsp;&nbsp;LogisticRegression<a class=\"sk-estimator-doc-link fitted\" rel=\"noreferrer\" target=\"_blank\" href=\"https://scikit-learn.org/1.4/modules/generated/sklearn.linear_model.LogisticRegression.html\">?<span>Documentation for LogisticRegression</span></a><span class=\"sk-estimator-doc-link fitted\">i<span>Fitted</span></span></label><div class=\"sk-toggleable__content fitted\"><pre>LogisticRegression(max_iter=1000)</pre></div> </div></div></div></div>"
      ]
     },
     "execution_count": 10,
     "metadata": {},
     "output_type": "execute_result"
    }
   ],
   "execution_count": 10
  },
  {
   "cell_type": "code",
   "metadata": {
    "collapsed": true,
    "ExecuteTime": {
     "end_time": "2024-11-21T07:48:28.130203Z",
     "start_time": "2024-11-21T07:48:27.756444Z"
    }
   },
   "source": [
    "#b)\n",
    "print(model.coef_)\n",
    "coefficients = model.coef_[0]\n",
    "words = vectorizer.get_feature_names_out()\n",
    "sorted_names = np.argsort(coefficients)\n",
    "print(\"10 most negative words:\")\n",
    "for i in range(10):\n",
    "    print(words[sorted_names[i]])\n",
    "print(\"10 most positive words:\")\n",
    "for i in range(10):\n",
    "    print(words[sorted_names[-i]])\n",
    "#hint: model.coef_, vectorizer.get_feature_names()"
   ],
   "outputs": [
    {
     "name": "stdout",
     "output_type": "stream",
     "text": [
      "[[ 0.0004661   0.00888183  0.00654983 ...  0.00893896  0.00385359\n",
      "  -0.00011139]]\n",
      "10 most negative words:\n",
      "dissapointed\n",
      "worthless\n",
      "worst\n",
      "useless\n",
      "poorly\n",
      "disappointing\n",
      "unusable\n",
      "disappointed\n",
      "poor\n",
      "unacceptable\n",
      "10 most positive words:\n",
      "dissapointed\n",
      "lifesaver\n",
      "minor\n",
      "con\n",
      "skeptical\n",
      "ply\n",
      "thankful\n",
      "saves\n",
      "rich\n",
      "wonderfully\n"
     ]
    }
   ],
   "execution_count": 11
  },
  {
   "cell_type": "markdown",
   "metadata": {},
   "source": [
    "## Exercise 4 \n",
    "a) Predict the sentiment of test data reviews.   \n",
    "b) Predict the sentiment of test data reviews in terms of probability.   \n",
    "c) Find five most positive and most negative reviews.   \n",
    "d) Calculate the accuracy of predictions."
   ]
  },
  {
   "cell_type": "code",
   "metadata": {
    "collapsed": true,
    "ExecuteTime": {
     "end_time": "2024-11-21T07:48:31.663562Z",
     "start_time": "2024-11-21T07:48:28.280280Z"
    }
   },
   "source": [
    "#a)\n",
    "y_pred = model.predict(vectorizer.transform(test_df[\"review\"]))\n",
    "print(y_pred)"
   ],
   "outputs": [
    {
     "name": "stdout",
     "output_type": "stream",
     "text": [
      "[ 1 -1 -1 ...  1  1  1]\n"
     ]
    }
   ],
   "execution_count": 12
  },
  {
   "cell_type": "code",
   "metadata": {
    "collapsed": true,
    "ExecuteTime": {
     "end_time": "2024-11-21T07:48:35.127808Z",
     "start_time": "2024-11-21T07:48:31.732258Z"
    }
   },
   "source": [
    "#b)\n",
    "y_pred_proba = model.predict_proba(vectorizer.transform(test_df[\"review\"]))\n",
    "print(y_pred_proba)\n",
    "#hint: model.predict_proba()"
   ],
   "outputs": [
    {
     "name": "stdout",
     "output_type": "stream",
     "text": [
      "[[4.62077715e-01 5.37922285e-01]\n",
      " [7.81199266e-01 2.18800734e-01]\n",
      " [9.71662347e-01 2.83376528e-02]\n",
      " ...\n",
      " [2.20355151e-05 9.99977964e-01]\n",
      " [8.81505081e-05 9.99911849e-01]\n",
      " [6.96894765e-02 9.30310523e-01]]\n"
     ]
    }
   ],
   "execution_count": 13
  },
  {
   "cell_type": "code",
   "metadata": {
    "collapsed": true,
    "ExecuteTime": {
     "end_time": "2024-11-21T07:48:35.238154Z",
     "start_time": "2024-11-21T07:48:35.207460Z"
    }
   },
   "source": [
    "#c) \n",
    "best_reviews = np.argsort(y_pred_proba[:,1])[-5:]\n",
    "worst_reviews = np.argsort(y_pred_proba[:,1])[:5]\n",
    "print(\"5 most positive reviews:\")\n",
    "for i in range(5):\n",
    "    print(test_df[\"review\"].iloc[best_reviews[i]], \"\\n\")\n",
    "\n",
    "print(\"5 most negative reviews:\")\n",
    "for i in range(5):\n",
    "    print(test_df[\"review\"].iloc[worst_reviews[i]], \"\\n\")\n",
    "#hint: use the results of b)"
   ],
   "outputs": [
    {
     "name": "stdout",
     "output_type": "stream",
     "text": [
      "5 most positive reviews:\n",
      "We love this highchair  We have a 4 year old and an 8 month old  This is our 3rd highchairFeatures we loveFit  This chair FITS my infant daughter  She fits in this chair without the extra insert way better than in the basic Evenflo chair we had before  I only use the 3point harness and let her shoulders be free and she sits at a correct level so her arms can move around well and she can lean and reach for things on the tray  Many other chairs have a real problem with fit  So I do believe that with the insert this is the perfect chair to start your 4 month infant in for feeding  The insert will make them more secure kind of like their carseatTray Insert  With our other chairs the tray clicks down into the larger tray all the way aroundyou can remove it for cleaning  Fine  But I always hated that food got into the crack nearest to the baby so I couldnt just wipe it downI HAD to remove it to get out all the gunk  The tray on this is so smartthe edge closest to the baby wraps all the way down and clicks under the lip of the large trayone smooth surface where all the food is landing  I love itUpholstry  I love this leather look  It cleans easy and is really cushy  The part that is designed to match other Graco gear is just an insert for small infants  The rest of it is just a tan color and it matches anythingSturdiness  I cant tell you how much safer I feel my daughter is in thisit is solid  I never felt terribly comfortable reclining her in other seats but this one is made well and I am not worriedVersitality  This is one of the best parts  We bought this and now we are using both the highchair for our 8 month old daughter and the booster for our 4 year old son  Here is how it works  Basically it is like a high chair with 2 bases  Both bases are toddler chairs themselves  I will call them the rolling base and the chair base  So you have a toddler seat attached to the rolling base and another toddler seat that you can attach with straps to a chair the chair base  Then you can take the separate highchair part and click it into the rolling base or to the chair base whichever you like  Then the unused base becomes a toddler chair  One might think that you could sit 3 children2 toddlers in the bases and then an infant in the highchair part but the highchair really needs to click into a base because it is not designed to be on its own  The highchair with the chair base would be great to take when traveling especially if you just use the snack tray and leave the large tray at home  And the toddler seat that is attached to the highchair frame is truly good for getting under tables with a lip because of its low sides unlike many toddler seats that come up too far and you cant scoot them under the tableWorth notingI see no problem with the snack tray  At 8 months my daughter fits fine and it is half as big as the traya great size snack tray  And it has its own separate cup holder  You really dont need the snack tray before they start feeding themselves so I cant see it being a problem at the age you would need itAdjustable foot rest  I just love this and it just makes it better for the baby to have more support  My 8 month old cant touch the highest setting yet but probably within 6 months or soToddler seat  I thought it was extra great that they include an adjustable backthere are 3 slots to put slide a back into the chairthat way you can match the length of the chair to your childs legs  My 4 year old is big enough that we removed the back and let him sit all the way back in order that is knees bend in the right place  But I can see where this would be a great feature for perfect fit through the yearsThis really is a great chair for every possible use infant toddler preschooler traveling having an extra seat if you have other kids over to your house  The system will seat 2 children at once 1 baby with tray and 1 older child OR 2 older childrenWe love thisworth every penny \n",
      "\n",
      "Weve been using Britax for our boy now 14 months old since his very first moments leaving the hospital  Thankfully cost was not part of our consideration so we went with the best seat we could find  Britax has been good but I wish we had found the Pria  Its a terrific car seatThree best parts so far1  Head control2  Style3  Cup holder4  Soft easy to clean fabricHead control  My biggest concern with other car seats has been his head  When our son sleeps in the car he tilts his head to the side much like my father does now  But with my Dad I dont worry too much because he always seems to wake up after a few minutes and straighten out  But babies dont seem to do that well and Ive been concerned that hes closing off airway or blood to his head  Im not a doctor but it doesnt look good to me  Weve tried rolling his little blanket and stuffing it by his neck like an airplane pillowto no avail  He just tosses it on the seat  This seat has a great system for controlling his headStyle  This seat is attractive  We never used the infant insert but it has an elegant shape to it  The rest of the seat looks good too  I know its not a big concern but I do appreciate great designCup holder  It has a perfectly placed cup holder  We use the Uppababy stroller and it has a great tray where our son has become used to storing his cell phone and other things  Without a cup holder close to his hands in our car everything sits between his knees which makes it all tough to reach  Prias solution is perfect and I dont find myself reaching into the back seat as muchGreat fabric  We love the soft feel of this seat  Its almost like a good pillow  And the fabric has proven quite easy to cleanOverall were thrilled with the seatHope you enjoy yours tooPhilUPDATE Its been over a year now and we remain thrilled with this seat We kept the Britax so wed have an extra seat in the car for James friends to ride together with us Night and day this seat remains the hands down winner for easy buckling in easy cleaning and comfort And the cup holder continues to be the perfect place for drinks snacks or a little toy carWasnt sure this seat would make it this long as the fabric doesnt feel as tough as the Britax But it sure has Whatever they used is as easy to work with now as the day this one arrived And remains easy to clean Were having another one soon so the Britax will be moving to the middle seat to make room for another MaxiCosiAny recommendations on a new color \n",
      "\n",
      "My wifes 5 and Im about 56 our baby is within the growth scales as indicated by our pediatrician not too small not big In fact at 6 months shes about 13lbs and can still take a comfortable nap in the bassinet We got the set before she arrived and bought the seat cushion separately and verso adapter when it came out Without the verso she loved being able to see what was going around and the attached canopy works to either block the sun or wind depending on the occasion After getting the verso we can actually bottle feed while we walkwe hold the bottle Since the design is so thin and simple we can walk in and out of any store without having to go through the wheelchair gates or subscribing to Costcostyle warehouse storesStructurally the aluminium frame is strong and simple a push button locking feature on the left and two cyclingstyle quick release levers secure the stroller in the open or closed positionsyou need both hands but no feet The seat is as described by PT simple to clean no seams hydrophobic Having the cushion option gives a final touch of elegance to an already eyecatching design The bassinet too is great convenient sleep vessel for the trip to grandmas and during the first few months good diaper change apparatus Its really not necessary to buy PTs peanut fitted sleep sheets most parents will have plenty of swaddling blanketsSpend the money on the verso kit The PT mosquitoUV mesh cover is also well made very tight knit mesh but in my opinion overall look is too blackThe Smart doesnt have huge suspension springs or hydraulic shock absorbing features it doesnt have a trunk or luggage carrier for the shopping parent nor does it have an air bag system or LCD entertainment screen Our baby girl enjoys the walks on sidewalks as much as she enjoys bouncing on my leg the vibrations dont bother her as much as it concerns onlooking parents as they pass by in their SUSs sport utility strollers In fact I think its often what puts her to sleep during long walksWe manage to fit it in the hatch of our VW MK5 or in the back passenger seatfoot space if the trunk is occupied by the dog While it lies relatively flat it does not shrink in length It requires the full handle bar extension down to the front wheelbase and the width does not change eitherWhat has been a great bonus is that we can unmount the seat and use it as a baby seat on typical chairs in restaurants While this doesnt take much effort it is not for anyone who isnt mechanically minded or prefers spending time txting rather than paying attention to a child However placed at correct angles this is a solid chair option for our baby again now 6 months and it continues to gain praise from wandering eyes When she was smaller and less desiring to be in an upright position the peanut sat nicely across two standard chairs Really the chair option is obviously not recommended by PT and best not encouraged but I thought Id mention it cause for us its wonderful Im sure once she starts to get more physically active it will not be an option tho I am looking at retro fitting it with tether strapsPT are you listeningSo if youre not into weight lifting or doing stretches before having to lift the more popular SUS models or if you dont really want to trade in your family sedan because you need a van to fit a stroller then consider this a nice option Im always worried about the structure of the umbrella style strollers and frankly they resemble scissors for fingers too much One other thing the seat is not wide we have no intentions of using it in the winter months outdoors as shell be nearly 12months old and the thought of a winter coat doesnt work Also the little storage net below the seat is small It holds our diaper bag now but we only pack what we anticipate using for the days outingEach stroller design has a place this one fits oursI think its difficult to buy these kind of things online we bought ours at a local show but for those without the option I hope this review helpsEditOur daughter is a happy 19 month old now and the Smart stroller is just a touch more So howre we doing Hows the strollerHaving used the stroller through the last 19 months and seeing as how the Smart model is still on store shelves as current I thought Id share a little more about this productHows it looking GreatIs anything broken NopeDo we use it regularly YesDo we fly with it Nope  cause it costs too much to checkin It does not fold up in an airline friendly manner for gate checkin like an umbrella stroller wouldSo we now have one of those too Ill have to write a review about thatDo we use it as our primary stroller AbsolutelyWhy Cause its so much better looking and noncumbersomeDoes our 19 month old fit comfortably in it Yes shes about 25 lbs and stands 28 tallSo about the only thing that Ive noticed which is worth mentioning is that the attached sun hood after time can get loose When this happens it does not want to stay in the desired position for shade However this is easily remedied by tightening the nut and bolt on either side and its as good as new We use the sun shade in every position possible Sometimes its for the sun other times its the slightly strong breeze and other times just keeping her legs and feet covered as we navigate through thick crowds at the local fair much like a shieldRightfully so Ive noticed Phil  Teds now includes the verso adapters as standardEditSo its been more than 25 years since we purchased this and we just brought out the bassinet to use again Got another child to carry in it Still looks new not a dated design and gets lots of praise from onlookersThe cool thing about this stage of use the infant is in no way long enough to reach end to end so we keep our valuables like camera gear wallets etc at the base and with the zip cover its concealed yet right there when we need it to whip out and take pictures with the grandparents who take up the baby No regrets at allEditSo our second is now about 7months While we do bring the stroller out for planned full day outings to the zoo or malls etc We dont always bother to pack it However what we will always have is the seat itself As mentioned before we use it as a seat for the child in restaurants always For most of the nonchainfranchise places we go we get nothing but smart compliments  Perhaps because we zip through the maze of populated tables without bumping into people or that we dont need stroller parking that would otherwise be fire exit routes during an emergency or that people secretly get the fact that its better to be carrying a child above the dust lineWe also constantly use the seat in conjunction with shopping carts when buying groceries or browsing aisles in the local swedish common sense shopwhich btw the seat hooks fit perfectly into We could not have possibly chosen a better value or designed strollerI must admit however this time round with an older child in tow I see a benefit to a well designed cupbottle holderDid I mention how easy it is to clean No creases or hidden folds for crumbs to fall into or places for mysterious stains to appear It effortlessly looks new After nearly 3 years no annoying plastic squeaks no rattling or funny wobbles You know all those things that tell you its last years model that needs to be replacedOh we did sell our mk5 for a family truck it fits in it too  \n",
      "\n",
      "Some differences with Uppababy Vs Britax BReadyWHEELS  Vista wins Vista had better wheels Vista had tread and were more grippery tire like feel  BReady had smooth plastic feel to them I can see that they would get all scratched up easily BReady also had fenders on them which seem to add to bulk Comparing closely it almost appear one could put Vistas wheels to BReady  Its that similarHANDLE  BReady wins Handle on BReady was nicer than Vista It pivoted instead of telescoping which was what the Vista does The center was had a grip that was molded for onehanded steering The arms and wrist seem more comfortable rested more parallel like on a keyboard My wife at 52 found the Vista handle too high and wished it could adjust lowerFOLDING  Vista wins barely Comparing the two the wife like the Vista it did take several attempts for wife to get the feel for it as did I  Once figured out it was okBReady  required two hands as well but you sort of have to use your stomach so that you could pull the levers toward you and have  it collapse I found it easy if you have larger hands you can pull down the levers easier but since my wife is 52 her hands are smaller and sort of used her stomach a bit  With time I think she could avoid using her stomach  She would just hold the bar and use her fingers to pull down  We also found that you had to straighten out the BReadys handle so that when you fold it it would stand properly stand up and you could lock the folding clasp DEFINITELY TRY FOLDING IT YOURSELF IN THE STORE just to add an another stroller the Baby Jogger City Select has really easy folding capability Both stands up when folded although you have to consciously stand it up  The sales person always seems to fold it and let it flop to the ground  I doubt one  would do that outsideNote on second seat folding  The folding of the BReady allows the second seat to be on but it was very bulky and heavy at a total of 35 lbs and the canopy of the second seat would get dirty  Its better to just remove the seatMAIN SEAT  Vista wins Vista has 0 degree seat position and BReady did not Vista 2010 added this to address a common complaint  BReady is slightly on the decline  So while the  BReady has a handle that is more ergonomically correct for moms wrist it seems the seat upright capability is better for the kid previous Vista 2009 owners found the kid pulling themselves forward to get uprightSECOND SEAT REAR  BReady wins  Recline of 2nd child add on  B ready  was clearly better since it can recline to horizontal sleeping position Vista had one position  It was not upright but slightly tilted back  More for a child chilling out and may nit be the best if kid is sleeping The Vista seat was also closer to the front seat and B Ready has more room for child in rear A taller person may hit the BReady seat with their stride but Im 510 and its not a problem  Also note that the BReady second seat is in the rear of parent behind main seat  FORWARD FACING whereas Vista is in FRONT of main seat REAR FACING  Big difference here  I believe thats why the BReady can recline safely  I dont think I would want to have a Vista recline in front and therefore exposing the childs headSTORAGE  BReady wins barely  BReady is accessible on all sides  Vistas is on the rear only  With the rear seat this is important  However the Vista has a bar running across where the kid can sort of step their feet on  The BReady has their feet in the entire basket and the kids would probably kick at your diaper bagCONFIGURATIONS  BReady wins  BReady has 14 configurations vs Vistas 3 configurations  Most notably are BReady has ability to use two infant carriers at the same time  You can also place infant carrier in the rear Vista you cannot  You can only put it in the front  BReady can use the bassinet with the second seat  Vista cannot use bassinet with rear seatAfter all this I am still having problems deciding  For me it comes down to Vistas 0 degree position but no full recline in rear seat Vs BReadys full recline rear seat but lack of 0 degree positionEditUpdate  I ended up buying the Britax Bready  Its been used it for 6 weeks now  So far its been great  Very nice easy ride  It can be bumpy on cobble stones and uneven surfaces  If you want a smoother ride on these surfaces youll need bigger airfilled tires  My complaint is the unfolding part  When unfolding the plastic clip that holds the stroller  is tricky to undo so you can unfold it  You need to pull it out a bit before you unfold which can be tough  I think well need more practice at doing this  Ill report back in a few more months \n",
      "\n",
      "We did my son in cloth diapers from birth through potty training  prefolds and covers mostly pull on pants  Cheap and effective  Planned to do the same with my twin girls but at 10 months our drier died I got snowed under with laundry and sucked into a sposie slump and there was no going back  Now pregnant with 4 and I want to do him in cloth the easier hip modern way  bought some BGs and Fuzzibuns onesize to use on my girls for now to figure out what I like  Also waiting on some FlipsWhat I LOVE about these  It couldnt be easier  Stuffing them takes more time than laying a bunch of prefolds flat but not nearly as much time as running to the store for diapers  And getting them stuffed and stacked JUST SO soothes the OCD side of me which you wouldnt know I had to look around my houseGetting them ON the baby is no more work than a disposable  no taking off shoes and pants to deal with pull on pants no seperate cover etc  Fast and easyFairly trimWash very well  I got the snap ones as I know from past experience dealing with those velcro diaper snakes is NO FUN  Every one complains about the velcro not holding up  I can see it being more adjustable but the snaps make for a nice appearance and will hold up well over time  So far even on the pale green sweet cover poo stains come out 100  The microsuade liners come pristine white each time and do not pill  they look amazing after several washesThey fit both girls  one is 29 pounds one is 3536  Fuzzibuns one size are trimmer and maybe more fancy looking but do not fit my bigger girl and are tight on my smaller girl whereas these on the biggest setting are comfortable on my bigger girl and on the second biggest fine on my smaller girl  If you REALLY want a one size that will take you to potty training these are better than fuzzibuns  I suspect Fuzzibuns will be nicertrimmer on a small baby thoughI am really hoping to have my girls trained by the time 4 arrives but I could have 3 in diapers for a while and these will take some of the sting out of thatBasically love love love these diapersConsPRICEY  never would have splurged like this before but I figure Im only doing this once more I want to experience it all  And hopefully past 40 there wont be many ways to improve  seriously how could they be better  so I can sell them and get a large portion of my  backQuestionable on the absorbancy  they work pretty well for 2 slightly over 2 hours  but it can get dicey and I am still not convinced theres any way to beat a prefold for how much it will hold with how trim it is  So for naps or long trips out  depending on what changing capabilities will be like  If I cant change every 2 hours  I am sometimes more comfortable using prefolds  I am still getting in the swing of not being able to go hours and hours in disposablesTake up a lot of room in a diaper bag  hence my wanting to try Flips I suspect they will be easier to travel with as well as more versatile  Admittedly travelling with these for ONE baby wont be as bad as for 2  But if I do end up with 3 in dipes at once I may need to trade in my diaper bag for a carryon bag with wheels LOLElastic is supposed to be replacable but I dont know how yet  its SUPER easy in the Fuzzibuns seems more complicated in these  But possible  So they sayThe SMELL  look around and you will see complaints of SMELLS on these dipes  I was using Charlies Soap and I had stinky dipes  Many moms admit to switching to Tide  gasp a sin in the natural world  which I have tried  and it seems to help  I am searching for the perfect way to combat the smell something in between natural but doesnt work and never do that youll wreck your BGs  but the smell is not a big enough deal to not love these dipesI dont see myself going 100 pocket dipes but I see myself reaching for these a lot  Maybe 90  Trying to figure out the ideal number to have  I really really love them and wish I had gotten into them sooner  But if I had I probably would have gotten the velcro ones and these are so much better  its just as well  Baby 4 is going to have some awesome diapersI dont realistically see myself going right in to these at birth though  newborn prefolds and prowraps covers are cheap and simple and IMO the best way to go with a newborn who poops a lot  will likely start these around 2 months or so  cant wait \n",
      "\n",
      "5 most negative reviews:\n",
      "My disappointment with this product prompted me to write to the manufacturer  Below is my correspondenceIm writing you this email to express my deep dissatisfaction with a recently purchased Graco productMy wife and I are new parents and as expected the Graco brand was quite heavily represented on many items that expectant parents needAmong other things we purchased a Graco car seat extra seat base and a Pack and PlayAt this point our daughter is only a week old the car seat has seen limited use but the Pack and Play has already been put through some paces and it is this product that I am writing to you aboutThe model we purchased was the Pack n Play Dempsey  The main reasons we chose this model were the designcolor and the fact that it had a changing table  The additional storage seemed to be a nice feature thought not something that we will probably use at this point and as it disappears when not used as a bassinet it has limited usefulnessI have quite a few reasons to be dissatisfied with this product but by far the biggest disappointment is the changing tableThe design flaws with the changing table are glaring  It is supported only on one side leaving the other side to hang across the bassinetplayard with nothing to brace it  Our daughter who is just barely 8 pounds places enough weight on the table that it dips down on the unbraced side causing her to roll over on the side  Even if placing her as far as possible over to the braced side even a few pounds of weight over the center of the table will cause it to slant and thus cause a baby to roll over to their side  As you can imagine trying to change a baby on a device like this is akin to placing them on a slide or ramp  it is not conducive  Furthermore I dont believe it to be safe as newborns do not have full control or strength in their necks and this table causes their bodies to slant underneath them  causing them to contort in uncomfortable and possibly dangerous waysYour website states that this changing table is to be used by babies up to 25 lbs  I cant possibly imagine how a child that large wouldnt cause the table to dip at even more dangerous angles  Reviewers at Babies R Us which unfortunately I didnt consult until after this product was purchased and assembled state that children as small as 5 lbs experience these same issues  In fact out of 43 reviews at the Babies R Us site almost every other one speaks of issues that people have found with this table  The overall review as of this writing is 33 out of 5 stars which equates to 67  I wouldnt expect my daughter to bring home grades like that once she enters school  and you should find such ratings for your products absolutely unacceptableWhat is even more disappointing is that this could have easily been averted had the table been given a similar design on both sides  A couple inches of plastic leg support on the floating side of the table could have braced it against the frame and completely avoided this issue  How could something like this even have made it past your design and quality control divisionsWhile the changing table situation is enough to sour me on this product I must also mention briefly some other problems with the productThe small sound machine that comes with this model plays at such a low volume that you can legitimately not hear here it in all but the quietest room  Standing 3 feet from the crib the sound couldnt be heard over a lower than normal conversational tone  While I understand there could be safety issues from glaring sounds this device errs way to far on the side of caution to be unusable  We have plenty of other noise making baby toys which dont suffer from these issues  If the baby is quiet enough to be able to hear these sounds they are most likely already asleep in a quiet room and dont need to be soothedI was also very surprised that the mobile was not electric  While your site does not specifically state the Babies R Us site which I have no doubt Graco writes andor approves the copy states as a feature Electronics module and mobile  This misleading combination of the two features infers that the mobile is indeed electronic and therefore would move of its own power  Not only does the mobile not move on its own its design is such that spinning it by hand causes it to move around maybe on 34 revolutions 23 seconds before the friction of its design causes it to stop  It is also placed at such a level that it would never be reachable at all by a child to play with or spin on its own perhaps from a safety issue that is best  So instead of a functional mobile what the child gets is the opportunity to stare at the feet of a few stationary turtlesWhile not incredible difficult to assemble the included instructions are poorly designed at best and misleading of incorrect at worst  I probably could have assembled the device in shorter order without referring to the instructions  For example why instruct the installation of the mattress in the bottom of the unit and then go back to instruct that it must be removed in order to configure the bassinet  Wont most people be assembling and using this as a bassinet first until their child grows into the playardI also find the advertising of these products as portable pack and plays a little absurd  While you can certainly collapse them to a smaller size the ability to fit them back into their original carriers is not an easy affair  Forget about trying to disassemble the accessories  snapping apart the mobile or attempting to remove the metal frame from the changing table fabric would certainly cause damage to these parts after several times  Additionally while my wife certainly is getting better muscle tone carting around a new child your prevalent advertisements with the mother toting the collapsed playard in one hand as if it were an empty picnic basket is patently absurdUnfortunately these last few complaints about the model seem to be inherent in most all of your Pack n Play models and as such I dont believe that returning this Dempsey model for another Graco playard would really make much of a difference  I suppose I could trade it for a cheaper model with no storage or changing table but the time and effort involved isnt worth the 6075 that would be saved  To be honest I am surprised based on the quality of this product that Graco has established such a reputation and large market share in the playard departmentI certainly wont be recommending these products in the future  Additionally I will be placing this review on both Amazon and the Babies R Us website  I invite you to answer these concerns at least in those forums should you choose not to respond to them hereThank you for your time but no thank you for the productSincerelyA Disappointed Customer \n",
      "\n",
      "I had to return this stroller for three reasons1 Straps are too small and my 15 month old who is average size2 The pictured armrest is not included3 Customer service phone numbers are disconnected I finally reached someone and our conversation was ended abruptly with a strange BEEEEP when I was in midsentence The person was nice enough to email photos of the straps since they assumed customers are idiots and I did not have them adjusted to maximum length before I made the callAllow me to go into detail about these straps First of all they are too small to fit any toddler The design of the seat and straps are not intuitive and it seems like the straps were an afterthought When fully expanded the straps just barely fit my daughter and I took her out of the stroller immediately because she was visibly uncomfortable I adjusted the shoulder height strap to the highest passage which is not easy to do and expanded the straps fully The clasp which attaches to the seat is positioned too far back and if moved forward would provide more room The measurements are completely off and it seems like they did not have any reasonable testing to support a 55 pound limit on this stroller I was very disappointed that I could not use this stroller after I spent the money and now all this time unpacking it and putting it together Now Ive spent even more time disassembling repacking sealing and requesting a return through Amazon What funBesides the straps issue the stroller is well made The seat fabric is quality The metal frame seems to be sturdy and the wheels although plastic are ready to ride I didnt have the opportunity to push my daughter but it glides smoothly with no weight in the seat The cupholder is nice but attaches to the frame of the stroller in an awkward position Another afterthought in their 34design34 process When I was putting the stroller together the little Zooper sticky logo came off the side of the frame which covered a screw hole It was just barely hanging on there with some sort of lame adhesive I tried to stick it back on but I expect it will fall off again soonSo I called the toll free customer service phone numbers on all of the printed materials and packing sheets which were in the box I reached a call center and the woman who answered had a heavy accent and no idea what I was talking about when I asked for Zooper customer service One number was out of service I tried the third number and the person who answered seems surprised at my phone call He was helpful but I dont think he really understood the seat design as I was explaining how the straps were already extended Its difficult to communicate this problem over the phone He mentioned that 34someone else34 had received a stroller with short straps Well why are they still selling this defective product He took my information and said they would be mailing a set of longer straps for the stroller We were disconnected suddenly I would hate to assume he hung up on me I was pleasant and accommodating to his request for information so he could help me I stated on the phone that I was considering returning the stroller because I cant use it and I was unhappy with the product Thats when the call ended I didnt have a chance to mention the armrest while on the phone but I responded to the email with a picture of this Amazon listing and said the armrest was not included That was 11 days ago and I have still not received the longer straps I have a feeling they arent coming and now Im just angry about the entire situation This is why I order on Amazon if I had purchased directly from this company I have a feeling Id never get a refund eitherThats about the size of it Im returning the stroller this week and spending a few more dollars to get the Joovy We needed a stroller three weeks ago this one is useless and Im tired of looking at it I paid 16589 for a hassle I still cant believe it cost 1789 to ship this piece of garbage but thats what it cost I expect a FULL refund \n",
      "\n",
      "I am so incredibly disappointed with the stroller I just dont even know where to begin  First of all I have four children and have been through many strollers  This stroller hands down is the worst stroller I have ever owned  I really wanted a double stroller that was somewhat compact but that would also accommodate an infant car seat  The Aria twin claims to be able to do thisCONS So first a foremost I would NEVER place an infant car seat on this stroller  Even with a Peg Perego infant car seat it is really unsteady while on the stroller  The tray the car seat rests on is super flimsy as in worse than a super cheap 40 dollar stroller In general the entire stroller is made of really flimsy cheapo plastic With two small children in it one that weights 22 pounds and the other only 15 pounds the stroller is really difficult to steer  When attempting to turn the entire plastic frame twists and feels like it is going to brake  It feels like trying to turn with two 100 pound kids overloading the stroller It feels like a really cheapo stroller From day one the storage basket under the kids has dragged on the ground  Yes it is installed correctly  I even called Peg Perego but they said there was nothing they could do  So now it has a giant hole in it and cannot be use Since about the second week we owned the stroller the tires on the wheels of the stroller keep randomly popping off  I will be walking in the mall and hear a thumpthumpthump sound only to see a tire half hanging on tot he wheel The cup holder is worthless and will not fit anything at all except maybe a small water bottle The sun shades are really really short I had to buy extensionsPRO It does fold very compactly as in much smaller than most single strollersI really wanted to love this stroller  I kept making excuses for it but finally just gave up  At this point my husband refuses to use it  We really have been through many strollers and none are perfect  However if you are looking for a somewhat compact but nice double stroller I would recommend looking at the Baby Jogger City Mini which is what I ended up buying to replace this stroller or maybe the Combi double stroller which our friends have and seem to really enjoy  I would not waste money on the Aria twin  I spent over 300 dollars on this stroller and cant even attempt to resell it because after less than a year of use it is basically trash which is what it wound up being  I dont know about other Peg Perego products but after my experience with this stroller I can honestly say Im not going to gamble my money on the brand again \n",
      "\n",
      "I thought it sounded great to have different tips for different body areas  But its impossible to keep my son still enough to get a reading with the underarm one and Ive gotten more Er 1 readings rectally than I have gotten temps  I know hes a squirmy kid but the tip stays in each time and the thermometer still doesnt get a reading  That makes me wonder about the accuracy of the ones it does giveEdited on 12711 to add  Today it took me 3 hours to figure out that the extremely annoying high pitched whine coming from some object in my sons room was in fact coming from this thermometer It nearly drove me insane first It had to be from the battery being dead but this was not mentioned in the instruction book I cannot stress to you enough just how headsplittinglyannoying this was I hope that whoever designed this has to listen to this sound for the rest of their natural life and that they live to be 150 I had to check everything in the general area of the sound because there wasnt any blinking light on the thermometer to call my attention to it specifically I unplugged the clock  nope not that I checked the phone line  nope not that I looked for a bullet hole from a hunter  nope not that I moved the antenna for our satellite radio  nope not that I turned off every single electronic device in the room  nope wasnt those I was finally removing every object from the room when I discovered that the thermometer was the infernal device for which I was looking The noise stopped when it hit the wall I am well known to throw like a girl but I threw this  device hard enough to pop off the battery cover no I didnt have a COIN in the bedroom of my toddler with which to turn it You have absolutely no idea how much consternation this caused in our house this morning My head is still splitting from the noise this thermometer made Our dogs still wont go upstairs I will NEVER again buy something from Safety 1st  \n",
      "\n",
      "My husband and I are VERY disappointed and shocked by how awful this bassinet is We ordered it because we liked the color and it looked nice and simple and it was inexpensive Well we got what we paid for1 It comes in 3 parts so you would think assembly would be a piece of cake EVERYTHING about assembling this is awful There are metal wires on the back that you have to force into these clips which is almost impossible because the wire is way too long I 10 months pregnant had to push the opposite side of the bassinet as hard as i could so my husband could try to get the wire into the clips that it comes with This took us a very long time2 Next we tried to pull the legs apart which were wedged together by all the screws and things attached3 THE CANOPY You would think this would be a sinch right The canopy wires or wine as they call them in the instructions was backwards The canonpy is so flimsy that it hardly is worthwhile Once we got the canopy wire turned around correctly we pushed as hard as possible to insert the canopy into the base and twice in about an hour the canopy already popped out which clearly poses a safety issue if there were a baby inside4 The wheels were very hard to insert to the point that they clicked in5 The instructions were obviously written by a nonEnglish speaking person Not only is the grammar horrific there are spelling errors and the instructions tell you NOTHING What does Pull forward to open pull afterward to close mean This is all that is given on how to insert the canopy Which again you would think would be self explanatory But when you are trying for 20 minutes to get it to insert and the wire is backwards you look for some sort of instruction The only instruction they do give is the obvious Again open canopy Ok thank you thats great HOW DO YOU INSERT IT PROPERLY6 Finally the color is very weird I wouldnt have even mentioned this if it wasnt so awful in every other way I thought it was going to be green but like a previous review said its blue and yellow plaid with green ruffles The sheet that comes with it is a very rough material The basket beneath seems impossible to get into as there is just a very small opening on the sides All of this I could have lived withI am so frustrated with this because we are having our baby in 3 days and the bassinet just arrived I was excited assuming we would have the bassinet in time for the baby Now it appears we are going to have to return it because it is so awfulIf we can figure out how to get this thing apart and no wonder it is out of stock everywhere no one wants to sell junk like this I was going to keep it and make do with it until the canopy continued to pop out I cant put my baby in something this unsafe And now its to the point where I am so frustrated with how poorly made this is that even though it was only 60 its the principle that I want something that will last through future children I have no idea where we are going to put our baby for the first week or so during the most exhausting period of motherhood Thanks a lot Dream on Me \n",
      "\n"
     ]
    }
   ],
   "execution_count": 14
  },
  {
   "cell_type": "code",
   "metadata": {
    "collapsed": true,
    "ExecuteTime": {
     "end_time": "2024-11-21T07:48:35.380376Z",
     "start_time": "2024-11-21T07:48:35.362856Z"
    }
   },
   "source": [
    "#d) \n",
    "accuracy = accuracy_score(test_df[\"rating\"], y_pred)\n",
    "print(accuracy)"
   ],
   "outputs": [
    {
     "name": "stdout",
     "output_type": "stream",
     "text": [
      "0.9325657401577164\n"
     ]
    }
   ],
   "execution_count": 15
  },
  {
   "cell_type": "markdown",
   "metadata": {},
   "source": [
    "## Exercise 5\n",
    "In this exercise we will limit the dictionary of CountVectorizer to the set of significant words, defined below.\n",
    "\n",
    "\n",
    "a) Redo exercises 2-5 using limited dictionary.   \n",
    "b) Check the impact of all the words from the dictionary.   \n",
    "c) Compare accuracy of predictions and the time of evaluation."
   ]
  },
  {
   "cell_type": "code",
   "metadata": {
    "collapsed": true,
    "ExecuteTime": {
     "end_time": "2024-11-21T07:48:35.482102Z",
     "start_time": "2024-11-21T07:48:35.467370Z"
    }
   },
   "source": [
    "significant_words = ['love','great','easy','old','little','perfect','loves','well','able','car','broke','less','even','waste','disappointed','work','product','money','would','return']"
   ],
   "outputs": [],
   "execution_count": 16
  },
  {
   "cell_type": "code",
   "metadata": {
    "collapsed": true,
    "ExecuteTime": {
     "end_time": "2024-11-21T07:48:58.552843Z",
     "start_time": "2024-11-21T07:48:35.581709Z"
    }
   },
   "source": [
    "#a)\n",
    "vectorizer = CountVectorizer(vocabulary=significant_words)\n",
    "X_train = vectorizer.fit_transform(train_df[\"review\"])\n",
    "print(vectorizer.get_feature_names_out())\n",
    "\n",
    "model_smaller = LogisticRegression()\n",
    "model_smaller.max_iter = 1000\n",
    "model_smaller.fit(X_train, train_df[\"rating\"])\n",
    "print(model_smaller.coef_)\n",
    "coefficients = model_smaller.coef_[0]\n",
    "words = vectorizer.get_feature_names_out()\n",
    "sorted_names = np.argsort(coefficients)\n",
    "print(\"10 most negative words:\")\n",
    "for i in range(10):\n",
    "    print(words[sorted_names[i]])\n",
    "print(\"10 most positive words:\")\n",
    "for i in range(10):\n",
    "    print(words[sorted_names[-i]])\n",
    "\n",
    "y_pred = model_smaller.predict(vectorizer.transform(test_df[\"review\"]))\n",
    "print(y_pred)\n",
    "\n",
    "y_pred_proba = model_smaller.predict_proba(vectorizer.transform(test_df[\"review\"]))\n",
    "print(y_pred_proba)\n",
    "\n",
    "best_reviews = np.argsort(y_pred_proba[:,1])[-5:]\n",
    "worst_reviews = np.argsort(y_pred_proba[:,1])[:5]\n",
    "print(\"5 most positive reviews:\")\n",
    "for i in range(5):\n",
    "    print(test_df[\"review\"].iloc[best_reviews[i]], \"\\n\")\n",
    "\n",
    "print(\"5 most negative reviews:\")\n",
    "for i in range(5):\n",
    "    print(test_df[\"review\"].iloc[worst_reviews[i]], \"\\n\")\n",
    "accuracy = accuracy_score(test_df[\"rating\"], y_pred)\n",
    "print(accuracy)"
   ],
   "outputs": [
    {
     "name": "stdout",
     "output_type": "stream",
     "text": [
      "['love' 'great' 'easy' 'old' 'little' 'perfect' 'loves' 'well' 'able'\n",
      " 'car' 'broke' 'less' 'even' 'waste' 'disappointed' 'work' 'product'\n",
      " 'money' 'would' 'return']\n",
      "[[ 1.35900018  0.93088153  1.19322423  0.07344137  0.50243139  1.51506778\n",
      "   1.68497171  0.49619639  0.19326954  0.0745294  -1.68064024 -0.20157026\n",
      "  -0.4897191  -1.97957053 -2.39875109 -0.63564887 -0.31372724 -0.94642423\n",
      "  -0.34223904 -2.09283648]]\n",
      "10 most negative words:\n",
      "disappointed\n",
      "return\n",
      "waste\n",
      "broke\n",
      "money\n",
      "work\n",
      "even\n",
      "would\n",
      "product\n",
      "less\n",
      "10 most positive words:\n",
      "disappointed\n",
      "loves\n",
      "perfect\n",
      "love\n",
      "easy\n",
      "great\n",
      "little\n",
      "well\n",
      "able\n",
      "car\n",
      "[1 1 1 ... 1 1 1]\n",
      "[[0.07624749 0.92375251]\n",
      " [0.21395717 0.78604283]\n",
      " [0.21395717 0.78604283]\n",
      " ...\n",
      " [0.04229028 0.95770972]\n",
      " [0.10860443 0.89139557]\n",
      " [0.09165205 0.90834795]]\n",
      "5 most positive reviews:\n",
      "UPDATE 112013  I went ahead and used a tiny bit of WD40 and also thoroughly cleaned the carseat base and stroller and all the mechanisms started working like new again  No more issues opening or closing the stroller and no more issues getting the seat out of the baseMy child was finally moved out of this seat at 14 months and placed in a transitional carseat rear facing of course and I sold the entire system on craigs list for 150 including two bases  For something I got so much use out of to be able to resell it for that amount of money is unheard of  I even had people offering me more after I had already sold it  So I am now convinced this was a very smart purchase and I sure got a lot of use out this travel system  I am not going to lie I was almost tearful seeing it go to a new home I had become that attached UPDATE 72313  Okay I have been using the heck out of this travel system for 11 months now  I am not as enamored with the system as I was when I first bought it and here is why1 The fabric gets very very very dirty and grungy looking and it hard to take apart and clean2 The stroller no longer easily opens with one handI have to play with it  I am afraid it is due to all the use we use this thing a lot and it has been on a lot of plane rides but the mechanism is frustrating now  I am going to try some WD40 soon to see if that will help3 My kid is 11 months old and still uses it so that is a BONUS  Yeah a break from buying more car seats for a while  He is  big kid too4 The mechanism for getting the car seat out of the base is kind of tricky now too  Most of the times it is fine but some days I dont think I will ever get it to unlatchI still like it but for the price tag I would get a Britax stroller and infant car seat combo in the future if I ever have more childrenI am a 3rd time mom but it has been 5 years since my last baby  I wanted a car seat with a stroller that would be easy to use by myself and would be easy to install in the car  I also wanted a one with a good safety rating  So after reading multiple reviews and consumer reports on many different travel systems I found this one and went ahead and took the plunge site unseen they dont carry Chicco at our local walmart and I live hours away from a store that does  My baby is now 5 weeks old and I have been using the heck out of the system so here is what I think so farCar seat prosThe car seat is EASY take in and out of the base  I had a Graco Snuggleride with my last one and I thought that was easy but the Chicco blows it away  It was also super easy to install in my car and in my SUV  The clips to attach to the LATCH system and really easy to use and the level makes it easy to know you have a the proper angle for the seat  It was much more difficult with the Graco seat that is for sure  The straps are easy to use and adjust and the car seat looks very nice and stylish  I got the Miro patterned fabric and it is lovely and gender neutral which was a big deal to me because this was a surprise baby  It just looks and feels to be of high qualityCar seat consThis seat is heavy I carry it a lot but I always opt to use the stroller with the car seat it I am going to be walking any short distance because the seat with my baby just seems like a lot to lug around  I know my Graco one wasnt this heavy  Also it doesnt fit into a shopping cart very easily making shopping with baby without the assistance of another person pretty difficult  I finally started just carrying my infant son with my baby Ktan and leaving the car seat in the car  Now you can turn the car seat sideways on top of the cart or fit it in the actual cart but that leaves little room for anything else and there is safety issues too  So if you are a single parent or dont have a lot of help with going grocery shopping this could be a concern for you while baby is small and cant sit up by themselvesStroller prosFirst off I LOVE this stroller  I have NEVER had a stroller that is so easy to use and pushes through any terrain with such ease  I keep this stroller in the back of my vehicle at all times and I pull it out and use it so much  I can easily open this stroller with one hand and fold it with one hand  That is literally unheard of in stroller land even with a cheap little umbrella stroller  I have taken this stroller on a nature path full of uneven rocky terrain without a hiccup it rides so smooth  The car seat fits in so easily to the stroller making it basically effortless to get going even when I have 2 older boys and a infant get around by myself  Also I am on the tall side 59 for a girl and I love the adjustable height of the handle  no longer will I kill my back pushing a stroller  I know when my kiddo outgrows the car seat we will still use this stroller for a few years  It has a nice big basket at the bottom multiple drink holders a snack tray and a small item tray for the parent too  I have honestly used this stroller way more than I used the Graco one the entire time I owned it  I think this stroller really makes the travel system  The car seat itself is great but the stroller really takes this system to another level  Did I mention how easy it is to open and fold the stroller and you can do it with one hand  Seriously I cant say enough about this strollerStroller consThe only con I can find right now is that this stroller is massive  I have a Honda Pilot and it takes up a good chunk of my back storage areaand that is saying something  Someone with a smaller vehicle would probably need to see the stroller folded to tell if they are going to have room for it in their vehicleAll in all this is a great system for myself but I dont think it would work for everyone with the weight of the car seat and how big the stroller is  Probably be best to view and get your hands on the system in person before buying \n",
      "\n",
      "I did tons of research on strollers I knew I wanted a stroller that was light all terrain that could handle jogging and easy maneuverability My husband thought I was nuts for putting so much time into our small investment It came down to a mountain buggy urban and bumbleride indie I am beyond elated I chose the Bumbleride for our 5 month old DD1 easy to out together2 very light3 movespushes like buttah So easy especially when jogging I dont jog in a straight line yet My path has lots of turns so I dont lock the front wheel and it does great I easly jog with 1 arm freeswinging the other has the jogging strap around my wrist and pushing4 big basket I can put much more in it than my Chicco stroller5 canopy  it does exactly what its meant for Its huge and does its job well I live in Louisiana and its quite sunny here The canopy can shade my DD all the way to her toes It almost is like a cocoon  She loves it6 folds well overall Id give it a 7 I dont think youre going to find another stroller with a more compact fold with all the other great features the indie has I own a suburban so its not a room issue for me Its a little tricky at first but easy once you get it7 recline I like that it doesnt have stations Just squeeze the thingie and let as much in or out Easy to useI do wish it had a trayrack for the pusher to put stuff Mine did come with a cup holder you can attach 2 1 on either side The canopy has a zipper pouch that can old keys and a cell phone and more little thingsOverall I love this stroller Its a great smooth ride My DD falls asleep during our walks all the time I know it will grow with her I ordered mine and did not get the opportunity to test drive any I Know I made the right choiceUpdate 5232012My mother just bought a Phil  Teds Classic to keep at her house for when we visit There is no comparison Bumbleride is a much better push and easier to collapsefold Seriously I was shocked at how different the pushes where Our Bumbleride is sooo smooth I can whip it around when going through push doors Ive been doing some walkingrunning intervals and it handles so well After all the research I did I could not be happier with our Bumbleride \n",
      "\n",
      "Weve been using Britax for our boy now 14 months old since his very first moments leaving the hospital  Thankfully cost was not part of our consideration so we went with the best seat we could find  Britax has been good but I wish we had found the Pria  Its a terrific car seatThree best parts so far1  Head control2  Style3  Cup holder4  Soft easy to clean fabricHead control  My biggest concern with other car seats has been his head  When our son sleeps in the car he tilts his head to the side much like my father does now  But with my Dad I dont worry too much because he always seems to wake up after a few minutes and straighten out  But babies dont seem to do that well and Ive been concerned that hes closing off airway or blood to his head  Im not a doctor but it doesnt look good to me  Weve tried rolling his little blanket and stuffing it by his neck like an airplane pillowto no avail  He just tosses it on the seat  This seat has a great system for controlling his headStyle  This seat is attractive  We never used the infant insert but it has an elegant shape to it  The rest of the seat looks good too  I know its not a big concern but I do appreciate great designCup holder  It has a perfectly placed cup holder  We use the Uppababy stroller and it has a great tray where our son has become used to storing his cell phone and other things  Without a cup holder close to his hands in our car everything sits between his knees which makes it all tough to reach  Prias solution is perfect and I dont find myself reaching into the back seat as muchGreat fabric  We love the soft feel of this seat  Its almost like a good pillow  And the fabric has proven quite easy to cleanOverall were thrilled with the seatHope you enjoy yours tooPhilUPDATE Its been over a year now and we remain thrilled with this seat We kept the Britax so wed have an extra seat in the car for James friends to ride together with us Night and day this seat remains the hands down winner for easy buckling in easy cleaning and comfort And the cup holder continues to be the perfect place for drinks snacks or a little toy carWasnt sure this seat would make it this long as the fabric doesnt feel as tough as the Britax But it sure has Whatever they used is as easy to work with now as the day this one arrived And remains easy to clean Were having another one soon so the Britax will be moving to the middle seat to make room for another MaxiCosiAny recommendations on a new color \n",
      "\n",
      "We love this highchair  We have a 4 year old and an 8 month old  This is our 3rd highchairFeatures we loveFit  This chair FITS my infant daughter  She fits in this chair without the extra insert way better than in the basic Evenflo chair we had before  I only use the 3point harness and let her shoulders be free and she sits at a correct level so her arms can move around well and she can lean and reach for things on the tray  Many other chairs have a real problem with fit  So I do believe that with the insert this is the perfect chair to start your 4 month infant in for feeding  The insert will make them more secure kind of like their carseatTray Insert  With our other chairs the tray clicks down into the larger tray all the way aroundyou can remove it for cleaning  Fine  But I always hated that food got into the crack nearest to the baby so I couldnt just wipe it downI HAD to remove it to get out all the gunk  The tray on this is so smartthe edge closest to the baby wraps all the way down and clicks under the lip of the large trayone smooth surface where all the food is landing  I love itUpholstry  I love this leather look  It cleans easy and is really cushy  The part that is designed to match other Graco gear is just an insert for small infants  The rest of it is just a tan color and it matches anythingSturdiness  I cant tell you how much safer I feel my daughter is in thisit is solid  I never felt terribly comfortable reclining her in other seats but this one is made well and I am not worriedVersitality  This is one of the best parts  We bought this and now we are using both the highchair for our 8 month old daughter and the booster for our 4 year old son  Here is how it works  Basically it is like a high chair with 2 bases  Both bases are toddler chairs themselves  I will call them the rolling base and the chair base  So you have a toddler seat attached to the rolling base and another toddler seat that you can attach with straps to a chair the chair base  Then you can take the separate highchair part and click it into the rolling base or to the chair base whichever you like  Then the unused base becomes a toddler chair  One might think that you could sit 3 children2 toddlers in the bases and then an infant in the highchair part but the highchair really needs to click into a base because it is not designed to be on its own  The highchair with the chair base would be great to take when traveling especially if you just use the snack tray and leave the large tray at home  And the toddler seat that is attached to the highchair frame is truly good for getting under tables with a lip because of its low sides unlike many toddler seats that come up too far and you cant scoot them under the tableWorth notingI see no problem with the snack tray  At 8 months my daughter fits fine and it is half as big as the traya great size snack tray  And it has its own separate cup holder  You really dont need the snack tray before they start feeding themselves so I cant see it being a problem at the age you would need itAdjustable foot rest  I just love this and it just makes it better for the baby to have more support  My 8 month old cant touch the highest setting yet but probably within 6 months or soToddler seat  I thought it was extra great that they include an adjustable backthere are 3 slots to put slide a back into the chairthat way you can match the length of the chair to your childs legs  My 4 year old is big enough that we removed the back and let him sit all the way back in order that is knees bend in the right place  But I can see where this would be a great feature for perfect fit through the yearsThis really is a great chair for every possible use infant toddler preschooler traveling having an extra seat if you have other kids over to your house  The system will seat 2 children at once 1 baby with tray and 1 older child OR 2 older childrenWe love thisworth every penny \n",
      "\n",
      "We bought this stroller after selling our beloved BOB rev on craigslist We used the BOB for 9 months for my son but it just wasnt practical I dont jogrun it didnt have a big basket and was very bulky to take into stores quickly However I did love how it unfolded easily but it was heavy to fold up and lift into my small trunk myself Overall I didnt realize what Id need in a stroller until AFTER I had my son Live  learn We did love how easily the BOB would go over pretty much anything Nevertheless we sold it and after extensive research on strollers we decided it was between the uppababy brand because of the large baskets OR the city mini GT because of its easy fold up design After looking over both strollers I decided on the uppababy cruz because of a few main factors It SITS UP I cant tell you how much my son hates being reclined when he is just riding in the stroller and not napping The BOB and the City Mini had a slight recline and he always tried sitting more upright The uppababy sits up like your sitting in a chair He loves it It also reclines nearly flat The foot rest can be positioned upwards so that its as if he is sitting on the floor because he is so upright and his feet are out in front of him Also the LARGE basket was a HUGE plus I cant tell you how great evvvvverything fits in there Its perfect and soooo easily accessable The city mini gt did NOT have a big enough basket for me and there for was not the right choice for me despite the very easy fold up The true test for us was this past weekend when we took it to Maine on a camping trip YES it is no BOB However I thought it was just fine over the rough bumps of a campground Bumpy ride Yes But nothing my 10 month old couldnt handle and honestly It wasnt that bad We took it to old orchard beach and as I suspected it didnt roll over the sand like my good old BOB did But it rolls really nicely on pavement and I just carried my son over to the beach and I figure he will be 1 soon enough and walking so I wont need the stroller on the beach anyways I also love the reversable seat that comes in handy because my son is going through some sort of attachment to mommy thing so he likes being able to face me from time to time I also love that the Cruz is a less expencive option to the Vista The vista is much much heavier and a little bigger And since we didnt need the extras that the Vista comes with this was the better option for us Also I called Uppababy and asked about a belly bar and toddler board for the cruz and they told me that BOTH would be available The belly bar will be out this summer and the board is in producton huge plus So for us this stroller was a hit but as anything goes you MUST research what YOU need in a stroller and figure out whats important to you Some people dont care about a big basket and in that case id for sure go with the City mini gtUPDATE1713We are in LOVE with this stroller still It fits great in the trunk of my saturn ion and how I fold it is I take the seat off first takes 1 second and then fold the frame I found it fits and folds better that way plus some times my son likes to sit forward and sometimes backwards still so I just set up the frame and then throw the seat on top depending on which way i think he wants to sit The basket is just my fave feature I cant tell you how happy I have been with the uppababby My son is 16 months old and loves sitting in his uppababy well worth it still \n",
      "\n",
      "5 most negative reviews:\n",
      "Looks really cute however the cloth smells funny and gave my baby some rash after 15 mins wearingRequested a return need to pay 25 restocking fee plus shipping25 order maybe 5 back eventuallyAlso the return must be brand new condition Really UnbelievableDo yourself a favor and See the return policy by yourself before making an orderHelloBelow is return instructions this item must not be worn or used or the return will not be refundedThank you for ordering from us Here is your RMA as well as return instructions All returns must be in brand new original condition Please read our return policy Return policy link is provided for you in this emailAll refunds issued are determined by the outcome of inspections Any return of costumes used worn signs of pet hair human hair or washed will void all refund All boxes for shoes NEED to be unmarked and in original condition ALL returns NEED to be in original packaging to qualify for an authorized returnPlease note If you are returning a costume and need a different size we suggest that you place a new order for the item you need This will insure that you get the item quicker If you order from us simply email us your new order and we will waive the restocking fee on your returnsReturn Instructions ALL RETURNS NEED TO BE IN ORIGINAL PACKAGINGItems MUST BE POSTMARKED WITHIN 3 DAYS of  RECEIVING RMA TodaySimply repackage itemon the outside of the packaging please write RMAWe do not cover shipping so please feel free to use any shippingmethod you likeItem is also subject to a 25 restocking fee and all incurred shipping costs associated  with this returnShip to Brands on Sale \n",
      "\n",
      "I loved all the features of the car seat  It is an awesome car seat and you could take it from one car to another and adjust from rearfacing infant to forward facing 4 yo in a minute or two  The features are awesomeI purchased this about a week ago  Although I loved the ease of use for me I was unhappy with my 2 yos posture  regardless of the incline used  I decided to return it  As a PT Im particular about posture  The back of the seat is more curved than out Chicco key fit with the legs slightly elevated and therefore creating a rounded postureI was SHOCKED  when I went to return the item purchased through AMAZON LLC  that I couldnt print a return label  Turns out this is a NON returnable item  Its not that you would even have to pay for the return shipping  you cant return it AT ALL  I even double checked and the vendor was definitely AMAZON  Not an outside VendorAs someone who buys thousands of dollars worth of stuff directly from Amazon I was really surprised  Ive never encountered anything like this and Ive returned things in the past  It is usually very simpleI dont think there was any warning when I bought it that it was non returnable  I definitely cant find any sort of warning on product page nowDouble check with the vendor before you buy this if you think there is even the slightest chance you will want to return it \n",
      "\n",
      "I searched for Baby Blanket Made in the USA and the Manual Woodworkers Tiny Talks Travel Blanket showed as a result  I was very excited and added it to my registry  I was also very excited when I opened the gift but was soon very disappointed to see that although is says clearly and in large print on the actual blanket Made in the USA the tag on the blanket says Made in China  I was disgusted  I understand if the manufacturer was stating that the baby is made in the USA but really it wouldnt be difficult to actually manufacture this blanket in the USA and really have something to be proud of  Plenty of companies manufacture blankets in the USA and they are excellent quality and a great value with a low priceAnimals on the Farm Baby Blanket  Made in the USASheetWorld Fitted Crib  Toddler Sheet  Monster Trucks Blue  Made In USAIt can be done and I am disappointed in this companys false advertising  When I tried to return the product out of principal I received a confused response from the seller about how they dont understand Amazons return policy and I was unable to respond to that message  I have been very disappointed in Amazons ease of returns from third party suppliers  I will not be purchasing items through Amazon that are from a third party supplier any more  I have also been completely disgusted with Amazons customer service online  It is too bad the item could be a real winner if it had just actually been made in the USA or at least the online description could have stated that it was manufactured in China \n",
      "\n",
      "I received this glider and it was broke and wood was chipped off on the seat  It looked like it was poorly packaged since the two glider bases were side by side without foam between them  Amazon would not let me choose a preprinted return label as one of my options for return  I could only take it to UPS  The box was huge and heavy and very difficult to transport  It cost 86 to return well over the 34 Amazon said they would reimburse  I am now waiting to see if I will get the full amount refunded when my return was recieved by Amazon  I was very unhappy with what I had to go through when the chair was broken when received \n",
      "\n",
      "My wife and I were looking for a monitor for our second son and we thought this one looked pretty good We read some great reviews and decided to get it It is a waste of money The Out of Range alarm beeps regularly when I am in the same house less than 75 ft away from our son Its nice to have the rechargeable battery but other than that this is really a waste Our house isnt huge but its big enough to present a problemOur other son had a monitor that wasnt available where we purchased this one we moved recently and we love that one The range is amazing 200 ft I took our trash to the dumpster and I was still able to hear my mother and wife talking in it We lived in seminary housing and the walls were concrete so thats amazing The Sony doesnt even work in our current house with regular wallsConsidering that this is made from a decent company we are very disappointed with the way it turned out I hope someone will read this review and not purchase this monitorI wish we had read enough negative reviews to stay away from it A waste of money \n",
      "\n",
      "0.8689994303019399\n"
     ]
    }
   ],
   "execution_count": 17
  },
  {
   "metadata": {
    "collapsed": true,
    "ExecuteTime": {
     "end_time": "2024-11-21T07:48:58.657091Z",
     "start_time": "2024-11-21T07:48:58.634371Z"
    }
   },
   "cell_type": "code",
   "source": [
    "#b)\n",
    "specific_word = \"good\"  # przykład konkretnego słowa\n",
    "index = vectorizer.vocabulary_.get(specific_word)  # Indeks słowa w macierzy wektorów\n",
    "print(f\"Współczynnik dla słowa '{specific_word}': {coefficients[index]}\")\n"
   ],
   "outputs": [
    {
     "name": "stdout",
     "output_type": "stream",
     "text": [
      "Współczynnik dla słowa 'good': [[ 1.35900018  0.93088153  1.19322423  0.07344137  0.50243139  1.51506778\n",
      "   1.68497171  0.49619639  0.19326954  0.0745294  -1.68064024 -0.20157026\n",
      "  -0.4897191  -1.97957053 -2.39875109 -0.63564887 -0.31372724 -0.94642423\n",
      "  -0.34223904 -2.09283648]]\n"
     ]
    }
   ],
   "execution_count": 18
  },
  {
   "metadata": {
    "ExecuteTime": {
     "end_time": "2024-11-21T07:49:09.114998Z",
     "start_time": "2024-11-21T07:48:58.893314Z"
    }
   },
   "cell_type": "code",
   "source": [
    "#c)\n",
    "\n",
    "time = %timeit -o model.predict(vectorizer.transform(test_df[\"review\"]))\n",
    "print(time)\n",
    "time = %timeit -o model_smaller.predict(vectorizer.transform(test_df[\"review\"]))\n",
    "print(time)\n",
    "#hint: %time, %timeit"
   ],
   "outputs": [
    {
     "ename": "ValueError",
     "evalue": "X has 20 features, but LogisticRegression is expecting 121805 features as input.",
     "output_type": "error",
     "traceback": [
      "\u001B[1;31m---------------------------------------------------------------------------\u001B[0m",
      "\u001B[1;31mValueError\u001B[0m                                Traceback (most recent call last)",
      "Cell \u001B[1;32mIn[19], line 3\u001B[0m\n\u001B[0;32m      1\u001B[0m \u001B[38;5;66;03m#c)\u001B[39;00m\n\u001B[1;32m----> 3\u001B[0m time \u001B[38;5;241m=\u001B[39m get_ipython()\u001B[38;5;241m.\u001B[39mrun_line_magic(\u001B[38;5;124m'\u001B[39m\u001B[38;5;124mtimeit\u001B[39m\u001B[38;5;124m'\u001B[39m, \u001B[38;5;124m'\u001B[39m\u001B[38;5;124m-o model.predict(vectorizer.transform(test_df[\u001B[39m\u001B[38;5;124m\"\u001B[39m\u001B[38;5;124mreview\u001B[39m\u001B[38;5;124m\"\u001B[39m\u001B[38;5;124m]))\u001B[39m\u001B[38;5;124m'\u001B[39m)\n\u001B[0;32m      4\u001B[0m \u001B[38;5;28mprint\u001B[39m(time)\n\u001B[0;32m      5\u001B[0m time \u001B[38;5;241m=\u001B[39m get_ipython()\u001B[38;5;241m.\u001B[39mrun_line_magic(\u001B[38;5;124m'\u001B[39m\u001B[38;5;124mtimeit\u001B[39m\u001B[38;5;124m'\u001B[39m, \u001B[38;5;124m'\u001B[39m\u001B[38;5;124m-o model_smaller.predict(vectorizer.transform(test_df[\u001B[39m\u001B[38;5;124m\"\u001B[39m\u001B[38;5;124mreview\u001B[39m\u001B[38;5;124m\"\u001B[39m\u001B[38;5;124m]))\u001B[39m\u001B[38;5;124m'\u001B[39m)\n",
      "File \u001B[1;32m~\\anaconda3\\Lib\\site-packages\\IPython\\core\\interactiveshell.py:2480\u001B[0m, in \u001B[0;36mInteractiveShell.run_line_magic\u001B[1;34m(self, magic_name, line, _stack_depth)\u001B[0m\n\u001B[0;32m   2478\u001B[0m     kwargs[\u001B[38;5;124m'\u001B[39m\u001B[38;5;124mlocal_ns\u001B[39m\u001B[38;5;124m'\u001B[39m] \u001B[38;5;241m=\u001B[39m \u001B[38;5;28mself\u001B[39m\u001B[38;5;241m.\u001B[39mget_local_scope(stack_depth)\n\u001B[0;32m   2479\u001B[0m \u001B[38;5;28;01mwith\u001B[39;00m \u001B[38;5;28mself\u001B[39m\u001B[38;5;241m.\u001B[39mbuiltin_trap:\n\u001B[1;32m-> 2480\u001B[0m     result \u001B[38;5;241m=\u001B[39m fn(\u001B[38;5;241m*\u001B[39margs, \u001B[38;5;241m*\u001B[39m\u001B[38;5;241m*\u001B[39mkwargs)\n\u001B[0;32m   2482\u001B[0m \u001B[38;5;66;03m# The code below prevents the output from being displayed\u001B[39;00m\n\u001B[0;32m   2483\u001B[0m \u001B[38;5;66;03m# when using magics with decorator @output_can_be_silenced\u001B[39;00m\n\u001B[0;32m   2484\u001B[0m \u001B[38;5;66;03m# when the last Python token in the expression is a ';'.\u001B[39;00m\n\u001B[0;32m   2485\u001B[0m \u001B[38;5;28;01mif\u001B[39;00m \u001B[38;5;28mgetattr\u001B[39m(fn, magic\u001B[38;5;241m.\u001B[39mMAGIC_OUTPUT_CAN_BE_SILENCED, \u001B[38;5;28;01mFalse\u001B[39;00m):\n",
      "File \u001B[1;32m~\\anaconda3\\Lib\\site-packages\\IPython\\core\\magics\\execution.py:1185\u001B[0m, in \u001B[0;36mExecutionMagics.timeit\u001B[1;34m(self, line, cell, local_ns)\u001B[0m\n\u001B[0;32m   1183\u001B[0m \u001B[38;5;28;01mfor\u001B[39;00m index \u001B[38;5;129;01min\u001B[39;00m \u001B[38;5;28mrange\u001B[39m(\u001B[38;5;241m0\u001B[39m, \u001B[38;5;241m10\u001B[39m):\n\u001B[0;32m   1184\u001B[0m     number \u001B[38;5;241m=\u001B[39m \u001B[38;5;241m10\u001B[39m \u001B[38;5;241m*\u001B[39m\u001B[38;5;241m*\u001B[39m index\n\u001B[1;32m-> 1185\u001B[0m     time_number \u001B[38;5;241m=\u001B[39m timer\u001B[38;5;241m.\u001B[39mtimeit(number)\n\u001B[0;32m   1186\u001B[0m     \u001B[38;5;28;01mif\u001B[39;00m time_number \u001B[38;5;241m>\u001B[39m\u001B[38;5;241m=\u001B[39m \u001B[38;5;241m0.2\u001B[39m:\n\u001B[0;32m   1187\u001B[0m         \u001B[38;5;28;01mbreak\u001B[39;00m\n",
      "File \u001B[1;32m~\\anaconda3\\Lib\\site-packages\\IPython\\core\\magics\\execution.py:173\u001B[0m, in \u001B[0;36mTimer.timeit\u001B[1;34m(self, number)\u001B[0m\n\u001B[0;32m    171\u001B[0m gc\u001B[38;5;241m.\u001B[39mdisable()\n\u001B[0;32m    172\u001B[0m \u001B[38;5;28;01mtry\u001B[39;00m:\n\u001B[1;32m--> 173\u001B[0m     timing \u001B[38;5;241m=\u001B[39m \u001B[38;5;28mself\u001B[39m\u001B[38;5;241m.\u001B[39minner(it, \u001B[38;5;28mself\u001B[39m\u001B[38;5;241m.\u001B[39mtimer)\n\u001B[0;32m    174\u001B[0m \u001B[38;5;28;01mfinally\u001B[39;00m:\n\u001B[0;32m    175\u001B[0m     \u001B[38;5;28;01mif\u001B[39;00m gcold:\n",
      "File \u001B[1;32m<magic-timeit>:1\u001B[0m, in \u001B[0;36minner\u001B[1;34m(_it, _timer)\u001B[0m\n",
      "File \u001B[1;32m~\\anaconda3\\Lib\\site-packages\\sklearn\\linear_model\\_base.py:351\u001B[0m, in \u001B[0;36mLinearClassifierMixin.predict\u001B[1;34m(self, X)\u001B[0m\n\u001B[0;32m    337\u001B[0m \u001B[38;5;250m\u001B[39m\u001B[38;5;124;03m\"\"\"\u001B[39;00m\n\u001B[0;32m    338\u001B[0m \u001B[38;5;124;03mPredict class labels for samples in X.\u001B[39;00m\n\u001B[0;32m    339\u001B[0m \n\u001B[1;32m   (...)\u001B[0m\n\u001B[0;32m    348\u001B[0m \u001B[38;5;124;03m    Vector containing the class labels for each sample.\u001B[39;00m\n\u001B[0;32m    349\u001B[0m \u001B[38;5;124;03m\"\"\"\u001B[39;00m\n\u001B[0;32m    350\u001B[0m xp, _ \u001B[38;5;241m=\u001B[39m get_namespace(X)\n\u001B[1;32m--> 351\u001B[0m scores \u001B[38;5;241m=\u001B[39m \u001B[38;5;28mself\u001B[39m\u001B[38;5;241m.\u001B[39mdecision_function(X)\n\u001B[0;32m    352\u001B[0m \u001B[38;5;28;01mif\u001B[39;00m \u001B[38;5;28mlen\u001B[39m(scores\u001B[38;5;241m.\u001B[39mshape) \u001B[38;5;241m==\u001B[39m \u001B[38;5;241m1\u001B[39m:\n\u001B[0;32m    353\u001B[0m     indices \u001B[38;5;241m=\u001B[39m xp\u001B[38;5;241m.\u001B[39mastype(scores \u001B[38;5;241m>\u001B[39m \u001B[38;5;241m0\u001B[39m, \u001B[38;5;28mint\u001B[39m)\n",
      "File \u001B[1;32m~\\anaconda3\\Lib\\site-packages\\sklearn\\linear_model\\_base.py:332\u001B[0m, in \u001B[0;36mLinearClassifierMixin.decision_function\u001B[1;34m(self, X)\u001B[0m\n\u001B[0;32m    329\u001B[0m check_is_fitted(\u001B[38;5;28mself\u001B[39m)\n\u001B[0;32m    330\u001B[0m xp, _ \u001B[38;5;241m=\u001B[39m get_namespace(X)\n\u001B[1;32m--> 332\u001B[0m X \u001B[38;5;241m=\u001B[39m \u001B[38;5;28mself\u001B[39m\u001B[38;5;241m.\u001B[39m_validate_data(X, accept_sparse\u001B[38;5;241m=\u001B[39m\u001B[38;5;124m\"\u001B[39m\u001B[38;5;124mcsr\u001B[39m\u001B[38;5;124m\"\u001B[39m, reset\u001B[38;5;241m=\u001B[39m\u001B[38;5;28;01mFalse\u001B[39;00m)\n\u001B[0;32m    333\u001B[0m scores \u001B[38;5;241m=\u001B[39m safe_sparse_dot(X, \u001B[38;5;28mself\u001B[39m\u001B[38;5;241m.\u001B[39mcoef_\u001B[38;5;241m.\u001B[39mT, dense_output\u001B[38;5;241m=\u001B[39m\u001B[38;5;28;01mTrue\u001B[39;00m) \u001B[38;5;241m+\u001B[39m \u001B[38;5;28mself\u001B[39m\u001B[38;5;241m.\u001B[39mintercept_\n\u001B[0;32m    334\u001B[0m \u001B[38;5;28;01mreturn\u001B[39;00m xp\u001B[38;5;241m.\u001B[39mreshape(scores, (\u001B[38;5;241m-\u001B[39m\u001B[38;5;241m1\u001B[39m,)) \u001B[38;5;28;01mif\u001B[39;00m scores\u001B[38;5;241m.\u001B[39mshape[\u001B[38;5;241m1\u001B[39m] \u001B[38;5;241m==\u001B[39m \u001B[38;5;241m1\u001B[39m \u001B[38;5;28;01melse\u001B[39;00m scores\n",
      "File \u001B[1;32m~\\anaconda3\\Lib\\site-packages\\sklearn\\base.py:654\u001B[0m, in \u001B[0;36mBaseEstimator._validate_data\u001B[1;34m(self, X, y, reset, validate_separately, cast_to_ndarray, **check_params)\u001B[0m\n\u001B[0;32m    651\u001B[0m     out \u001B[38;5;241m=\u001B[39m X, y\n\u001B[0;32m    653\u001B[0m \u001B[38;5;28;01mif\u001B[39;00m \u001B[38;5;129;01mnot\u001B[39;00m no_val_X \u001B[38;5;129;01mand\u001B[39;00m check_params\u001B[38;5;241m.\u001B[39mget(\u001B[38;5;124m\"\u001B[39m\u001B[38;5;124mensure_2d\u001B[39m\u001B[38;5;124m\"\u001B[39m, \u001B[38;5;28;01mTrue\u001B[39;00m):\n\u001B[1;32m--> 654\u001B[0m     \u001B[38;5;28mself\u001B[39m\u001B[38;5;241m.\u001B[39m_check_n_features(X, reset\u001B[38;5;241m=\u001B[39mreset)\n\u001B[0;32m    656\u001B[0m \u001B[38;5;28;01mreturn\u001B[39;00m out\n",
      "File \u001B[1;32m~\\anaconda3\\Lib\\site-packages\\sklearn\\base.py:443\u001B[0m, in \u001B[0;36mBaseEstimator._check_n_features\u001B[1;34m(self, X, reset)\u001B[0m\n\u001B[0;32m    440\u001B[0m     \u001B[38;5;28;01mreturn\u001B[39;00m\n\u001B[0;32m    442\u001B[0m \u001B[38;5;28;01mif\u001B[39;00m n_features \u001B[38;5;241m!=\u001B[39m \u001B[38;5;28mself\u001B[39m\u001B[38;5;241m.\u001B[39mn_features_in_:\n\u001B[1;32m--> 443\u001B[0m     \u001B[38;5;28;01mraise\u001B[39;00m \u001B[38;5;167;01mValueError\u001B[39;00m(\n\u001B[0;32m    444\u001B[0m         \u001B[38;5;124mf\u001B[39m\u001B[38;5;124m\"\u001B[39m\u001B[38;5;124mX has \u001B[39m\u001B[38;5;132;01m{\u001B[39;00mn_features\u001B[38;5;132;01m}\u001B[39;00m\u001B[38;5;124m features, but \u001B[39m\u001B[38;5;132;01m{\u001B[39;00m\u001B[38;5;28mself\u001B[39m\u001B[38;5;241m.\u001B[39m\u001B[38;5;18m__class__\u001B[39m\u001B[38;5;241m.\u001B[39m\u001B[38;5;18m__name__\u001B[39m\u001B[38;5;132;01m}\u001B[39;00m\u001B[38;5;124m \u001B[39m\u001B[38;5;124m\"\u001B[39m\n\u001B[0;32m    445\u001B[0m         \u001B[38;5;124mf\u001B[39m\u001B[38;5;124m\"\u001B[39m\u001B[38;5;124mis expecting \u001B[39m\u001B[38;5;132;01m{\u001B[39;00m\u001B[38;5;28mself\u001B[39m\u001B[38;5;241m.\u001B[39mn_features_in_\u001B[38;5;132;01m}\u001B[39;00m\u001B[38;5;124m features as input.\u001B[39m\u001B[38;5;124m\"\u001B[39m\n\u001B[0;32m    446\u001B[0m     )\n",
      "\u001B[1;31mValueError\u001B[0m: X has 20 features, but LogisticRegression is expecting 121805 features as input."
     ]
    }
   ],
   "execution_count": 19
  }
 ],
 "metadata": {
  "anaconda-cloud": {},
  "kernelspec": {
   "display_name": "Python 3 (ipykernel)",
   "language": "python",
   "name": "python3"
  },
  "language_info": {
   "codemirror_mode": {
    "name": "ipython",
    "version": 2
   },
   "file_extension": ".py",
   "mimetype": "text/x-python",
   "name": "python",
   "nbconvert_exporter": "python",
   "pygments_lexer": "ipython2",
   "version": "2.7.12"
  }
 },
 "nbformat": 4,
 "nbformat_minor": 4
}
