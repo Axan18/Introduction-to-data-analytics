{
 "cells": [
  {
   "cell_type": "markdown",
   "metadata": {},
   "source": [
    "When exploring a large set of documents -- such as Wikipedia, news articles, StackOverflow, etc. -- it can be useful to get a list of related material. To find relevant documents you typically\n",
    "* Decide on a notion of similarity\n",
    "* Find the documents that are most similar \n",
    "\n",
    "In the assignment you will\n",
    "* Gain intuition for different notions of similarity and practice finding similar documents. \n",
    "* Explore the tradeoffs with representing documents using raw word counts and TF-IDF\n",
    "* Explore the behavior of different distance metrics by looking at the Wikipedia pages most similar to President Obama’s page."
   ]
  },
  {
   "cell_type": "code",
   "metadata": {
    "collapsed": false,
    "jupyter": {
     "outputs_hidden": false
    },
    "ExecuteTime": {
     "end_time": "2024-11-21T10:31:10.063476Z",
     "start_time": "2024-11-21T10:31:10.050686Z"
    }
   },
   "source": [
    "import matplotlib.pyplot as plt\n",
    "import numpy as np\n",
    "import pandas as pd\n",
    "%matplotlib inline"
   ],
   "outputs": [],
   "execution_count": 79
  },
  {
   "cell_type": "markdown",
   "metadata": {},
   "source": [
    "## Load Wikipedia dataset"
   ]
  },
  {
   "cell_type": "markdown",
   "metadata": {},
   "source": [
    "We will be using the dataset of abridged Wikipedia pages. Each element of the dataset consists of a link to the wikipedia article, the name of the person, and the text of the article (in lowercase).  "
   ]
  },
  {
   "cell_type": "code",
   "metadata": {
    "collapsed": false,
    "jupyter": {
     "outputs_hidden": false
    },
    "ExecuteTime": {
     "end_time": "2024-11-21T10:31:11.703282Z",
     "start_time": "2024-11-21T10:31:10.109116Z"
    }
   },
   "source": [
    "wiki = pd.read_csv('people_wiki.csv')\n",
    "wiki.head()"
   ],
   "outputs": [
    {
     "data": {
      "text/plain": [
       "                                                 URI                 name  \\\n",
       "0        <http://dbpedia.org/resource/Digby_Morrell>        Digby Morrell   \n",
       "1       <http://dbpedia.org/resource/Alfred_J._Lewy>       Alfred J. Lewy   \n",
       "2        <http://dbpedia.org/resource/Harpdog_Brown>        Harpdog Brown   \n",
       "3  <http://dbpedia.org/resource/Franz_Rottensteiner>  Franz Rottensteiner   \n",
       "4               <http://dbpedia.org/resource/G-Enka>               G-Enka   \n",
       "\n",
       "                                                                                                                                                                                                                                                                                                                                                                                                                                                                                                                                                                                                                                                                                                                                                                                                                                                                                                                                                                                                                                                                                                                                                                                                                                                                                                                                                                                                                                                                                                                                                                                                                                                                                                                                                                                                                                                                                                                                                                                                                                                                                                                                                                                                                                                                                                                                                                                                                                                           text  \n",
       "0                                                                                                                                                                                                                                                                                                                                                                                                                                                                                                                                                                                                                                                                                                                                                                                                                                                                                                                       digby morrell born 10 october 1979 is a former australian rules footballer who played with the kangaroos and carlton in the australian football league aflfrom western australia morrell played his early senior football for west perth his 44game senior career for the falcons spanned 19982000 and he was the clubs leading goalkicker in 2000 at the age of 21 morrell was recruited to the australian football league by the kangaroos football club with its third round selection in the 2001 afl rookie draft as a forward he twice kicked five goals during his time with the kangaroos the first was in a losing cause against sydney in 2002 and the other the following season in a drawn game against brisbaneafter the 2003 season morrell was traded along with david teague to the carlton football club in exchange for corey mckernan he played 32 games for the blues before being delisted at the end of 2005 he continued to play victorian football league vfl football with the northern bullants carltons vflaffiliate in 2006 and acted as playing assistant coach in 2007 in 2008 he shifted to the box hill hawks before retiring from playing at the end of the season from 2009 until 2013 morrell was the senior coach of the strathmore football club in the essendon district football league leading the club to the 2011 premier division premiership since 2014 he has coached the west coburg football club also in the edflhe currently teaches physical education at parade college in melbourne  \n",
       "1                                                                                                                                                                                                                                                                                                                                                                                                                                                                                                                                                                                                                                                                                                                                                                                                                                                                                                                                    alfred j lewy aka sandy lewy graduated from university of chicago in 1973 after studying psychiatry pharmacology and ophthalmology he is a full professor and vicechair of the department of psychiatry at ohsu oregon health science university and holds an md and phd prior to moving to oregon in 1981 lewy was at the national institute of mental health nimh in bethesda maryland working with senior colleague thomas wehr in oregon he has worked closely with robert l sack as of december 2005 he had 94 publications available on pubmed he describes his research as follows my laboratory studies chronobiologic sleep and mood disorders these disorders include winter depression jet lag maladaptation to shift work and certain types of sleep disturbances relying on a very precise assay for plasma melatonin a hormone that has a clearly defined 24hour pattern of secretion biological rhythm disorders can be assessed and their treatment can be monitored current research is focused on developing bright light exposure and melatonin administration as treatment modalities for these disorders treatment must be precisely scheduled morning light exposure and evening melatonin administration cause circadian phaseadvance shifts evening light exposure and morning melatonin administration cause circadian phasedelay shifts totally blind individuals have 25hour circadian rhythms drifting an hour later each day unless they take a melatonin capsule at a certain time every day  \n",
       "2                                                                                                                                                                                                                                                                                                                                                                                                                                                                                                                                                                                                                                                                                                                                                                                                                                                                                                                                                                                                                                                                                                             harpdog brown is a singer and harmonica player who has been active in canadas blues scene since 1982 hailing from vancouver he crossed tens of thousands of miles playing club dates and festivals in canada the northwestern united states and germanyover the years he has issued seven cds in 1995 his home is where the harp is won the muddy award for the best nw blues release from the cascade blues association in portland oregon as well that year it was nominated for a canadian juno for the best bluesgospel recording teamed up with graham guest on piano his cd naturally was voted 1 canadian blues album of 2010 by the blind lemon surveybrown tours extensively with his guitarist j arthur edmonds performing their electric mid1950s chicago blues either as a duo or with the full band while he is home he juggles a few combos working many venues big and small he also leads the harpdog brown band which is a gutsy traditional chicago blues band in 2014 they released what it is comprising mainly original songs and a few classic covers influential blues promoter and broadcaster holger petersen called what it is browns best albumhe was just awarded the maple blues award in toronto for best harmonica player in canada 2014 and was honored with a life time membership to the hamilton blues society  \n",
       "3  franz rottensteiner born in waidmannsfeld lower austria austria on 18 january 1942 is an austrian publisher and critic in the fields of science fiction and the fantasticrottensteiner studied journalism english and history at the university of vienna receiving his doctorate in 1969 he served about fifteen years as librarian and editor at the sterreichisches institut fr bauforschung in vienna in addition he produced a number of translations into german of leading sf authors including herbert w franke stanislaw lem philip k dick kobo abe cordwainer smith brian w aldiss and the strugatski brothersin 1973 his new york anthology view from another shore of european science fiction introduced a number of continental authors to the englishreading public some of the authors in the work are stanislaw lem josef nesvadba gerard klein and jeanpierre andrevonthe year 1975 saw the start of his series die phantastischen romane for seven years it republished works of both lesser and betterknown writers as well as new ones ending with a total of 28 volumes in the years 19791985 he brought out trnaslations of h g wellss works in an eighteen volumes seriesrottensteiner provoked some controversy with his negative assessment of american science fiction what matters is the highest achievements and there the us has yet to produce a figure comparable to hg wells olaf stapledon karel apek or stanisaw lem rottensteiner describedroger zelazny barry n malzberg and robert silverberg as producing travesties of fiction and stated asimov is a typical nonwriter and heinlein and andersonare just banal however rottensteiner praised philip k dick listing him as one of the greatest sf writers from 1980 through 1998 he was advisor for suhrkamp verlags phantastische bibliothek which brought out some three hundred books in all he has edited about fifty anthologies produced two illustrated books the science fiction book 1975 und the fantasy book 1978 as well as working on numerous reference works on science fiction his close association with and promotion of lem until 1995 was a factor in the recognition of the latter in the united statesrottensteiner has been the editor of quarber merkur the leading german language critical journal of science fiction since 1963 in 2004 on the occasion of the hundredth number of this journal he was awarded a special kurdlawitzpreis  \n",
       "4                                                                                                                                                                                                                                                                                                                                                                                                                                                                                                                                                                                                                                                                                                                                                                                                                                                                                                                                                                                                                                                                                                                                                                                                                                               henry krvits born 30 december 1974 in tallinn better known by his stagename genka is an estonian rapper and record producergenka started rapping in 1996 along with revo and dj paul oja who was genkas schoolmate together they started a band called toe tag their first album the real kuhnja homophobes was released next year in 1998 genka and revo joined another estonian rap group arhm and toe tag went on vacation also genka started making his own solo songs the most famous hit was tallinn which was rapped along with droopy in 2001 during the same year toe tag came back together and started a big estonian tour in 2004 toe tag released their second studio album legendaarne legendary which consisted of 18 songs the most famous songs from the album were legendaarne and pankrot bankruptcy in 2006 genka and arhm released their new album leegion which had 23 songs the most famous songs from this album were palmisaar palm island and tugitooli gangster armchair gangstergenka and dj paul oja started their own record company legendaarne records also genka and arhm were the warmup performers for 50 cent on his 2007 europe promo tour for the curtis album in tallinn  "
      ],
      "text/html": [
       "<div>\n",
       "<style scoped>\n",
       "    .dataframe tbody tr th:only-of-type {\n",
       "        vertical-align: middle;\n",
       "    }\n",
       "\n",
       "    .dataframe tbody tr th {\n",
       "        vertical-align: top;\n",
       "    }\n",
       "\n",
       "    .dataframe thead th {\n",
       "        text-align: right;\n",
       "    }\n",
       "</style>\n",
       "<table border=\"1\" class=\"dataframe\">\n",
       "  <thead>\n",
       "    <tr style=\"text-align: right;\">\n",
       "      <th></th>\n",
       "      <th>URI</th>\n",
       "      <th>name</th>\n",
       "      <th>text</th>\n",
       "    </tr>\n",
       "  </thead>\n",
       "  <tbody>\n",
       "    <tr>\n",
       "      <th>0</th>\n",
       "      <td>&lt;http://dbpedia.org/resource/Digby_Morrell&gt;</td>\n",
       "      <td>Digby Morrell</td>\n",
       "      <td>digby morrell born 10 october 1979 is a former australian rules footballer who played with the kangaroos and carlton in the australian football league aflfrom western australia morrell played his early senior football for west perth his 44game senior career for the falcons spanned 19982000 and he was the clubs leading goalkicker in 2000 at the age of 21 morrell was recruited to the australian football league by the kangaroos football club with its third round selection in the 2001 afl rookie draft as a forward he twice kicked five goals during his time with the kangaroos the first was in a losing cause against sydney in 2002 and the other the following season in a drawn game against brisbaneafter the 2003 season morrell was traded along with david teague to the carlton football club in exchange for corey mckernan he played 32 games for the blues before being delisted at the end of 2005 he continued to play victorian football league vfl football with the northern bullants carltons vflaffiliate in 2006 and acted as playing assistant coach in 2007 in 2008 he shifted to the box hill hawks before retiring from playing at the end of the season from 2009 until 2013 morrell was the senior coach of the strathmore football club in the essendon district football league leading the club to the 2011 premier division premiership since 2014 he has coached the west coburg football club also in the edflhe currently teaches physical education at parade college in melbourne</td>\n",
       "    </tr>\n",
       "    <tr>\n",
       "      <th>1</th>\n",
       "      <td>&lt;http://dbpedia.org/resource/Alfred_J._Lewy&gt;</td>\n",
       "      <td>Alfred J. Lewy</td>\n",
       "      <td>alfred j lewy aka sandy lewy graduated from university of chicago in 1973 after studying psychiatry pharmacology and ophthalmology he is a full professor and vicechair of the department of psychiatry at ohsu oregon health science university and holds an md and phd prior to moving to oregon in 1981 lewy was at the national institute of mental health nimh in bethesda maryland working with senior colleague thomas wehr in oregon he has worked closely with robert l sack as of december 2005 he had 94 publications available on pubmed he describes his research as follows my laboratory studies chronobiologic sleep and mood disorders these disorders include winter depression jet lag maladaptation to shift work and certain types of sleep disturbances relying on a very precise assay for plasma melatonin a hormone that has a clearly defined 24hour pattern of secretion biological rhythm disorders can be assessed and their treatment can be monitored current research is focused on developing bright light exposure and melatonin administration as treatment modalities for these disorders treatment must be precisely scheduled morning light exposure and evening melatonin administration cause circadian phaseadvance shifts evening light exposure and morning melatonin administration cause circadian phasedelay shifts totally blind individuals have 25hour circadian rhythms drifting an hour later each day unless they take a melatonin capsule at a certain time every day</td>\n",
       "    </tr>\n",
       "    <tr>\n",
       "      <th>2</th>\n",
       "      <td>&lt;http://dbpedia.org/resource/Harpdog_Brown&gt;</td>\n",
       "      <td>Harpdog Brown</td>\n",
       "      <td>harpdog brown is a singer and harmonica player who has been active in canadas blues scene since 1982 hailing from vancouver he crossed tens of thousands of miles playing club dates and festivals in canada the northwestern united states and germanyover the years he has issued seven cds in 1995 his home is where the harp is won the muddy award for the best nw blues release from the cascade blues association in portland oregon as well that year it was nominated for a canadian juno for the best bluesgospel recording teamed up with graham guest on piano his cd naturally was voted 1 canadian blues album of 2010 by the blind lemon surveybrown tours extensively with his guitarist j arthur edmonds performing their electric mid1950s chicago blues either as a duo or with the full band while he is home he juggles a few combos working many venues big and small he also leads the harpdog brown band which is a gutsy traditional chicago blues band in 2014 they released what it is comprising mainly original songs and a few classic covers influential blues promoter and broadcaster holger petersen called what it is browns best albumhe was just awarded the maple blues award in toronto for best harmonica player in canada 2014 and was honored with a life time membership to the hamilton blues society</td>\n",
       "    </tr>\n",
       "    <tr>\n",
       "      <th>3</th>\n",
       "      <td>&lt;http://dbpedia.org/resource/Franz_Rottensteiner&gt;</td>\n",
       "      <td>Franz Rottensteiner</td>\n",
       "      <td>franz rottensteiner born in waidmannsfeld lower austria austria on 18 january 1942 is an austrian publisher and critic in the fields of science fiction and the fantasticrottensteiner studied journalism english and history at the university of vienna receiving his doctorate in 1969 he served about fifteen years as librarian and editor at the sterreichisches institut fr bauforschung in vienna in addition he produced a number of translations into german of leading sf authors including herbert w franke stanislaw lem philip k dick kobo abe cordwainer smith brian w aldiss and the strugatski brothersin 1973 his new york anthology view from another shore of european science fiction introduced a number of continental authors to the englishreading public some of the authors in the work are stanislaw lem josef nesvadba gerard klein and jeanpierre andrevonthe year 1975 saw the start of his series die phantastischen romane for seven years it republished works of both lesser and betterknown writers as well as new ones ending with a total of 28 volumes in the years 19791985 he brought out trnaslations of h g wellss works in an eighteen volumes seriesrottensteiner provoked some controversy with his negative assessment of american science fiction what matters is the highest achievements and there the us has yet to produce a figure comparable to hg wells olaf stapledon karel apek or stanisaw lem rottensteiner describedroger zelazny barry n malzberg and robert silverberg as producing travesties of fiction and stated asimov is a typical nonwriter and heinlein and andersonare just banal however rottensteiner praised philip k dick listing him as one of the greatest sf writers from 1980 through 1998 he was advisor for suhrkamp verlags phantastische bibliothek which brought out some three hundred books in all he has edited about fifty anthologies produced two illustrated books the science fiction book 1975 und the fantasy book 1978 as well as working on numerous reference works on science fiction his close association with and promotion of lem until 1995 was a factor in the recognition of the latter in the united statesrottensteiner has been the editor of quarber merkur the leading german language critical journal of science fiction since 1963 in 2004 on the occasion of the hundredth number of this journal he was awarded a special kurdlawitzpreis</td>\n",
       "    </tr>\n",
       "    <tr>\n",
       "      <th>4</th>\n",
       "      <td>&lt;http://dbpedia.org/resource/G-Enka&gt;</td>\n",
       "      <td>G-Enka</td>\n",
       "      <td>henry krvits born 30 december 1974 in tallinn better known by his stagename genka is an estonian rapper and record producergenka started rapping in 1996 along with revo and dj paul oja who was genkas schoolmate together they started a band called toe tag their first album the real kuhnja homophobes was released next year in 1998 genka and revo joined another estonian rap group arhm and toe tag went on vacation also genka started making his own solo songs the most famous hit was tallinn which was rapped along with droopy in 2001 during the same year toe tag came back together and started a big estonian tour in 2004 toe tag released their second studio album legendaarne legendary which consisted of 18 songs the most famous songs from the album were legendaarne and pankrot bankruptcy in 2006 genka and arhm released their new album leegion which had 23 songs the most famous songs from this album were palmisaar palm island and tugitooli gangster armchair gangstergenka and dj paul oja started their own record company legendaarne records also genka and arhm were the warmup performers for 50 cent on his 2007 europe promo tour for the curtis album in tallinn</td>\n",
       "    </tr>\n",
       "  </tbody>\n",
       "</table>\n",
       "</div>"
      ]
     },
     "execution_count": 80,
     "metadata": {},
     "output_type": "execute_result"
    }
   ],
   "execution_count": 80
  },
  {
   "cell_type": "markdown",
   "metadata": {},
   "source": [
    "If you want to check whether the text on the webpage agrees with the one here, you can display it with the following code:"
   ]
  },
  {
   "cell_type": "code",
   "metadata": {
    "collapsed": true,
    "ExecuteTime": {
     "end_time": "2024-11-21T10:31:11.967866Z",
     "start_time": "2024-11-21T10:31:11.946083Z"
    }
   },
   "source": [
    "# from IPython.display import HTML\n",
    "# print(wiki['text'][0])\n",
    "# HTML(url=wiki['URI'][0])"
   ],
   "outputs": [],
   "execution_count": 81
  },
  {
   "cell_type": "markdown",
   "metadata": {},
   "source": [
    "## Ex. 1: Extract word count vectors"
   ]
  },
  {
   "cell_type": "markdown",
   "metadata": {},
   "source": [
    "As we have seen in Assignment 4, we can extract word count vectors using `CountVectorizer` function.\n",
    "- make sure you include words of unit length by using the parameter: `token_pattern=r\"(?u)\\b\\w+\\b\"`\n",
    "- do not use any stopwords\n",
    "- take 10000 most frequent words in the corpus\n",
    "- explicitly take all the words independent of in how many documents they occur\n",
    "- obtain the matrix of word counts"
   ]
  },
  {
   "cell_type": "code",
   "metadata": {
    "collapsed": true,
    "ExecuteTime": {
     "end_time": "2024-11-21T10:31:29.202302Z",
     "start_time": "2024-11-21T10:31:12.107424Z"
    }
   },
   "source": [
    "from sklearn.feature_extraction.text import CountVectorizer\n",
    "\n",
    "vectorizer = CountVectorizer(\n",
    "    token_pattern=r\"(?u)\\b\\w+\\b\",\n",
    "    max_features=10000,\n",
    "    stop_words = None,\n",
    "    min_df=0.0)\n",
    "WCmatrix = vectorizer.fit_transform(wiki['text'])"
   ],
   "outputs": [],
   "execution_count": 82
  },
  {
   "cell_type": "markdown",
   "metadata": {},
   "source": [
    "## Ex. 2: Find nearest neighbors"
   ]
  },
  {
   "cell_type": "markdown",
   "metadata": {},
   "source": [
    "**a)** Start by finding the nearest neighbors of the Barack Obama page using the above word count matrix to represent the articles and **Euclidean** distance to measure distance.\n",
    "Save the distances in `wiki['BO-eucl']` and look at the top 10 nearest neighbors."
   ]
  },
  {
   "cell_type": "code",
   "metadata": {
    "collapsed": true,
    "ExecuteTime": {
     "end_time": "2024-11-21T10:31:29.765537Z",
     "start_time": "2024-11-21T10:31:29.213414Z"
    }
   },
   "source": [
    "# One can use the following:\n",
    "    # from sklearn.neighbors import NearestNeighbors\n",
    "    # nbrs = NearestNeighbors(n_neighbors=3, algorithm='brute',metric='euclidean').fit(X.toarray())\n",
    "    # distances, indices = nbrs.kneighbors(X.toarray())\n",
    "# but here let's use:\n",
    "from sklearn.metrics import pairwise_distances\n",
    "\n",
    "dist = pairwise_distances(WCmatrix, WCmatrix[wiki[wiki['name'] == 'Barack Obama'].index[0]])\n",
    "wiki['BO-eucl'] = dist\n",
    "\n"
   ],
   "outputs": [],
   "execution_count": 83
  },
  {
   "cell_type": "code",
   "metadata": {
    "collapsed": false,
    "ExecuteTime": {
     "end_time": "2024-11-21T10:31:29.963923Z",
     "start_time": "2024-11-21T10:31:29.923209Z"
    }
   },
   "source": "wiki.sort_values(by='BO-eucl',ascending=True)[0:10]",
   "outputs": [
    {
     "data": {
      "text/plain": [
       "                                                            URI  \\\n",
       "35811                <http://dbpedia.org/resource/Barack_Obama>   \n",
       "24478                   <http://dbpedia.org/resource/Joe_Biden>   \n",
       "28441              <http://dbpedia.org/resource/George_W._Bush>   \n",
       "14754                 <http://dbpedia.org/resource/Mitt_Romney>   \n",
       "31417              <http://dbpedia.org/resource/Walter_Mondale>   \n",
       "36358                  <http://dbpedia.org/resource/Don_Bonker>   \n",
       "13229            <http://dbpedia.org/resource/Francisco_Barrio>   \n",
       "35351            <http://dbpedia.org/resource/Lawrence_Summers>   \n",
       "22745  <http://dbpedia.org/resource/Wynn_Normington_Hugh-Jones>   \n",
       "25258           <http://dbpedia.org/resource/Marc_Ravalomanana>   \n",
       "\n",
       "                             name  \\\n",
       "35811                Barack Obama   \n",
       "24478                   Joe Biden   \n",
       "28441              George W. Bush   \n",
       "14754                 Mitt Romney   \n",
       "31417              Walter Mondale   \n",
       "36358                  Don Bonker   \n",
       "13229            Francisco Barrio   \n",
       "35351            Lawrence Summers   \n",
       "22745  Wynn Normington Hugh-Jones   \n",
       "25258           Marc Ravalomanana   \n",
       "\n",
       "                                                                                                                                                                                                                                                                                                                                                                                                                                                                                                                                                                                                                                                                                                                                                                                                                                                                                                                                                                                                                                                                                                                                                                                                                                                                                                                                                                                                                                                                                                                                                                                                                                                                                                                                                                                                                                                                                                                                                                                                                                                                                                                                                                                                                                                                                                                                                                                                                                                                                                                                                                                                                                                                                                                                                                                                                                                                                                                                                                                                                                                                                                                                                                                                                                                                                                                                                                                                                                                                                                                                                                                                                                              text  \\\n",
       "35811                                                                                                                                                                                                                               barack hussein obama ii brk husen bm born august 4 1961 is the 44th and current president of the united states and the first african american to hold the office born in honolulu hawaii obama is a graduate of columbia university and harvard law school where he served as president of the harvard law review he was a community organizer in chicago before earning his law degree he worked as a civil rights attorney and taught constitutional law at the university of chicago law school from 1992 to 2004 he served three terms representing the 13th district in the illinois senate from 1997 to 2004 running unsuccessfully for the united states house of representatives in 2000in 2004 obama received national attention during his campaign to represent illinois in the united states senate with his victory in the march democratic party primary his keynote address at the democratic national convention in july and his election to the senate in november he began his presidential campaign in 2007 and after a close primary campaign against hillary rodham clinton in 2008 he won sufficient delegates in the democratic party primaries to receive the presidential nomination he then defeated republican nominee john mccain in the general election and was inaugurated as president on january 20 2009 nine months after his election obama was named the 2009 nobel peace prize laureateduring his first two years in office obama signed into law economic stimulus legislation in response to the great recession in the form of the american recovery and reinvestment act of 2009 and the tax relief unemployment insurance reauthorization and job creation act of 2010 other major domestic initiatives in his first term included the patient protection and affordable care act often referred to as obamacare the doddfrank wall street reform and consumer protection act and the dont ask dont tell repeal act of 2010 in foreign policy obama ended us military involvement in the iraq war increased us troop levels in afghanistan signed the new start arms control treaty with russia ordered us military involvement in libya and ordered the military operation that resulted in the death of osama bin laden in january 2011 the republicans regained control of the house of representatives as the democratic party lost a total of 63 seats and after a lengthy debate over federal spending and whether or not to raise the nations debt limit obama signed the budget control act of 2011 and the american taxpayer relief act of 2012obama was reelected president in november 2012 defeating republican nominee mitt romney and was sworn in for a second term on january 20 2013 during his second term obama has promoted domestic policies related to gun control in response to the sandy hook elementary school shooting and has called for full equality for lgbt americans while his administration has filed briefs which urged the supreme court to strike down the defense of marriage act of 1996 and californias proposition 8 as unconstitutional in foreign policy obama ordered us military involvement in iraq in response to gains made by the islamic state in iraq after the 2011 withdrawal from iraq continued the process of ending us combat operations in afghanistan and has sought to normalize us relations with cuba   \n",
       "24478                                                                                                                                                                                                                                                                                                                                                                                                                                                                                                                                                                                                                                                                                                                                                                                                                                                                                                                                                                                                                  joseph robinette joe biden jr dosf rbnt badn born november 20 1942 is the 47th and current vice president of the united states jointly elected with president barack obama he is a member of the democratic party and was a united states senator from delaware from january 3 1973 until his resignation on january 15 2009 following his election to the vice presidency in 2012 biden was elected to a second term alongside obamabiden was born in scranton pennsylvania and lived there for ten years before moving to delaware he became an attorney in 1969 and was elected to the new castle county council in 1970 biden was first elected to the senate in 1972 and became the sixthyoungest senator in us history he was reelected to the senate six times and was the fourth most senior senator at the time of his resignation biden was a longtime member and former chairman of the foreign relations committee his strong advocacy helped bring about us military assistance and intervention during the bosnian war he opposed the gulf war in 1991 he voted in favor of the iraq war resolution in 2002 but later proposed resolutions to alter us strategy there he has also served as chairman of the senate judiciary committee dealing with issues related to drug policy crime prevention and civil liberties and led creation of the violent crime control and law enforcement act and violence against women act he chaired the judiciary committee during the contentious us supreme court nominations of robert bork and clarence thomasbiden unsuccessfully sought the democratic presidential nomination in 1988 and 2008 both times dropping out early in the race barack obama selected biden to be the democratic party nominee for vice president in the 2008 us presidential election biden is the first roman catholic and the first delawarean to become vice president of the united states as vice president biden has been heavily involved in obamas decisionmaking process and held the oversight role for infrastructure spending from the obama stimulus package aimed at counteracting the late2000s recession his ability to negotiate with congressional republicans played a key role in bringing about the bipartisan deals that resulted in the tax relief unemployment insurance reauthorization and job creation act of 2010 that resolved a taxation deadlock the budget control act of 2011 that resolved that years debt ceiling crisis and the american taxpayer relief act of 2012 that addressed the impending fiscal cliff obama and biden were reelected in 2012   \n",
       "28441                                                                                                                                                                                                                                                                                                                                                                       george walker bush born july 6 1946 is an american politician and businessman who served as the 43rd president of the united states from 2001 to 2009 and the 46th governor of texas from 1995 to 2000 the eldest son of barbara and george h w bush he was born in new haven connecticut after graduating from yale university in 1968 and harvard business school in 1975 bush worked in oil businesses he married laura welch in 1977 and ran unsuccessfully for the house of representatives shortly thereafter he later coowned the texas rangers baseball team before defeating ann richards in the 1994 texas gubernatorial election bush was elected president in 2000 after a close and controversial election becoming the fourth president to be elected while receiving fewer popular votes nationwide than his opponent bush is the second president to have been the son of a former president the first having been john quincy adams he is also the brother of jeb bush former governor of floridaeight months into bushs first term as president the september 11 2001 terrorist attacks occurred in response bush launched the war on terror an international military campaign which included the war in afghanistan launched in 2001 and the war in iraq launched in 2003in addition to national security issues bush also promoted policies on the economy health care education social security reform and amending the constitution to prohibit samesex marriage he signed into law broad tax cuts the patriot act the no child left behind act the partialbirth abortion ban act medicare prescription drug benefits for seniors and funding for the aids relief program known as pepfar his tenure saw national debates on immigration social security electronic surveillance and torturebush successfully ran for reelection against democratic senator john kerry in 2004 in another relatively close election after his reelection bush received increasingly heated criticism from across the political spectrum for his handling of the iraq war hurricane katrina and numerous other challenges amid this criticism the democratic party regained control of congress in the 2006 elections in december 2007 the united states entered its longest postworld war ii recession often referred to as the great recession prompting the bush administration to enact multiple economic programs intended to preserve the countrys financial system nationally bush was both one of the most popular and unpopular presidents in history having received the highest recorded presidential approval ratings in the wake of the september 11 attacks as well as one of the lowest approval ratings during the 2008 financial crisis he was met with public protests even occurring during visits to the united kingdombush left office in 2009 since then he has returned to texas and purchased a home in a suburban area of dallas he is currently a public speaker has written a memoir titled decision points and his presidential library was opened in 2013 his presidency has been ranked among the worst in recent surveys of presidential scholars although bush has been viewed more favorably by the public since leaving office   \n",
       "14754                                                                                                                                                                                                                                                                                                                                                                                                                                       willard mitt romney born march 12 1947 is an american politician and businessman who was the republican partys nominee for president of the united states in the 2012 election before his presidential bid he served as the 70th governor of massachusetts from 2003 to 2007raised in bloomfield hills michigan by his parents george and lenore romney mitt romney spent two and a half years in france as a mormon missionary starting in 1966 in 1969 he married ann davies with whom he has had five sons by 1971 romney had participated in the political campaigns of both of his parents in that year he earned a bachelor of arts at brigham young and in 1975 a joint juris doctor and master of business administration at harvard romney then entered the management consulting industry and in 1977 secured a position at bain company later serving as its chief executive officer he helped lead the company out of financial crisis in 1984 he cofounded and led the spinoff company bain capital a highly profitable private equity investment firm that became one of the largest of its kind in the nation active in the church of jesus christ of latterday saints romney served during his business career as the bishop of his ward head of his local congregation and then stake president in his home area near boston after stepping down from bain capital and his local leadership role in the church he ran as the republican candidate in the 1994 massachusetts election for us senate upon losing to longtime incumbent ted kennedy he resumed his position at bain capital years later a successful stint as president and ceo of the salt lake organizing committee for the 2002 winter olympics led to a relaunch of his political careerelected governor of massachusetts in 2002 romney helped develop and enact into law the massachusetts health care reform legislation the first of its kind in the nation which provided nearuniversal health insurance access through statelevel subsidies and individual mandates to purchase insurance he also presided over the elimination of a projected 1215 billion deficit through a combination of spending cuts increased fees and the closure of corporate tax loopholes romney did not seek reelection in 2006 instead focusing on his campaign for the republican nomination in the 2008 us presidential election he won several primaries and caucuses but lost to the eventual nominee senator john mccain his considerable net worth estimated in 2012 at 190250 million helped finance his political campaigns prior to 2012romney won the 2012 republican presidential nomination becoming the first mormon to be a major party presidential nominee romney was defeated by incumbent democratic president barack obama in the november 2012 general election losing by 332206 electoral college votes the popular vote margin was 5147 percent in obamas favor following the election he initially kept a low profile but later became more visible politically after actively considering the possibility in january 2015 he ruled out running for the presidency again in the 2016 presidential election   \n",
       "31417                                                                                                                                                                                                                                                                                                                                                                                                                                                                                                                                                                                                                                                                                                                                                                                                                                   walter frederick fritz mondale born january 5 1928 is an american democratic party politician who served as the 42nd vice president of the united states 19771981 under president jimmy carter and as a united states senator from minnesota 19641976 he was the democratic partys presidential candidate in the united states presidential election of 1984 at more than 34 years he has had the longest retirement of any vice presidentmondale was born in ceylon minnesota and graduated from the university of minnesota in 1951 he then served in the us army during the korean war before earning a law degree in 1956 he married joan adams in 1955 working as a lawyer in minneapolis mondale was appointed to the position of attorney general in 1960 by governor orville freeman and was elected to a full term as attorney general in 1962 with 60 of votes cast he was appointed to the u s senate by governor karl f rolvaag upon the resignation of senator hubert h humphrey consequent to humphreys election as vice president mondale was subsequently elected to a full senate term in 1966 and again in 1972 resigning that post in 1976 as he prepared to succeed to the vice presidency in 1977 while in the senate he supported consumer protection fair housing tax reform and the desegregation of schools importantly he served as a member of the select committee to study governmental operations with respect to intelligence activities church committeein 1976 carter the democratic presidential nominee chose mondale as his vice presidential running mate in the forthcoming election the cartermondale ticket defeated incumbent president gerald ford and his vice presidential running mate bob dole carter and mondales time in office was marred by a worsening economy and although both were renominated by the democratic party they lost the 1980 election to republicans ronald reagan and george hw bushin 1984 mondale won the democratic presidential nomination and campaigned for a nuclear freeze the equal rights amendment an increase in taxes and a reduction of us public debt mondale was defeated by president reagan in one of the biggest landslides in us history gaining electoral votes from only his home state of minnesota and the district of columbiaafter the election mondale joined the minnesotabased law firm of dorsey whitney and the national democratic institute for international affairs 198693 and was credited with successes in poland and hungary president bill clinton appointed mondale united states ambassador to japan in 1993 he retired in 1996 in 2002 he ran for his old senate seat however he was defeated mondale then returned to working at dorsey whitney and remains active in the democratic party   \n",
       "36358                                                                                                                                                                                                                                                                                                                                                                                                                                don leroy bonker born march 7 1937 in denver colorado is an american former congressman for the state of washington and a democrat he served as a member of the united states house of representatives from 1975 to 1989 representing washingtons third congressional districthe is a resident of bainbridge island washingtonbonker attended public schools in westminster colorado he received his associate of arts degree from clark college in vancouver washington in 1962 his bachelor of arts from lewis clark college in portland oregon in 1964 and completed graduate work at american university in washington dc bonker served in the united states coast guard as first class yeoman from 1955 to 1959he served as aide to united states senator maurine brown neuberger from 1964 to 1965 clark county auditor in vancouver from 1966 to 1974 and as a delegate to washington state democratic conventions from 1968 to 1970 bonker ran for washington secretary of state in 1972 but was defeated by incumbent republican lud kramer bonker was elected as a moderate democrat to the 94th and to the six succeeding congresses january 3 1975january 3 1989 he did not run for reelection in 1988 so he could run for nomination to the united states senate where he narrowly lost in the primary to democrat mike lowry who was defeated in the general election by republican slade gorton in 1992 bonker again ran for a us senate seat but was defeated in the primary by the eventual winner democratic senator patty murray in 2000 he ran for secretary of state again winning the party nomination in the primary but losing in the general to sam reedduring his time in the house bonker was a senior member of the house foreign affairs committee and chairman of the subcommittee on international economic policy and trade he also served on the presidents export council and headed former house speaker tip oneills trade task force which led to passage of the 1988 omnibus trade act during his tenure in congress bonker authored and was a principal sponsor of significant trade legislation such as the export trading company act and the export administration act he helped establish the grays harbor national wildlife refuge and the mount st helens national volcanic monument added protection island to the national wildlife refuge system preserved the point of arches in the olympic national park added 250000 acres 1000 km to the 1984 washington wilderness act and banned the export of western redcedar bonker is now the president and ceo of the international management and development institute on the board of the foundation for usrussia business cooperation and is executive vice president of apco worldwide 1 in 2009 bonker was the target of significant criticism by democrats for endorsing republican susan hutchison for king county executive against democratic favorite and eventual winner dow constantinehe is the author of americas trade crisis published by houghton mifflin and is a writer and speaker on us trade policy his monthly column on trade policy appears in a number of newspapers around the country   \n",
       "13229                                                                                                                                                                                                                                                                                                                                                                                                                                                                                                                                                                                                                                                                                                                                                                                                                                                                                                                                                                                                                                                                  francisco javier barrio terrazas born november 25 1950 is a mexican politician affiliated to the national action party pan he is a former governor of chihuahua and former secretary in the cabinet of president vicente foxbarrio was born in satevo chihuahua and received a bachelors degree in accounting and an mba from the autonomous university of chihuahua he did some consulting and worked in the private sector before joining the local chapter of the national action party in 1983 and becoming its first member to ever win the mayorship of jurez chihuahua he ran for governor in 1986 and lost against the pri candidate fernando baeza melndez in one of the most controversial elections in the states recent history six years later he made another attempt and won ending more than 60 years of uninterrupted control of chihuahuas governorship by members of the institutional revolutionary party as a governor he delivered mixed results and consequently the pri regained control of the state at the end of his term while governor of chihuahua hundreds of women were raped and murdered in juarez barrio refused for years to mount an inquiry and suggested the attacks were not surprising because the victims walked in dark places at night and wore provocative clothingin the course of his political career barrioterrazas has served as mayor of ciudad jurez and governor of the state of chihuahua a post he held from 1992 to 1998 in the 80s he held leadership roles in his native state during the politicaldemocratic transition process and later served as one of the first governors to rise from the ranks of the opposition partyduring his tenure as governor the state of chihuahua placed first in the country in anticorruption and good governance according to the annual review conducted by the prestigious monterrey technological institute of higher studies itesmbarrio headed the federal comptrollers secretariat 20002003 and in 2003 was elected to the chamber of deputies where he became the leader of the national action partys parliamentary groupon february 24 2005 he expressed interest in becoming the pan presidential candidate and campaigned for a few months before quitting on july 7 arguing partisan favoritism towards the former minister of the interior santiago creelin january 2009 he was named as the mexican ambassador to canada this was met with controversy and protests from rights organizations in canada and mexico due to his actions during the juarez murders   \n",
       "35351                                                                                                                                                                                                                                                                                                                                                                                                                                                                                                                                                                                                                                                                                                                                                                                                                                                                                                                  lawrence henry larry summers born november 30 1954 is an american economist who is president emeritus and charles w eliot university professor of harvard universityborn in new haven connecticut summers became a professor of economics at harvard university in 1983 he left harvard in 1991 working as the chief economist at the world bank from 1991 to 1993 in 1993 summers was appointed undersecretary for international affairs of the united states department of the treasury under the clinton administration in 1995 he was promoted to deputy secretary of the treasury under his longtime political mentor robert rubin in 1999 he succeeded rubin as secretary of the treasury while working for the clinton administration summers played a leading role in the american response to the 1994 economic crisis in mexico the 1997 asian financial crisis and the russian financial crisis he was also influential in the american advised privatization of the economies of the postsoviet states and in the deregulation of the us financial system including the abolishment of the glasssteagall actfollowing the end of clintons term summers served as the 27th president of harvard university from 2001 to 2006 summers resigned as harvards president in the wake of a noconfidence vote by harvard faculty that resulted in large part from summerss conflict with cornel west financial conflict of interest questions regarding his relationship with andrei shleifer and a 2005 speech in which he suggested that the underrepresentation of women in science and engineering could be due to a different availability of aptitude at the high end and less to patterns of discrimination and socialization after his departure from harvard summers made millions as a managing partner at the hedge fund d e shaw co and by giving paid speeches to major financial institutions including goldman sachs jpmorgan chase citigroup merrill lynch and lehman brothers summers rejoined public service during the obama administration serving as the director of the white house united states national economic council for president barack obama from january 2009 until november 2010 where he emerged as a key economic decisionmaker in the obama administrations response to the great recession after his departure from the nec in december 2010 summers has worked in the private sector and as a columnist in major newspapers in mid2013 his name was widely floated as the potential successor to ben bernanke as the chairman of the federal reserve though after pushback from the left obama eventually nominated federal reserve vicechairwoman janet yellen for the position   \n",
       "22745                                                                                                                                                                                                                                                                                                                                                                                                                                                                                                                                                                                                                                                                                                                                                                                                                                                                                                                                                                                                                                                 sir wynn normington hughjones kb sometimes known as sir hugh jones born 1 november 1923 is a former british diplomat administrator and liberal party officialhugh jones was born at llangollen in north wales where his father was headmaster of the county school he was educated at ludlow grammar school and went up to selwyn college cambridge in 1941 where he got his degree in natural sciences in just two years during the rest of second world war he served as a signals officer in the royal air forcejones entered the diplomatic service in 1947 and served in various overseas and london postings until 1971 when he was seconded first to the lord presidents office and then the cabinet office to assist in the great debate which preceded the united kingdoms entry to the european economic community and to help steer the european communities bill through parliament he left government service in 1973 to become the director general of the english speaking union esujones father had been a liberal and his political sympathies were always towards the liberal party although as a public servant or esu administrator he could not participate in national political activity but in 1977 he was appointed secretary general of the liberal party and served in this post until 1983 from 198487 he was joint honorary treasurer of the party he steered the party through the period of the liblab pact 197778 under the leadership of david steel and during the formation of the alliance with the newly founded social democratic party playing a key role in the seats negotiations which so bedevilled the parties financially the late 1970s and early 1980s were difficult for the liberal party jones was forced to describe the partys position as being on a knife edge so he must have taken the treasurers post with misgivings in 1984 he was knighted for political and public service in the new years honours list of 1984after retirement sir hugh as a resident of avebury in wiltshire became chairman of the avebury in danger campaign now the avebury society which fought to preserve avebury as a world heritage site and living village he also undertook lecture tours of the united states on eastwest relations and other international and political questions he separated from his first wife ann with whom he had three children and later married oswynne jordanjones published the first volume of his autobiography diplomacy to politics by way of the jungle in 2002 and the second campaigning face to face in 2007   \n",
       "25258  marc ravalomanana malagasy ravalumanan born 12 december 1949 is a malagasy politician who was the president of madagascar from 2002 to 2009 born into a farming merina family in imerinkasinina near the capital city of antananarivo ravalomanana first rose to prominence as the founder and ceo of the vast dairy conglomerate tiko later launching successful wholesaler magro and several additional companieshe entered politics upon founding the tiako iarivo political party in 1999 and successfully ran for the position of mayor of antananarivo holding the position from 1999 to 2001 as mayor he improved sanitary and security conditions in the city in august 2001 he announced his candidacy as an independent in the december 2001 presidential election he then took office as president in 2002 amidst a dispute over election results in which he successfully pressed his claim to have won a majority in the first round under the leadership of jacques sylla ravalomananas prime minister from 2002 to 2007 the political party tiako i madagasikara was founded in 2002 to support ravalomananas presidency and came to dominate legislative and local elections he was reelected in december 2006 again with a majority in the first roundduring ravalomananas presidency madagascar made significant advances toward development targets and experienced an average of seven per cent growth per year his administration oversaw the construction of thousands of new schools and health clinics road rehabilitation aided in improving rural farmers access to markets the establishment of the independent anticorruption agency bianco and the adoption of diverse supporting policies resulted in a decline in government corruption the acreage of natural areas under protection expanded in fulfillment of ravalomananas madagascar naturally development program the 2007 release of ravalomananas comprehensive development strategy the madagascar action plan set targets and goals for national development over his second term in the areas of governance infrastructure agriculture health economy environment and national solidarityopposition members criticized ravalomanana in the later period of his presidency accusing him of increasing authoritarianism and the mixing of public and private interests in addition the benefits of the countrys growth were not evenly spread leading to increased wealth inequality inflation and a decline in purchasing power for the lower and middle classes in 2008 a controversial land lease agreement with korean agricultural firm daewoo the purchase of a costly presidential jet and the closure of media channels owned by opposition leader and mayor of antananarivo andry rajoelina strengthened popular disapproval of his policies rajoelina rallied popular support for the opposition leading to a popular uprising that began in january 2009 and ended two months later with ravalomananas resignation under pressure and rajoelina taking control with military support in a power transfer viewed by the international community as a coup dtat from 2009 to 2013 ravalomanana was active in negotiations between rajoelina and former heads of state albert zafy and didier ratsiraka to organize national elections in december 2012 he declared he would not present himself as a candidate then a precondition to the elections being viewed as legitimate by the international community he is currently imprisoned having been sentenced to lifelong hard labour for abuses of power by the rajoelina administration   \n",
       "\n",
       "         BO-eucl  \n",
       "35811   0.000000  \n",
       "24478  31.320920  \n",
       "28441  33.630343  \n",
       "14754  34.336569  \n",
       "31417  34.438351  \n",
       "36358  34.583233  \n",
       "13229  34.655447  \n",
       "35351  35.355339  \n",
       "22745  35.440090  \n",
       "25258  35.454196  "
      ],
      "text/html": [
       "<div>\n",
       "<style scoped>\n",
       "    .dataframe tbody tr th:only-of-type {\n",
       "        vertical-align: middle;\n",
       "    }\n",
       "\n",
       "    .dataframe tbody tr th {\n",
       "        vertical-align: top;\n",
       "    }\n",
       "\n",
       "    .dataframe thead th {\n",
       "        text-align: right;\n",
       "    }\n",
       "</style>\n",
       "<table border=\"1\" class=\"dataframe\">\n",
       "  <thead>\n",
       "    <tr style=\"text-align: right;\">\n",
       "      <th></th>\n",
       "      <th>URI</th>\n",
       "      <th>name</th>\n",
       "      <th>text</th>\n",
       "      <th>BO-eucl</th>\n",
       "    </tr>\n",
       "  </thead>\n",
       "  <tbody>\n",
       "    <tr>\n",
       "      <th>35811</th>\n",
       "      <td>&lt;http://dbpedia.org/resource/Barack_Obama&gt;</td>\n",
       "      <td>Barack Obama</td>\n",
       "      <td>barack hussein obama ii brk husen bm born august 4 1961 is the 44th and current president of the united states and the first african american to hold the office born in honolulu hawaii obama is a graduate of columbia university and harvard law school where he served as president of the harvard law review he was a community organizer in chicago before earning his law degree he worked as a civil rights attorney and taught constitutional law at the university of chicago law school from 1992 to 2004 he served three terms representing the 13th district in the illinois senate from 1997 to 2004 running unsuccessfully for the united states house of representatives in 2000in 2004 obama received national attention during his campaign to represent illinois in the united states senate with his victory in the march democratic party primary his keynote address at the democratic national convention in july and his election to the senate in november he began his presidential campaign in 2007 and after a close primary campaign against hillary rodham clinton in 2008 he won sufficient delegates in the democratic party primaries to receive the presidential nomination he then defeated republican nominee john mccain in the general election and was inaugurated as president on january 20 2009 nine months after his election obama was named the 2009 nobel peace prize laureateduring his first two years in office obama signed into law economic stimulus legislation in response to the great recession in the form of the american recovery and reinvestment act of 2009 and the tax relief unemployment insurance reauthorization and job creation act of 2010 other major domestic initiatives in his first term included the patient protection and affordable care act often referred to as obamacare the doddfrank wall street reform and consumer protection act and the dont ask dont tell repeal act of 2010 in foreign policy obama ended us military involvement in the iraq war increased us troop levels in afghanistan signed the new start arms control treaty with russia ordered us military involvement in libya and ordered the military operation that resulted in the death of osama bin laden in january 2011 the republicans regained control of the house of representatives as the democratic party lost a total of 63 seats and after a lengthy debate over federal spending and whether or not to raise the nations debt limit obama signed the budget control act of 2011 and the american taxpayer relief act of 2012obama was reelected president in november 2012 defeating republican nominee mitt romney and was sworn in for a second term on january 20 2013 during his second term obama has promoted domestic policies related to gun control in response to the sandy hook elementary school shooting and has called for full equality for lgbt americans while his administration has filed briefs which urged the supreme court to strike down the defense of marriage act of 1996 and californias proposition 8 as unconstitutional in foreign policy obama ordered us military involvement in iraq in response to gains made by the islamic state in iraq after the 2011 withdrawal from iraq continued the process of ending us combat operations in afghanistan and has sought to normalize us relations with cuba</td>\n",
       "      <td>0.000000</td>\n",
       "    </tr>\n",
       "    <tr>\n",
       "      <th>24478</th>\n",
       "      <td>&lt;http://dbpedia.org/resource/Joe_Biden&gt;</td>\n",
       "      <td>Joe Biden</td>\n",
       "      <td>joseph robinette joe biden jr dosf rbnt badn born november 20 1942 is the 47th and current vice president of the united states jointly elected with president barack obama he is a member of the democratic party and was a united states senator from delaware from january 3 1973 until his resignation on january 15 2009 following his election to the vice presidency in 2012 biden was elected to a second term alongside obamabiden was born in scranton pennsylvania and lived there for ten years before moving to delaware he became an attorney in 1969 and was elected to the new castle county council in 1970 biden was first elected to the senate in 1972 and became the sixthyoungest senator in us history he was reelected to the senate six times and was the fourth most senior senator at the time of his resignation biden was a longtime member and former chairman of the foreign relations committee his strong advocacy helped bring about us military assistance and intervention during the bosnian war he opposed the gulf war in 1991 he voted in favor of the iraq war resolution in 2002 but later proposed resolutions to alter us strategy there he has also served as chairman of the senate judiciary committee dealing with issues related to drug policy crime prevention and civil liberties and led creation of the violent crime control and law enforcement act and violence against women act he chaired the judiciary committee during the contentious us supreme court nominations of robert bork and clarence thomasbiden unsuccessfully sought the democratic presidential nomination in 1988 and 2008 both times dropping out early in the race barack obama selected biden to be the democratic party nominee for vice president in the 2008 us presidential election biden is the first roman catholic and the first delawarean to become vice president of the united states as vice president biden has been heavily involved in obamas decisionmaking process and held the oversight role for infrastructure spending from the obama stimulus package aimed at counteracting the late2000s recession his ability to negotiate with congressional republicans played a key role in bringing about the bipartisan deals that resulted in the tax relief unemployment insurance reauthorization and job creation act of 2010 that resolved a taxation deadlock the budget control act of 2011 that resolved that years debt ceiling crisis and the american taxpayer relief act of 2012 that addressed the impending fiscal cliff obama and biden were reelected in 2012</td>\n",
       "      <td>31.320920</td>\n",
       "    </tr>\n",
       "    <tr>\n",
       "      <th>28441</th>\n",
       "      <td>&lt;http://dbpedia.org/resource/George_W._Bush&gt;</td>\n",
       "      <td>George W. Bush</td>\n",
       "      <td>george walker bush born july 6 1946 is an american politician and businessman who served as the 43rd president of the united states from 2001 to 2009 and the 46th governor of texas from 1995 to 2000 the eldest son of barbara and george h w bush he was born in new haven connecticut after graduating from yale university in 1968 and harvard business school in 1975 bush worked in oil businesses he married laura welch in 1977 and ran unsuccessfully for the house of representatives shortly thereafter he later coowned the texas rangers baseball team before defeating ann richards in the 1994 texas gubernatorial election bush was elected president in 2000 after a close and controversial election becoming the fourth president to be elected while receiving fewer popular votes nationwide than his opponent bush is the second president to have been the son of a former president the first having been john quincy adams he is also the brother of jeb bush former governor of floridaeight months into bushs first term as president the september 11 2001 terrorist attacks occurred in response bush launched the war on terror an international military campaign which included the war in afghanistan launched in 2001 and the war in iraq launched in 2003in addition to national security issues bush also promoted policies on the economy health care education social security reform and amending the constitution to prohibit samesex marriage he signed into law broad tax cuts the patriot act the no child left behind act the partialbirth abortion ban act medicare prescription drug benefits for seniors and funding for the aids relief program known as pepfar his tenure saw national debates on immigration social security electronic surveillance and torturebush successfully ran for reelection against democratic senator john kerry in 2004 in another relatively close election after his reelection bush received increasingly heated criticism from across the political spectrum for his handling of the iraq war hurricane katrina and numerous other challenges amid this criticism the democratic party regained control of congress in the 2006 elections in december 2007 the united states entered its longest postworld war ii recession often referred to as the great recession prompting the bush administration to enact multiple economic programs intended to preserve the countrys financial system nationally bush was both one of the most popular and unpopular presidents in history having received the highest recorded presidential approval ratings in the wake of the september 11 attacks as well as one of the lowest approval ratings during the 2008 financial crisis he was met with public protests even occurring during visits to the united kingdombush left office in 2009 since then he has returned to texas and purchased a home in a suburban area of dallas he is currently a public speaker has written a memoir titled decision points and his presidential library was opened in 2013 his presidency has been ranked among the worst in recent surveys of presidential scholars although bush has been viewed more favorably by the public since leaving office</td>\n",
       "      <td>33.630343</td>\n",
       "    </tr>\n",
       "    <tr>\n",
       "      <th>14754</th>\n",
       "      <td>&lt;http://dbpedia.org/resource/Mitt_Romney&gt;</td>\n",
       "      <td>Mitt Romney</td>\n",
       "      <td>willard mitt romney born march 12 1947 is an american politician and businessman who was the republican partys nominee for president of the united states in the 2012 election before his presidential bid he served as the 70th governor of massachusetts from 2003 to 2007raised in bloomfield hills michigan by his parents george and lenore romney mitt romney spent two and a half years in france as a mormon missionary starting in 1966 in 1969 he married ann davies with whom he has had five sons by 1971 romney had participated in the political campaigns of both of his parents in that year he earned a bachelor of arts at brigham young and in 1975 a joint juris doctor and master of business administration at harvard romney then entered the management consulting industry and in 1977 secured a position at bain company later serving as its chief executive officer he helped lead the company out of financial crisis in 1984 he cofounded and led the spinoff company bain capital a highly profitable private equity investment firm that became one of the largest of its kind in the nation active in the church of jesus christ of latterday saints romney served during his business career as the bishop of his ward head of his local congregation and then stake president in his home area near boston after stepping down from bain capital and his local leadership role in the church he ran as the republican candidate in the 1994 massachusetts election for us senate upon losing to longtime incumbent ted kennedy he resumed his position at bain capital years later a successful stint as president and ceo of the salt lake organizing committee for the 2002 winter olympics led to a relaunch of his political careerelected governor of massachusetts in 2002 romney helped develop and enact into law the massachusetts health care reform legislation the first of its kind in the nation which provided nearuniversal health insurance access through statelevel subsidies and individual mandates to purchase insurance he also presided over the elimination of a projected 1215 billion deficit through a combination of spending cuts increased fees and the closure of corporate tax loopholes romney did not seek reelection in 2006 instead focusing on his campaign for the republican nomination in the 2008 us presidential election he won several primaries and caucuses but lost to the eventual nominee senator john mccain his considerable net worth estimated in 2012 at 190250 million helped finance his political campaigns prior to 2012romney won the 2012 republican presidential nomination becoming the first mormon to be a major party presidential nominee romney was defeated by incumbent democratic president barack obama in the november 2012 general election losing by 332206 electoral college votes the popular vote margin was 5147 percent in obamas favor following the election he initially kept a low profile but later became more visible politically after actively considering the possibility in january 2015 he ruled out running for the presidency again in the 2016 presidential election</td>\n",
       "      <td>34.336569</td>\n",
       "    </tr>\n",
       "    <tr>\n",
       "      <th>31417</th>\n",
       "      <td>&lt;http://dbpedia.org/resource/Walter_Mondale&gt;</td>\n",
       "      <td>Walter Mondale</td>\n",
       "      <td>walter frederick fritz mondale born january 5 1928 is an american democratic party politician who served as the 42nd vice president of the united states 19771981 under president jimmy carter and as a united states senator from minnesota 19641976 he was the democratic partys presidential candidate in the united states presidential election of 1984 at more than 34 years he has had the longest retirement of any vice presidentmondale was born in ceylon minnesota and graduated from the university of minnesota in 1951 he then served in the us army during the korean war before earning a law degree in 1956 he married joan adams in 1955 working as a lawyer in minneapolis mondale was appointed to the position of attorney general in 1960 by governor orville freeman and was elected to a full term as attorney general in 1962 with 60 of votes cast he was appointed to the u s senate by governor karl f rolvaag upon the resignation of senator hubert h humphrey consequent to humphreys election as vice president mondale was subsequently elected to a full senate term in 1966 and again in 1972 resigning that post in 1976 as he prepared to succeed to the vice presidency in 1977 while in the senate he supported consumer protection fair housing tax reform and the desegregation of schools importantly he served as a member of the select committee to study governmental operations with respect to intelligence activities church committeein 1976 carter the democratic presidential nominee chose mondale as his vice presidential running mate in the forthcoming election the cartermondale ticket defeated incumbent president gerald ford and his vice presidential running mate bob dole carter and mondales time in office was marred by a worsening economy and although both were renominated by the democratic party they lost the 1980 election to republicans ronald reagan and george hw bushin 1984 mondale won the democratic presidential nomination and campaigned for a nuclear freeze the equal rights amendment an increase in taxes and a reduction of us public debt mondale was defeated by president reagan in one of the biggest landslides in us history gaining electoral votes from only his home state of minnesota and the district of columbiaafter the election mondale joined the minnesotabased law firm of dorsey whitney and the national democratic institute for international affairs 198693 and was credited with successes in poland and hungary president bill clinton appointed mondale united states ambassador to japan in 1993 he retired in 1996 in 2002 he ran for his old senate seat however he was defeated mondale then returned to working at dorsey whitney and remains active in the democratic party</td>\n",
       "      <td>34.438351</td>\n",
       "    </tr>\n",
       "    <tr>\n",
       "      <th>36358</th>\n",
       "      <td>&lt;http://dbpedia.org/resource/Don_Bonker&gt;</td>\n",
       "      <td>Don Bonker</td>\n",
       "      <td>don leroy bonker born march 7 1937 in denver colorado is an american former congressman for the state of washington and a democrat he served as a member of the united states house of representatives from 1975 to 1989 representing washingtons third congressional districthe is a resident of bainbridge island washingtonbonker attended public schools in westminster colorado he received his associate of arts degree from clark college in vancouver washington in 1962 his bachelor of arts from lewis clark college in portland oregon in 1964 and completed graduate work at american university in washington dc bonker served in the united states coast guard as first class yeoman from 1955 to 1959he served as aide to united states senator maurine brown neuberger from 1964 to 1965 clark county auditor in vancouver from 1966 to 1974 and as a delegate to washington state democratic conventions from 1968 to 1970 bonker ran for washington secretary of state in 1972 but was defeated by incumbent republican lud kramer bonker was elected as a moderate democrat to the 94th and to the six succeeding congresses january 3 1975january 3 1989 he did not run for reelection in 1988 so he could run for nomination to the united states senate where he narrowly lost in the primary to democrat mike lowry who was defeated in the general election by republican slade gorton in 1992 bonker again ran for a us senate seat but was defeated in the primary by the eventual winner democratic senator patty murray in 2000 he ran for secretary of state again winning the party nomination in the primary but losing in the general to sam reedduring his time in the house bonker was a senior member of the house foreign affairs committee and chairman of the subcommittee on international economic policy and trade he also served on the presidents export council and headed former house speaker tip oneills trade task force which led to passage of the 1988 omnibus trade act during his tenure in congress bonker authored and was a principal sponsor of significant trade legislation such as the export trading company act and the export administration act he helped establish the grays harbor national wildlife refuge and the mount st helens national volcanic monument added protection island to the national wildlife refuge system preserved the point of arches in the olympic national park added 250000 acres 1000 km to the 1984 washington wilderness act and banned the export of western redcedar bonker is now the president and ceo of the international management and development institute on the board of the foundation for usrussia business cooperation and is executive vice president of apco worldwide 1 in 2009 bonker was the target of significant criticism by democrats for endorsing republican susan hutchison for king county executive against democratic favorite and eventual winner dow constantinehe is the author of americas trade crisis published by houghton mifflin and is a writer and speaker on us trade policy his monthly column on trade policy appears in a number of newspapers around the country</td>\n",
       "      <td>34.583233</td>\n",
       "    </tr>\n",
       "    <tr>\n",
       "      <th>13229</th>\n",
       "      <td>&lt;http://dbpedia.org/resource/Francisco_Barrio&gt;</td>\n",
       "      <td>Francisco Barrio</td>\n",
       "      <td>francisco javier barrio terrazas born november 25 1950 is a mexican politician affiliated to the national action party pan he is a former governor of chihuahua and former secretary in the cabinet of president vicente foxbarrio was born in satevo chihuahua and received a bachelors degree in accounting and an mba from the autonomous university of chihuahua he did some consulting and worked in the private sector before joining the local chapter of the national action party in 1983 and becoming its first member to ever win the mayorship of jurez chihuahua he ran for governor in 1986 and lost against the pri candidate fernando baeza melndez in one of the most controversial elections in the states recent history six years later he made another attempt and won ending more than 60 years of uninterrupted control of chihuahuas governorship by members of the institutional revolutionary party as a governor he delivered mixed results and consequently the pri regained control of the state at the end of his term while governor of chihuahua hundreds of women were raped and murdered in juarez barrio refused for years to mount an inquiry and suggested the attacks were not surprising because the victims walked in dark places at night and wore provocative clothingin the course of his political career barrioterrazas has served as mayor of ciudad jurez and governor of the state of chihuahua a post he held from 1992 to 1998 in the 80s he held leadership roles in his native state during the politicaldemocratic transition process and later served as one of the first governors to rise from the ranks of the opposition partyduring his tenure as governor the state of chihuahua placed first in the country in anticorruption and good governance according to the annual review conducted by the prestigious monterrey technological institute of higher studies itesmbarrio headed the federal comptrollers secretariat 20002003 and in 2003 was elected to the chamber of deputies where he became the leader of the national action partys parliamentary groupon february 24 2005 he expressed interest in becoming the pan presidential candidate and campaigned for a few months before quitting on july 7 arguing partisan favoritism towards the former minister of the interior santiago creelin january 2009 he was named as the mexican ambassador to canada this was met with controversy and protests from rights organizations in canada and mexico due to his actions during the juarez murders</td>\n",
       "      <td>34.655447</td>\n",
       "    </tr>\n",
       "    <tr>\n",
       "      <th>35351</th>\n",
       "      <td>&lt;http://dbpedia.org/resource/Lawrence_Summers&gt;</td>\n",
       "      <td>Lawrence Summers</td>\n",
       "      <td>lawrence henry larry summers born november 30 1954 is an american economist who is president emeritus and charles w eliot university professor of harvard universityborn in new haven connecticut summers became a professor of economics at harvard university in 1983 he left harvard in 1991 working as the chief economist at the world bank from 1991 to 1993 in 1993 summers was appointed undersecretary for international affairs of the united states department of the treasury under the clinton administration in 1995 he was promoted to deputy secretary of the treasury under his longtime political mentor robert rubin in 1999 he succeeded rubin as secretary of the treasury while working for the clinton administration summers played a leading role in the american response to the 1994 economic crisis in mexico the 1997 asian financial crisis and the russian financial crisis he was also influential in the american advised privatization of the economies of the postsoviet states and in the deregulation of the us financial system including the abolishment of the glasssteagall actfollowing the end of clintons term summers served as the 27th president of harvard university from 2001 to 2006 summers resigned as harvards president in the wake of a noconfidence vote by harvard faculty that resulted in large part from summerss conflict with cornel west financial conflict of interest questions regarding his relationship with andrei shleifer and a 2005 speech in which he suggested that the underrepresentation of women in science and engineering could be due to a different availability of aptitude at the high end and less to patterns of discrimination and socialization after his departure from harvard summers made millions as a managing partner at the hedge fund d e shaw co and by giving paid speeches to major financial institutions including goldman sachs jpmorgan chase citigroup merrill lynch and lehman brothers summers rejoined public service during the obama administration serving as the director of the white house united states national economic council for president barack obama from january 2009 until november 2010 where he emerged as a key economic decisionmaker in the obama administrations response to the great recession after his departure from the nec in december 2010 summers has worked in the private sector and as a columnist in major newspapers in mid2013 his name was widely floated as the potential successor to ben bernanke as the chairman of the federal reserve though after pushback from the left obama eventually nominated federal reserve vicechairwoman janet yellen for the position</td>\n",
       "      <td>35.355339</td>\n",
       "    </tr>\n",
       "    <tr>\n",
       "      <th>22745</th>\n",
       "      <td>&lt;http://dbpedia.org/resource/Wynn_Normington_Hugh-Jones&gt;</td>\n",
       "      <td>Wynn Normington Hugh-Jones</td>\n",
       "      <td>sir wynn normington hughjones kb sometimes known as sir hugh jones born 1 november 1923 is a former british diplomat administrator and liberal party officialhugh jones was born at llangollen in north wales where his father was headmaster of the county school he was educated at ludlow grammar school and went up to selwyn college cambridge in 1941 where he got his degree in natural sciences in just two years during the rest of second world war he served as a signals officer in the royal air forcejones entered the diplomatic service in 1947 and served in various overseas and london postings until 1971 when he was seconded first to the lord presidents office and then the cabinet office to assist in the great debate which preceded the united kingdoms entry to the european economic community and to help steer the european communities bill through parliament he left government service in 1973 to become the director general of the english speaking union esujones father had been a liberal and his political sympathies were always towards the liberal party although as a public servant or esu administrator he could not participate in national political activity but in 1977 he was appointed secretary general of the liberal party and served in this post until 1983 from 198487 he was joint honorary treasurer of the party he steered the party through the period of the liblab pact 197778 under the leadership of david steel and during the formation of the alliance with the newly founded social democratic party playing a key role in the seats negotiations which so bedevilled the parties financially the late 1970s and early 1980s were difficult for the liberal party jones was forced to describe the partys position as being on a knife edge so he must have taken the treasurers post with misgivings in 1984 he was knighted for political and public service in the new years honours list of 1984after retirement sir hugh as a resident of avebury in wiltshire became chairman of the avebury in danger campaign now the avebury society which fought to preserve avebury as a world heritage site and living village he also undertook lecture tours of the united states on eastwest relations and other international and political questions he separated from his first wife ann with whom he had three children and later married oswynne jordanjones published the first volume of his autobiography diplomacy to politics by way of the jungle in 2002 and the second campaigning face to face in 2007</td>\n",
       "      <td>35.440090</td>\n",
       "    </tr>\n",
       "    <tr>\n",
       "      <th>25258</th>\n",
       "      <td>&lt;http://dbpedia.org/resource/Marc_Ravalomanana&gt;</td>\n",
       "      <td>Marc Ravalomanana</td>\n",
       "      <td>marc ravalomanana malagasy ravalumanan born 12 december 1949 is a malagasy politician who was the president of madagascar from 2002 to 2009 born into a farming merina family in imerinkasinina near the capital city of antananarivo ravalomanana first rose to prominence as the founder and ceo of the vast dairy conglomerate tiko later launching successful wholesaler magro and several additional companieshe entered politics upon founding the tiako iarivo political party in 1999 and successfully ran for the position of mayor of antananarivo holding the position from 1999 to 2001 as mayor he improved sanitary and security conditions in the city in august 2001 he announced his candidacy as an independent in the december 2001 presidential election he then took office as president in 2002 amidst a dispute over election results in which he successfully pressed his claim to have won a majority in the first round under the leadership of jacques sylla ravalomananas prime minister from 2002 to 2007 the political party tiako i madagasikara was founded in 2002 to support ravalomananas presidency and came to dominate legislative and local elections he was reelected in december 2006 again with a majority in the first roundduring ravalomananas presidency madagascar made significant advances toward development targets and experienced an average of seven per cent growth per year his administration oversaw the construction of thousands of new schools and health clinics road rehabilitation aided in improving rural farmers access to markets the establishment of the independent anticorruption agency bianco and the adoption of diverse supporting policies resulted in a decline in government corruption the acreage of natural areas under protection expanded in fulfillment of ravalomananas madagascar naturally development program the 2007 release of ravalomananas comprehensive development strategy the madagascar action plan set targets and goals for national development over his second term in the areas of governance infrastructure agriculture health economy environment and national solidarityopposition members criticized ravalomanana in the later period of his presidency accusing him of increasing authoritarianism and the mixing of public and private interests in addition the benefits of the countrys growth were not evenly spread leading to increased wealth inequality inflation and a decline in purchasing power for the lower and middle classes in 2008 a controversial land lease agreement with korean agricultural firm daewoo the purchase of a costly presidential jet and the closure of media channels owned by opposition leader and mayor of antananarivo andry rajoelina strengthened popular disapproval of his policies rajoelina rallied popular support for the opposition leading to a popular uprising that began in january 2009 and ended two months later with ravalomananas resignation under pressure and rajoelina taking control with military support in a power transfer viewed by the international community as a coup dtat from 2009 to 2013 ravalomanana was active in negotiations between rajoelina and former heads of state albert zafy and didier ratsiraka to organize national elections in december 2012 he declared he would not present himself as a candidate then a precondition to the elections being viewed as legitimate by the international community he is currently imprisoned having been sentenced to lifelong hard labour for abuses of power by the rajoelina administration</td>\n",
       "      <td>35.454196</td>\n",
       "    </tr>\n",
       "  </tbody>\n",
       "</table>\n",
       "</div>"
      ]
     },
     "execution_count": 84,
     "metadata": {},
     "output_type": "execute_result"
    }
   ],
   "execution_count": 84
  },
  {
   "cell_type": "markdown",
   "metadata": {},
   "source": [
    "**b)** Measure the pairwise distance between the Wikipedia pages of Barack Obama, George W. Bush, and Joe Biden. Which of the three pairs has the smallest distance?"
   ]
  },
  {
   "cell_type": "code",
   "metadata": {
    "collapsed": false,
    "ExecuteTime": {
     "end_time": "2024-11-21T10:31:32.045190Z",
     "start_time": "2024-11-21T10:31:30.187374Z"
    }
   },
   "source": [
    "dist = pairwise_distances(WCmatrix, WCmatrix[wiki[wiki['name'] == 'George W. Bush'].index[0]])\n",
    "bush_obama = dist[wiki[wiki['name'] == 'Barack Obama'].index[0]]\n",
    "bush_biden = dist[wiki[wiki['name'] == 'Joe Biden'].index[0]]\n",
    "dist = pairwise_distances(WCmatrix, WCmatrix[wiki[wiki['name'] == 'Joe Biden'].index[0]])\n",
    "biden_obama = dist[wiki[wiki['name'] == 'Barack Obama'].index[0]]\n",
    "print(bush_obama, bush_biden, biden_obama)"
   ],
   "outputs": [
    {
     "name": "stdout",
     "output_type": "stream",
     "text": [
      "[33.63034344] [30.91924967] [31.32091953]\n"
     ]
    }
   ],
   "execution_count": 85
  },
  {
   "cell_type": "markdown",
   "metadata": {},
   "source": [
    "All of the 10 people from **a)** are politicians, but about half of them have rather tenuous connections with Obama, other than the fact that they are politicians, e.g.,\n",
    "\n",
    "* Francisco Barrio is a Mexican politician, and a former governor of Chihuahua.\n",
    "* Walter Mondale and Don Bonker are Democrats who made their career in late 1970s.\n",
    "\n",
    "Nearest neighbors with raw word counts got some things right, showing all politicians in the query result, but missed finer and important details."
   ]
  },
  {
   "cell_type": "markdown",
   "metadata": {},
   "source": [
    "**c)** Let's find out why Francisco Barrio was considered a close neighbor of Obama.\n",
    "To do this, look at the most frequently used words in each of Barack Obama and Francisco Barrio's pages."
   ]
  },
  {
   "cell_type": "code",
   "metadata": {
    "collapsed": true,
    "ExecuteTime": {
     "end_time": "2024-11-21T10:31:32.137064Z",
     "start_time": "2024-11-21T10:31:32.116100Z"
    }
   },
   "source": [
    "def top_words(name):\n",
    "    \"\"\"\n",
    "    Get a table of the most frequent words in the given person's wikipedia page.\n",
    "    \"\"\"\n",
    "    # Your code goes here\n",
    "    df = pd.DataFrame({'word': vectorizer.get_feature_names_out(), 'count': WCmatrix[wiki[wiki['name'] == name].index[0]].toarray()[0]})\n",
    "    \n",
    "    return df.sort_values(by='count',ascending=False)"
   ],
   "outputs": [],
   "execution_count": 86
  },
  {
   "cell_type": "code",
   "metadata": {
    "collapsed": false,
    "jupyter": {
     "outputs_hidden": false
    },
    "ExecuteTime": {
     "end_time": "2024-11-21T10:31:32.303400Z",
     "start_time": "2024-11-21T10:31:32.260455Z"
    }
   },
   "source": [
    "obama_words = top_words('Barack Obama')\n",
    "obama_words"
   ],
   "outputs": [
    {
     "data": {
      "text/plain": [
       "          word  count\n",
       "9063       the     40\n",
       "4622        in     30\n",
       "723        and     21\n",
       "6381        of     18\n",
       "9161        to     14\n",
       "...        ...    ...\n",
       "3376    europa      0\n",
       "3377    europe      0\n",
       "3378  european      0\n",
       "3379   europes      0\n",
       "9999    zurich      0\n",
       "\n",
       "[10000 rows x 2 columns]"
      ],
      "text/html": [
       "<div>\n",
       "<style scoped>\n",
       "    .dataframe tbody tr th:only-of-type {\n",
       "        vertical-align: middle;\n",
       "    }\n",
       "\n",
       "    .dataframe tbody tr th {\n",
       "        vertical-align: top;\n",
       "    }\n",
       "\n",
       "    .dataframe thead th {\n",
       "        text-align: right;\n",
       "    }\n",
       "</style>\n",
       "<table border=\"1\" class=\"dataframe\">\n",
       "  <thead>\n",
       "    <tr style=\"text-align: right;\">\n",
       "      <th></th>\n",
       "      <th>word</th>\n",
       "      <th>count</th>\n",
       "    </tr>\n",
       "  </thead>\n",
       "  <tbody>\n",
       "    <tr>\n",
       "      <th>9063</th>\n",
       "      <td>the</td>\n",
       "      <td>40</td>\n",
       "    </tr>\n",
       "    <tr>\n",
       "      <th>4622</th>\n",
       "      <td>in</td>\n",
       "      <td>30</td>\n",
       "    </tr>\n",
       "    <tr>\n",
       "      <th>723</th>\n",
       "      <td>and</td>\n",
       "      <td>21</td>\n",
       "    </tr>\n",
       "    <tr>\n",
       "      <th>6381</th>\n",
       "      <td>of</td>\n",
       "      <td>18</td>\n",
       "    </tr>\n",
       "    <tr>\n",
       "      <th>9161</th>\n",
       "      <td>to</td>\n",
       "      <td>14</td>\n",
       "    </tr>\n",
       "    <tr>\n",
       "      <th>...</th>\n",
       "      <td>...</td>\n",
       "      <td>...</td>\n",
       "    </tr>\n",
       "    <tr>\n",
       "      <th>3376</th>\n",
       "      <td>europa</td>\n",
       "      <td>0</td>\n",
       "    </tr>\n",
       "    <tr>\n",
       "      <th>3377</th>\n",
       "      <td>europe</td>\n",
       "      <td>0</td>\n",
       "    </tr>\n",
       "    <tr>\n",
       "      <th>3378</th>\n",
       "      <td>european</td>\n",
       "      <td>0</td>\n",
       "    </tr>\n",
       "    <tr>\n",
       "      <th>3379</th>\n",
       "      <td>europes</td>\n",
       "      <td>0</td>\n",
       "    </tr>\n",
       "    <tr>\n",
       "      <th>9999</th>\n",
       "      <td>zurich</td>\n",
       "      <td>0</td>\n",
       "    </tr>\n",
       "  </tbody>\n",
       "</table>\n",
       "<p>10000 rows × 2 columns</p>\n",
       "</div>"
      ]
     },
     "execution_count": 87,
     "metadata": {},
     "output_type": "execute_result"
    }
   ],
   "execution_count": 87
  },
  {
   "cell_type": "code",
   "metadata": {
    "collapsed": false,
    "ExecuteTime": {
     "end_time": "2024-11-21T10:31:32.597739Z",
     "start_time": "2024-11-21T10:31:32.540588Z"
    }
   },
   "source": [
    "barrio_words = top_words('Francisco Barrio')\n",
    "barrio_words"
   ],
   "outputs": [
    {
     "data": {
      "text/plain": [
       "          word  count\n",
       "9063       the     36\n",
       "6381        of     24\n",
       "723        and     18\n",
       "4622        in     17\n",
       "4291        he     10\n",
       "...        ...    ...\n",
       "3366   eternal      0\n",
       "3367   ethical      0\n",
       "3368    ethics      0\n",
       "3369  ethiopia      0\n",
       "9999    zurich      0\n",
       "\n",
       "[10000 rows x 2 columns]"
      ],
      "text/html": [
       "<div>\n",
       "<style scoped>\n",
       "    .dataframe tbody tr th:only-of-type {\n",
       "        vertical-align: middle;\n",
       "    }\n",
       "\n",
       "    .dataframe tbody tr th {\n",
       "        vertical-align: top;\n",
       "    }\n",
       "\n",
       "    .dataframe thead th {\n",
       "        text-align: right;\n",
       "    }\n",
       "</style>\n",
       "<table border=\"1\" class=\"dataframe\">\n",
       "  <thead>\n",
       "    <tr style=\"text-align: right;\">\n",
       "      <th></th>\n",
       "      <th>word</th>\n",
       "      <th>count</th>\n",
       "    </tr>\n",
       "  </thead>\n",
       "  <tbody>\n",
       "    <tr>\n",
       "      <th>9063</th>\n",
       "      <td>the</td>\n",
       "      <td>36</td>\n",
       "    </tr>\n",
       "    <tr>\n",
       "      <th>6381</th>\n",
       "      <td>of</td>\n",
       "      <td>24</td>\n",
       "    </tr>\n",
       "    <tr>\n",
       "      <th>723</th>\n",
       "      <td>and</td>\n",
       "      <td>18</td>\n",
       "    </tr>\n",
       "    <tr>\n",
       "      <th>4622</th>\n",
       "      <td>in</td>\n",
       "      <td>17</td>\n",
       "    </tr>\n",
       "    <tr>\n",
       "      <th>4291</th>\n",
       "      <td>he</td>\n",
       "      <td>10</td>\n",
       "    </tr>\n",
       "    <tr>\n",
       "      <th>...</th>\n",
       "      <td>...</td>\n",
       "      <td>...</td>\n",
       "    </tr>\n",
       "    <tr>\n",
       "      <th>3366</th>\n",
       "      <td>eternal</td>\n",
       "      <td>0</td>\n",
       "    </tr>\n",
       "    <tr>\n",
       "      <th>3367</th>\n",
       "      <td>ethical</td>\n",
       "      <td>0</td>\n",
       "    </tr>\n",
       "    <tr>\n",
       "      <th>3368</th>\n",
       "      <td>ethics</td>\n",
       "      <td>0</td>\n",
       "    </tr>\n",
       "    <tr>\n",
       "      <th>3369</th>\n",
       "      <td>ethiopia</td>\n",
       "      <td>0</td>\n",
       "    </tr>\n",
       "    <tr>\n",
       "      <th>9999</th>\n",
       "      <td>zurich</td>\n",
       "      <td>0</td>\n",
       "    </tr>\n",
       "  </tbody>\n",
       "</table>\n",
       "<p>10000 rows × 2 columns</p>\n",
       "</div>"
      ]
     },
     "execution_count": 88,
     "metadata": {},
     "output_type": "execute_result"
    }
   ],
   "execution_count": 88
  },
  {
   "cell_type": "markdown",
   "metadata": {},
   "source": [
    "**d)** Extract the list of most frequent **common** words that appear in both Obama's and Barrio's documents and display the five words that appear most often in Barrio's article.\n",
    "\n",
    "Use a dataframe operation known as **join**. The **join** operation is very useful when it comes to playing around with data: it lets you combine the content of two tables using a shared column (in this case, the index column of words). See [the documentation](https://pandas.pydata.org/pandas-docs/stable/reference/api/pandas.DataFrame.join.html) for more details."
   ]
  },
  {
   "cell_type": "code",
   "metadata": {
    "collapsed": false,
    "jupyter": {
     "outputs_hidden": false
    },
    "ExecuteTime": {
     "end_time": "2024-11-21T10:31:33.093618Z",
     "start_time": "2024-11-21T10:31:32.992277Z"
    }
   },
   "source": [
    "# Modify the code to avoid error.\n",
    "\n",
    "common_words = obama_words.join(barrio_words, lsuffix='_Obama', rsuffix='_Barrio')\n",
    "common_words.sort_values(by='count_Barrio', ascending=False).head(5)[['word_Barrio', 'count_Barrio']]"
   ],
   "outputs": [
    {
     "data": {
      "text/plain": [
       "     word_Barrio  count_Barrio\n",
       "9063         the            36\n",
       "6381          of            24\n",
       "723          and            18\n",
       "4622          in            17\n",
       "4291          he            10"
      ],
      "text/html": [
       "<div>\n",
       "<style scoped>\n",
       "    .dataframe tbody tr th:only-of-type {\n",
       "        vertical-align: middle;\n",
       "    }\n",
       "\n",
       "    .dataframe tbody tr th {\n",
       "        vertical-align: top;\n",
       "    }\n",
       "\n",
       "    .dataframe thead th {\n",
       "        text-align: right;\n",
       "    }\n",
       "</style>\n",
       "<table border=\"1\" class=\"dataframe\">\n",
       "  <thead>\n",
       "    <tr style=\"text-align: right;\">\n",
       "      <th></th>\n",
       "      <th>word_Barrio</th>\n",
       "      <th>count_Barrio</th>\n",
       "    </tr>\n",
       "  </thead>\n",
       "  <tbody>\n",
       "    <tr>\n",
       "      <th>9063</th>\n",
       "      <td>the</td>\n",
       "      <td>36</td>\n",
       "    </tr>\n",
       "    <tr>\n",
       "      <th>6381</th>\n",
       "      <td>of</td>\n",
       "      <td>24</td>\n",
       "    </tr>\n",
       "    <tr>\n",
       "      <th>723</th>\n",
       "      <td>and</td>\n",
       "      <td>18</td>\n",
       "    </tr>\n",
       "    <tr>\n",
       "      <th>4622</th>\n",
       "      <td>in</td>\n",
       "      <td>17</td>\n",
       "    </tr>\n",
       "    <tr>\n",
       "      <th>4291</th>\n",
       "      <td>he</td>\n",
       "      <td>10</td>\n",
       "    </tr>\n",
       "  </tbody>\n",
       "</table>\n",
       "</div>"
      ]
     },
     "execution_count": 89,
     "metadata": {},
     "output_type": "execute_result"
    }
   ],
   "execution_count": 89
  },
  {
   "cell_type": "markdown",
   "metadata": {},
   "source": [
    "Collect all words that appear both in Barack Obama and George W. Bush pages.  Out of those words, find the 10 words that show up most often in Obama's page. "
   ]
  },
  {
   "metadata": {
    "collapsed": false,
    "ExecuteTime": {
     "end_time": "2024-11-21T10:31:33.486925Z",
     "start_time": "2024-11-21T10:31:33.417425Z"
    }
   },
   "cell_type": "code",
   "source": [
    "bush_words = top_words('George W. Bush')\n",
    "# Modify the code to avoid error.\n",
    "obama_words = obama_words.join(bush_words, lsuffix='_Obama', rsuffix='_Bush')\n",
    "obama_words.sort_values(by='count_Obama', ascending=False).head(10)[['word_Obama', 'count_Obama']]\n"
   ],
   "outputs": [
    {
     "data": {
      "text/plain": [
       "     word_Obama  count_Obama\n",
       "9063        the           40\n",
       "4622         in           30\n",
       "723         and           21\n",
       "6381         of           18\n",
       "9161         to           14\n",
       "4392        his           11\n",
       "6346      obama            9\n",
       "454         act            8\n",
       "370           a            7\n",
       "4291         he            7"
      ],
      "text/html": [
       "<div>\n",
       "<style scoped>\n",
       "    .dataframe tbody tr th:only-of-type {\n",
       "        vertical-align: middle;\n",
       "    }\n",
       "\n",
       "    .dataframe tbody tr th {\n",
       "        vertical-align: top;\n",
       "    }\n",
       "\n",
       "    .dataframe thead th {\n",
       "        text-align: right;\n",
       "    }\n",
       "</style>\n",
       "<table border=\"1\" class=\"dataframe\">\n",
       "  <thead>\n",
       "    <tr style=\"text-align: right;\">\n",
       "      <th></th>\n",
       "      <th>word_Obama</th>\n",
       "      <th>count_Obama</th>\n",
       "    </tr>\n",
       "  </thead>\n",
       "  <tbody>\n",
       "    <tr>\n",
       "      <th>9063</th>\n",
       "      <td>the</td>\n",
       "      <td>40</td>\n",
       "    </tr>\n",
       "    <tr>\n",
       "      <th>4622</th>\n",
       "      <td>in</td>\n",
       "      <td>30</td>\n",
       "    </tr>\n",
       "    <tr>\n",
       "      <th>723</th>\n",
       "      <td>and</td>\n",
       "      <td>21</td>\n",
       "    </tr>\n",
       "    <tr>\n",
       "      <th>6381</th>\n",
       "      <td>of</td>\n",
       "      <td>18</td>\n",
       "    </tr>\n",
       "    <tr>\n",
       "      <th>9161</th>\n",
       "      <td>to</td>\n",
       "      <td>14</td>\n",
       "    </tr>\n",
       "    <tr>\n",
       "      <th>4392</th>\n",
       "      <td>his</td>\n",
       "      <td>11</td>\n",
       "    </tr>\n",
       "    <tr>\n",
       "      <th>6346</th>\n",
       "      <td>obama</td>\n",
       "      <td>9</td>\n",
       "    </tr>\n",
       "    <tr>\n",
       "      <th>454</th>\n",
       "      <td>act</td>\n",
       "      <td>8</td>\n",
       "    </tr>\n",
       "    <tr>\n",
       "      <th>370</th>\n",
       "      <td>a</td>\n",
       "      <td>7</td>\n",
       "    </tr>\n",
       "    <tr>\n",
       "      <th>4291</th>\n",
       "      <td>he</td>\n",
       "      <td>7</td>\n",
       "    </tr>\n",
       "  </tbody>\n",
       "</table>\n",
       "</div>"
      ]
     },
     "execution_count": 90,
     "metadata": {},
     "output_type": "execute_result"
    }
   ],
   "execution_count": 90
  },
  {
   "cell_type": "markdown",
   "metadata": {},
   "source": [
    "**Note.** Even though common words are swamping out important subtle differences, commonalities in rarer political words still matter on the margin. This is why politicians are being listed in the query result instead of musicians, for example. In the next subsection, we will introduce a different metric that will place greater emphasis on those rarer words."
   ]
  },
  {
   "cell_type": "markdown",
   "metadata": {},
   "source": "**e)** Among the words that appear in both Barack Obama and Francisco Barrio, take the 15 that appear most frequently in Obama. How many of the articles in the Wikipedia dataset contain all of those 15 words? Which are they?"
  },
  {
   "metadata": {
    "collapsed": false,
    "ExecuteTime": {
     "end_time": "2024-11-21T10:31:34.364870Z",
     "start_time": "2024-11-21T10:31:33.955796Z"
    }
   },
   "cell_type": "code",
   "source": [
    "# It might be helpful to use:\n",
    "word_to_ind={v: i for i, v in enumerate(vectorizer.get_feature_names_out())}\n",
    "\n",
    "# Your code goes here \n",
    "common_words = common_words.sort_values(by='count_Obama', ascending=False).head(15)\n",
    "word_indices = [word_to_ind[word] for word in common_words['word_Obama']]\n",
    "matrix_slice = WCmatrix[:, word_indices].toarray()\n",
    "\n",
    "articles = (WCmatrix[:, word_indices].toarray() > 0).all(axis=1)\n",
    "articles.su"
   ],
   "outputs": [
    {
     "ename": "AttributeError",
     "evalue": "'numpy.ndarray' object has no attribute 'su'",
     "output_type": "error",
     "traceback": [
      "\u001B[1;31m---------------------------------------------------------------------------\u001B[0m",
      "\u001B[1;31mAttributeError\u001B[0m                            Traceback (most recent call last)",
      "Cell \u001B[1;32mIn[91], line 10\u001B[0m\n\u001B[0;32m      7\u001B[0m matrix_slice \u001B[38;5;241m=\u001B[39m WCmatrix[:, word_indices]\u001B[38;5;241m.\u001B[39mtoarray()\n\u001B[0;32m      9\u001B[0m articles \u001B[38;5;241m=\u001B[39m (WCmatrix[:, word_indices]\u001B[38;5;241m.\u001B[39mtoarray() \u001B[38;5;241m>\u001B[39m \u001B[38;5;241m0\u001B[39m)\u001B[38;5;241m.\u001B[39mall(axis\u001B[38;5;241m=\u001B[39m\u001B[38;5;241m1\u001B[39m)\n\u001B[1;32m---> 10\u001B[0m articles\u001B[38;5;241m.\u001B[39msu\n",
      "\u001B[1;31mAttributeError\u001B[0m: 'numpy.ndarray' object has no attribute 'su'"
     ]
    }
   ],
   "execution_count": 91
  },
  {
   "cell_type": "code",
   "metadata": {
    "collapsed": false,
    "ExecuteTime": {
     "end_time": "2024-11-21T10:33:28.085224Z",
     "start_time": "2024-11-21T10:33:28.068275Z"
    }
   },
   "source": "wiki[articles]['name']",
   "outputs": [
    {
     "data": {
      "text/plain": [
       "13509    James S. Bubar\n",
       "17184    Marty Lederman\n",
       "24478         Joe Biden\n",
       "30798    Richard Pildes\n",
       "35811      Barack Obama\n",
       "Name: name, dtype: object"
      ]
     },
     "execution_count": 92,
     "metadata": {},
     "output_type": "execute_result"
    }
   ],
   "execution_count": 92
  },
  {
   "cell_type": "markdown",
   "metadata": {},
   "source": [
    "## Ex. 3: TF-IDF to the rescue"
   ]
  },
  {
   "cell_type": "markdown",
   "metadata": {},
   "source": [
    "Much of the perceived commonalities between Obama and Barrio were due to occurrences of extremely frequent words, such as \"the\", \"and\", and \"his\". So nearest neighbors is recommending plausible results sometimes for the wrong reasons.\n",
    "\n",
    "To retrieve articles that are more relevant, we should focus more on rare words that don't happen in every article. **TF-IDF** (term frequency–inverse document frequency) is a feature representation that penalizes words that are too common."
   ]
  },
  {
   "cell_type": "markdown",
   "metadata": {},
   "source": [
    "**a)** Repeat the search for the 10 nearest neighbors of Barack Obama with Euclidean distance of TF-IDF. This time do not limit to only 10000 most frequent words, but take all of them."
   ]
  },
  {
   "cell_type": "code",
   "metadata": {
    "collapsed": true,
    "ExecuteTime": {
     "end_time": "2024-11-21T10:33:54.985362Z",
     "start_time": "2024-11-21T10:33:32.654918Z"
    }
   },
   "source": [
    "# We could use:\n",
    "    # from sklearn.feature_extraction.text import TfidfVectorizer\n",
    "# but since we already know how to compute CountVectorizer, let's use:\n",
    "from sklearn.feature_extraction.text import TfidfTransformer\n",
    "\n",
    "vectorizer = CountVectorizer(\n",
    "    token_pattern=r\"(?u)\\b\\w+\\b\",\n",
    "    stop_words = None,\n",
    "    min_df=0.0\n",
    "                            )\n",
    "WCmatrix=vectorizer.fit_transform(wiki['text'])\n",
    "\n",
    "tfidf=TfidfTransformer(smooth_idf=False, norm=None)# Your code goes here; use smooth_idf=False, norm=None\n",
    "TFIDFmatrix = tfidf.fit_transform(WCmatrix)"
   ],
   "outputs": [],
   "execution_count": 93
  },
  {
   "cell_type": "code",
   "metadata": {
    "collapsed": false,
    "ExecuteTime": {
     "end_time": "2024-11-21T10:33:55.204088Z",
     "start_time": "2024-11-21T10:33:54.993724Z"
    }
   },
   "source": [
    "# now recompute the distances as before but for TF-IDF\n",
    "dist = pairwise_distances(\n",
    "    TFIDFmatrix,\n",
    "    TFIDFmatrix[wiki[wiki['name'] == 'Barack Obama'].index[0]]\n",
    "                        )\n",
    "# add the distances as a column in the wiki dataframe\n",
    "wiki['BO-eucl-TF-IDF'] = dist\n",
    "wiki.sort_values(by='BO-eucl-TF-IDF',ascending=True)[0:10][['name','BO-eucl-TF-IDF']]\n"
   ],
   "outputs": [
    {
     "data": {
      "text/plain": [
       "                          name  BO-eucl-TF-IDF\n",
       "35811             Barack Obama        0.000000\n",
       "38370           Samantha Power      139.112650\n",
       "7914             Phil Schiliro      139.607641\n",
       "38708  Eric Stern (politician)      140.329584\n",
       "6507              Bob Menendez      141.720287\n",
       "6796               Eric Holder      142.271700\n",
       "38489             Barney Frank      142.688155\n",
       "33411            Tulsi Gabbard      142.876495\n",
       "7950          Elizabeth Warren      143.092814\n",
       "40093            Harry Arthurs      143.390437"
      ],
      "text/html": [
       "<div>\n",
       "<style scoped>\n",
       "    .dataframe tbody tr th:only-of-type {\n",
       "        vertical-align: middle;\n",
       "    }\n",
       "\n",
       "    .dataframe tbody tr th {\n",
       "        vertical-align: top;\n",
       "    }\n",
       "\n",
       "    .dataframe thead th {\n",
       "        text-align: right;\n",
       "    }\n",
       "</style>\n",
       "<table border=\"1\" class=\"dataframe\">\n",
       "  <thead>\n",
       "    <tr style=\"text-align: right;\">\n",
       "      <th></th>\n",
       "      <th>name</th>\n",
       "      <th>BO-eucl-TF-IDF</th>\n",
       "    </tr>\n",
       "  </thead>\n",
       "  <tbody>\n",
       "    <tr>\n",
       "      <th>35811</th>\n",
       "      <td>Barack Obama</td>\n",
       "      <td>0.000000</td>\n",
       "    </tr>\n",
       "    <tr>\n",
       "      <th>38370</th>\n",
       "      <td>Samantha Power</td>\n",
       "      <td>139.112650</td>\n",
       "    </tr>\n",
       "    <tr>\n",
       "      <th>7914</th>\n",
       "      <td>Phil Schiliro</td>\n",
       "      <td>139.607641</td>\n",
       "    </tr>\n",
       "    <tr>\n",
       "      <th>38708</th>\n",
       "      <td>Eric Stern (politician)</td>\n",
       "      <td>140.329584</td>\n",
       "    </tr>\n",
       "    <tr>\n",
       "      <th>6507</th>\n",
       "      <td>Bob Menendez</td>\n",
       "      <td>141.720287</td>\n",
       "    </tr>\n",
       "    <tr>\n",
       "      <th>6796</th>\n",
       "      <td>Eric Holder</td>\n",
       "      <td>142.271700</td>\n",
       "    </tr>\n",
       "    <tr>\n",
       "      <th>38489</th>\n",
       "      <td>Barney Frank</td>\n",
       "      <td>142.688155</td>\n",
       "    </tr>\n",
       "    <tr>\n",
       "      <th>33411</th>\n",
       "      <td>Tulsi Gabbard</td>\n",
       "      <td>142.876495</td>\n",
       "    </tr>\n",
       "    <tr>\n",
       "      <th>7950</th>\n",
       "      <td>Elizabeth Warren</td>\n",
       "      <td>143.092814</td>\n",
       "    </tr>\n",
       "    <tr>\n",
       "      <th>40093</th>\n",
       "      <td>Harry Arthurs</td>\n",
       "      <td>143.390437</td>\n",
       "    </tr>\n",
       "  </tbody>\n",
       "</table>\n",
       "</div>"
      ]
     },
     "execution_count": 94,
     "metadata": {},
     "output_type": "execute_result"
    }
   ],
   "execution_count": 94
  },
  {
   "cell_type": "markdown",
   "metadata": {},
   "source": [
    "Let's determine whether this list makes sense.\n",
    "* With a notable exception of Nathan Cullen, the other 8 are all American politicians who are contemporaries of Barack Obama.\n",
    "* Phil Schiliro, Jesse Lee, Samantha Power, Eric Stern, Eric Holder worked for Obama.\n",
    "\n",
    "Clearly, the results are more plausible with the use of TF-IDF. Let's take a look at the word vector for Obama and Schilirio's pages. Notice that TF-IDF representation assigns a weight to each word. This weight captures relative importance of that word in the document."
   ]
  },
  {
   "cell_type": "markdown",
   "metadata": {},
   "source": [
    "**b)** Sort the words in Obama's article by their TF-IDF weights; do the same for Schiliro's article as well.\n",
    "Using the **join** operation we learned earlier, compute the common words shared by Obama's and Schiliro's articles.\n",
    "Sort the common words by their TF-IDF weights in Obama's document."
   ]
  },
  {
   "cell_type": "code",
   "metadata": {
    "collapsed": true,
    "ExecuteTime": {
     "end_time": "2024-11-21T10:34:01.010641Z",
     "start_time": "2024-11-21T10:34:01.000891Z"
    }
   },
   "source": [
    "def top_words_tf_idf(name):\n",
    "    \"\"\"\n",
    "    Get a table of the largest tf-idf words in the given person's wikipedia page.\n",
    "    \"\"\"\n",
    "    # Your code goes here\n",
    "    df = pd.DataFrame({'word': vectorizer.get_feature_names_out(), 'tf-idf': TFIDFmatrix[wiki[wiki['name'] == name].index[0]].toarray()[0]})\n",
    "    return df.sort_values(by='tf-idf',ascending=False)"
   ],
   "outputs": [],
   "execution_count": 95
  },
  {
   "cell_type": "code",
   "metadata": {
    "collapsed": false,
    "jupyter": {
     "outputs_hidden": false
    },
    "ExecuteTime": {
     "end_time": "2024-11-21T10:34:06.035261Z",
     "start_time": "2024-11-21T10:34:02.687031Z"
    }
   },
   "source": [
    "obama_tf_idf = top_words_tf_idf('Barack Obama')\n",
    "schiliro_tf_idf = top_words_tf_idf('Phil Schiliro')\n",
    "common_words = obama_tf_idf.join(schiliro_tf_idf, lsuffix='_Obama', rsuffix='_Schiliro')"
   ],
   "outputs": [],
   "execution_count": 96
  },
  {
   "cell_type": "markdown",
   "metadata": {},
   "source": [
    "**c)** Among the words that appear in both Barack Obama and Phil Schiliro, take the 15 that have largest weights in Obama. How many of the articles in the Wikipedia dataset contain all of those 15 words? Which are they?"
   ]
  },
  {
   "cell_type": "code",
   "metadata": {
    "collapsed": false,
    "ExecuteTime": {
     "end_time": "2024-11-21T10:34:09.243159Z",
     "start_time": "2024-11-21T10:34:06.913085Z"
    }
   },
   "source": [
    "# It might be helpful to use:\n",
    "word_to_ind={v: i for i, v in enumerate(vectorizer.get_feature_names_out())} # a dictionary with words as keys and indices as values\n",
    "\n",
    "# Your code goes here\n",
    "common_words = common_words.sort_values(by='tf-idf_Obama', ascending=False).head(15)\n",
    "word_indices = [word_to_ind[word] for word in common_words['word_Obama']]\n",
    "articles = (TFIDFmatrix[:, word_indices].toarray() > 0).all(axis=1)\n",
    "articles.sum()"
   ],
   "outputs": [
    {
     "data": {
      "text/plain": [
       "1"
      ]
     },
     "execution_count": 97,
     "metadata": {},
     "output_type": "execute_result"
    }
   ],
   "execution_count": 97
  },
  {
   "cell_type": "code",
   "metadata": {
    "collapsed": false,
    "ExecuteTime": {
     "end_time": "2024-11-21T10:34:11.066084Z",
     "start_time": "2024-11-21T10:34:11.051970Z"
    }
   },
   "source": [
    "wiki[articles]['name']"
   ],
   "outputs": [
    {
     "data": {
      "text/plain": [
       "35811    Barack Obama\n",
       "Name: name, dtype: object"
      ]
     },
     "execution_count": 98,
     "metadata": {},
     "output_type": "execute_result"
    }
   ],
   "execution_count": 98
  },
  {
   "cell_type": "markdown",
   "metadata": {},
   "source": [
    "Notice the huge difference in this calculation using TF-IDF scores instead  of raw word counts. We've eliminated noise arising from extremely common words."
   ]
  },
  {
   "cell_type": "markdown",
   "metadata": {},
   "source": [
    "## Ex. 4: Choosing metrics"
   ]
  },
  {
   "cell_type": "markdown",
   "metadata": {},
   "source": [
    "**a)** Compute the Euclidean distance between TF-IDF features of Obama and Biden."
   ]
  },
  {
   "cell_type": "code",
   "metadata": {
    "collapsed": false,
    "ExecuteTime": {
     "end_time": "2024-11-21T10:31:34.778021900Z",
     "start_time": "2024-11-21T08:00:54.494347Z"
    }
   },
   "source": [
    "dist = pairwise_distances(TFIDFmatrix[wiki[wiki['name'] == 'Barack Obama'].index[0]], TFIDFmatrix[wiki[wiki['name'] == 'Joe Biden'].index[0]])\n",
    "dist"
   ],
   "outputs": [
    {
     "data": {
      "text/plain": [
       "array([[147.88506796]])"
      ]
     },
     "execution_count": 22,
     "metadata": {},
     "output_type": "execute_result"
    }
   ],
   "execution_count": 22
  },
  {
   "cell_type": "markdown",
   "metadata": {},
   "source": [
    "The distance is larger than the distances we found for the 10 nearest neighbors, which we repeat here for readability:"
   ]
  },
  {
   "cell_type": "code",
   "metadata": {
    "collapsed": false,
    "jupyter": {
     "outputs_hidden": false
    },
    "ExecuteTime": {
     "end_time": "2024-11-21T10:34:16.741544Z",
     "start_time": "2024-11-21T10:34:16.700459Z"
    }
   },
   "source": [
    "wiki.sort_values(by='BO-eucl-TF-IDF',ascending=True)[['name','BO-eucl-TF-IDF']][0:10]"
   ],
   "outputs": [
    {
     "data": {
      "text/plain": [
       "                          name  BO-eucl-TF-IDF\n",
       "35811             Barack Obama        0.000000\n",
       "38370           Samantha Power      139.112650\n",
       "7914             Phil Schiliro      139.607641\n",
       "38708  Eric Stern (politician)      140.329584\n",
       "6507              Bob Menendez      141.720287\n",
       "6796               Eric Holder      142.271700\n",
       "38489             Barney Frank      142.688155\n",
       "33411            Tulsi Gabbard      142.876495\n",
       "7950          Elizabeth Warren      143.092814\n",
       "40093            Harry Arthurs      143.390437"
      ],
      "text/html": [
       "<div>\n",
       "<style scoped>\n",
       "    .dataframe tbody tr th:only-of-type {\n",
       "        vertical-align: middle;\n",
       "    }\n",
       "\n",
       "    .dataframe tbody tr th {\n",
       "        vertical-align: top;\n",
       "    }\n",
       "\n",
       "    .dataframe thead th {\n",
       "        text-align: right;\n",
       "    }\n",
       "</style>\n",
       "<table border=\"1\" class=\"dataframe\">\n",
       "  <thead>\n",
       "    <tr style=\"text-align: right;\">\n",
       "      <th></th>\n",
       "      <th>name</th>\n",
       "      <th>BO-eucl-TF-IDF</th>\n",
       "    </tr>\n",
       "  </thead>\n",
       "  <tbody>\n",
       "    <tr>\n",
       "      <th>35811</th>\n",
       "      <td>Barack Obama</td>\n",
       "      <td>0.000000</td>\n",
       "    </tr>\n",
       "    <tr>\n",
       "      <th>38370</th>\n",
       "      <td>Samantha Power</td>\n",
       "      <td>139.112650</td>\n",
       "    </tr>\n",
       "    <tr>\n",
       "      <th>7914</th>\n",
       "      <td>Phil Schiliro</td>\n",
       "      <td>139.607641</td>\n",
       "    </tr>\n",
       "    <tr>\n",
       "      <th>38708</th>\n",
       "      <td>Eric Stern (politician)</td>\n",
       "      <td>140.329584</td>\n",
       "    </tr>\n",
       "    <tr>\n",
       "      <th>6507</th>\n",
       "      <td>Bob Menendez</td>\n",
       "      <td>141.720287</td>\n",
       "    </tr>\n",
       "    <tr>\n",
       "      <th>6796</th>\n",
       "      <td>Eric Holder</td>\n",
       "      <td>142.271700</td>\n",
       "    </tr>\n",
       "    <tr>\n",
       "      <th>38489</th>\n",
       "      <td>Barney Frank</td>\n",
       "      <td>142.688155</td>\n",
       "    </tr>\n",
       "    <tr>\n",
       "      <th>33411</th>\n",
       "      <td>Tulsi Gabbard</td>\n",
       "      <td>142.876495</td>\n",
       "    </tr>\n",
       "    <tr>\n",
       "      <th>7950</th>\n",
       "      <td>Elizabeth Warren</td>\n",
       "      <td>143.092814</td>\n",
       "    </tr>\n",
       "    <tr>\n",
       "      <th>40093</th>\n",
       "      <td>Harry Arthurs</td>\n",
       "      <td>143.390437</td>\n",
       "    </tr>\n",
       "  </tbody>\n",
       "</table>\n",
       "</div>"
      ]
     },
     "execution_count": 99,
     "metadata": {},
     "output_type": "execute_result"
    }
   ],
   "execution_count": 99
  },
  {
   "cell_type": "markdown",
   "metadata": {},
   "source": [
    "But one may wonder, is Biden's article that different from Obama's, more so than, say, Schiliro's? It turns out that, when we compute nearest neighbors using the Euclidean distances, we unwittingly favor short articles over long ones."
   ]
  },
  {
   "cell_type": "markdown",
   "metadata": {},
   "source": [
    "**b)** Let us compute the length of each Wikipedia document, and examine the document lengths for the 100 nearest neighbors to Obama's page. To compute text length use the same splitting rules you used in `vectorizer`."
   ]
  },
  {
   "cell_type": "code",
   "metadata": {
    "collapsed": false,
    "jupyter": {
     "outputs_hidden": false
    },
    "ExecuteTime": {
     "end_time": "2024-11-21T10:34:28.339695Z",
     "start_time": "2024-11-21T10:34:19.814589Z"
    }
   },
   "source": [
    "tokenizer = vectorizer.build_tokenizer()\n",
    "\n",
    "def compute_length(row):\n",
    "# Here we could use simply:\n",
    "#     return len(row['text'].split(' '))\n",
    "    return len(tokenizer(row['text']))\n",
    "\n",
    "wiki['length'] = wiki.apply(compute_length, axis=1)"
   ],
   "outputs": [],
   "execution_count": 100
  },
  {
   "cell_type": "code",
   "metadata": {
    "collapsed": false,
    "jupyter": {
     "outputs_hidden": false
    },
    "ExecuteTime": {
     "end_time": "2024-11-21T10:34:31.103246Z",
     "start_time": "2024-11-21T10:34:30.391245Z"
    }
   },
   "source": [
    "nearest_neighbors_euclidean = wiki.sort_values(by='BO-eucl-TF-IDF',ascending=True)[0:100]\n",
    "nearest_neighbors_euclidean[['name', 'length']]"
   ],
   "outputs": [
    {
     "data": {
      "text/plain": [
       "                            name  length\n",
       "35811               Barack Obama     540\n",
       "38370             Samantha Power     310\n",
       "7914               Phil Schiliro     208\n",
       "38708    Eric Stern (politician)     255\n",
       "6507                Bob Menendez     220\n",
       "...                          ...     ...\n",
       "14442                Lee Hawkins     212\n",
       "6924             D. Brock Hornby     205\n",
       "15850  Mark Strauss (journalist)     225\n",
       "41680          Marian Blank Horn     229\n",
       "17412                 John Rudge     208\n",
       "\n",
       "[100 rows x 2 columns]"
      ],
      "text/html": [
       "<div>\n",
       "<style scoped>\n",
       "    .dataframe tbody tr th:only-of-type {\n",
       "        vertical-align: middle;\n",
       "    }\n",
       "\n",
       "    .dataframe tbody tr th {\n",
       "        vertical-align: top;\n",
       "    }\n",
       "\n",
       "    .dataframe thead th {\n",
       "        text-align: right;\n",
       "    }\n",
       "</style>\n",
       "<table border=\"1\" class=\"dataframe\">\n",
       "  <thead>\n",
       "    <tr style=\"text-align: right;\">\n",
       "      <th></th>\n",
       "      <th>name</th>\n",
       "      <th>length</th>\n",
       "    </tr>\n",
       "  </thead>\n",
       "  <tbody>\n",
       "    <tr>\n",
       "      <th>35811</th>\n",
       "      <td>Barack Obama</td>\n",
       "      <td>540</td>\n",
       "    </tr>\n",
       "    <tr>\n",
       "      <th>38370</th>\n",
       "      <td>Samantha Power</td>\n",
       "      <td>310</td>\n",
       "    </tr>\n",
       "    <tr>\n",
       "      <th>7914</th>\n",
       "      <td>Phil Schiliro</td>\n",
       "      <td>208</td>\n",
       "    </tr>\n",
       "    <tr>\n",
       "      <th>38708</th>\n",
       "      <td>Eric Stern (politician)</td>\n",
       "      <td>255</td>\n",
       "    </tr>\n",
       "    <tr>\n",
       "      <th>6507</th>\n",
       "      <td>Bob Menendez</td>\n",
       "      <td>220</td>\n",
       "    </tr>\n",
       "    <tr>\n",
       "      <th>...</th>\n",
       "      <td>...</td>\n",
       "      <td>...</td>\n",
       "    </tr>\n",
       "    <tr>\n",
       "      <th>14442</th>\n",
       "      <td>Lee Hawkins</td>\n",
       "      <td>212</td>\n",
       "    </tr>\n",
       "    <tr>\n",
       "      <th>6924</th>\n",
       "      <td>D. Brock Hornby</td>\n",
       "      <td>205</td>\n",
       "    </tr>\n",
       "    <tr>\n",
       "      <th>15850</th>\n",
       "      <td>Mark Strauss (journalist)</td>\n",
       "      <td>225</td>\n",
       "    </tr>\n",
       "    <tr>\n",
       "      <th>41680</th>\n",
       "      <td>Marian Blank Horn</td>\n",
       "      <td>229</td>\n",
       "    </tr>\n",
       "    <tr>\n",
       "      <th>17412</th>\n",
       "      <td>John Rudge</td>\n",
       "      <td>208</td>\n",
       "    </tr>\n",
       "  </tbody>\n",
       "</table>\n",
       "<p>100 rows × 2 columns</p>\n",
       "</div>"
      ]
     },
     "execution_count": 101,
     "metadata": {},
     "output_type": "execute_result"
    }
   ],
   "execution_count": 101
  },
  {
   "cell_type": "markdown",
   "metadata": {},
   "source": [
    "**c)** To see how these document lengths compare to the lengths of other documents in the corpus, make a histogram of the document lengths of Obama's 100 nearest neighbors and compare to a histogram of document lengths for all documents."
   ]
  },
  {
   "cell_type": "code",
   "metadata": {
    "collapsed": false,
    "jupyter": {
     "outputs_hidden": false
    },
    "ExecuteTime": {
     "end_time": "2024-11-21T10:34:34.713558Z",
     "start_time": "2024-11-21T10:34:34.002765Z"
    }
   },
   "source": [
    "plt.figure(figsize=(10.5,4.5))\n",
    "plt.xlabel('# of words')\n",
    "plt.ylabel('percentage')\n",
    "plt.hist(wiki['length'], 50, color='k', edgecolor='none', histtype= 'stepfilled', label='Entire Wikipedia', density=True)\n",
    "plt.hist(nearest_neighbors_euclidean['length'], 50, color='r', edgecolor='none', histtype= 'stepfilled', label='100 NNs of Obama', density=True)\n",
    "plt.axvline(wiki['length'][wiki['name'] == 'Barack Obama'].values[0], color='grey', linestyle='--', linewidth=2, label='Obama')\n",
    "plt.axvline(wiki['length'][wiki['name'] == 'Joe Biden'].values[0], color='g', linestyle='--', linewidth=2, label='Biden')\n",
    "\n",
    "plt.legend()\n",
    "\n",
    "plt.tight_layout()"
   ],
   "outputs": [
    {
     "data": {
      "text/plain": [
       "<Figure size 1050x450 with 1 Axes>"
      ],
      "image/png": "[encoded data removed]"
     },
     "metadata": {},
     "output_type": "display_data"
    }
   ],
   "execution_count": 102
  },
  {
   "cell_type": "markdown",
   "metadata": {},
   "source": [
    "Relative to the rest of Wikipedia, nearest neighbors of Obama are overwhemingly short, most of them being shorter than 300 words. The bias towards short articles is not appropriate in this application as there is really no reason to  favor short articles over long articles (they are all Wikipedia articles, after all). Many of the Wikipedia articles are 300 words or more, and both Obama and Biden are over 300 words long.\n",
    "\n",
    "**Note**: For the interest of computation time, the dataset given here contains _excerpts_ of the articles rather than full text. For instance, the actual Wikipedia article about Obama is around 25000 words. Do not be surprised by the low numbers shown in the histogram."
   ]
  },
  {
   "cell_type": "markdown",
   "metadata": {},
   "source": [
    "**Note:** Both word-count features and TF-IDF are proportional to word frequencies. While TF-IDF penalizes very common words, longer articles tend to have longer TF-IDF vectors simply because they have more words in them."
   ]
  },
  {
   "cell_type": "markdown",
   "metadata": {},
   "source": [
    "To remove this bias, we turn to **cosine distances**:\n",
    "$$\n",
    "d(\\mathbf{x},\\mathbf{y}) = 1 - \\frac{\\mathbf{x}^T\\mathbf{y}}{\\|\\mathbf{x}\\| \\|\\mathbf{y}\\|}\n",
    "$$\n",
    "Cosine distances let us compare word distributions of two articles of varying lengths."
   ]
  },
  {
   "cell_type": "markdown",
   "metadata": {},
   "source": [
    "**d)** Train a new nearest neighbor model, this time with cosine distances.  Then repeat the search for Obama's 100 nearest neighbors and make a plot to better visualize the effect of having used cosine distance in place of Euclidean on our TF-IDF vectors."
   ]
  },
  {
   "cell_type": "code",
   "metadata": {
    "collapsed": false,
    "jupyter": {
     "outputs_hidden": false
    },
    "ExecuteTime": {
     "end_time": "2024-11-21T10:34:41.727185Z",
     "start_time": "2024-11-21T10:34:41.326973Z"
    }
   },
   "source": [
    "# Your code goes here\n",
    "dist = pairwise_distances(TFIDFmatrix, TFIDFmatrix[wiki[wiki['name'] == 'Barack Obama'].index[0]], metric='cosine')\n",
    "wiki['BO-cos'] = dist\n",
    "nearest_neighbors_cosine = wiki.sort_values(by='BO-cos',ascending=True)[0:100][['name', 'length', 'BO-cos']]\n",
    "nearest_neighbors_cosine"
   ],
   "outputs": [
    {
     "data": {
      "text/plain": [
       "                          name  length        BO-cos\n",
       "35811             Barack Obama     540  3.330669e-16\n",
       "24478                Joe Biden     414  5.689319e-01\n",
       "38370           Samantha Power     310  6.231093e-01\n",
       "38708  Eric Stern (politician)     255  6.499863e-01\n",
       "28441           George W. Bush     505  6.600595e-01\n",
       "...                        ...     ...           ...\n",
       "5248            Eric L. Muller     443  7.408212e-01\n",
       "21004          Herschel Hardin     551  7.411900e-01\n",
       "40937           Jonathan Alter     283  7.416125e-01\n",
       "27570   Luis Maldonado Venegas     509  7.418427e-01\n",
       "18924          Edward L. Ayers     308  7.418804e-01\n",
       "\n",
       "[100 rows x 3 columns]"
      ],
      "text/html": [
       "<div>\n",
       "<style scoped>\n",
       "    .dataframe tbody tr th:only-of-type {\n",
       "        vertical-align: middle;\n",
       "    }\n",
       "\n",
       "    .dataframe tbody tr th {\n",
       "        vertical-align: top;\n",
       "    }\n",
       "\n",
       "    .dataframe thead th {\n",
       "        text-align: right;\n",
       "    }\n",
       "</style>\n",
       "<table border=\"1\" class=\"dataframe\">\n",
       "  <thead>\n",
       "    <tr style=\"text-align: right;\">\n",
       "      <th></th>\n",
       "      <th>name</th>\n",
       "      <th>length</th>\n",
       "      <th>BO-cos</th>\n",
       "    </tr>\n",
       "  </thead>\n",
       "  <tbody>\n",
       "    <tr>\n",
       "      <th>35811</th>\n",
       "      <td>Barack Obama</td>\n",
       "      <td>540</td>\n",
       "      <td>3.330669e-16</td>\n",
       "    </tr>\n",
       "    <tr>\n",
       "      <th>24478</th>\n",
       "      <td>Joe Biden</td>\n",
       "      <td>414</td>\n",
       "      <td>5.689319e-01</td>\n",
       "    </tr>\n",
       "    <tr>\n",
       "      <th>38370</th>\n",
       "      <td>Samantha Power</td>\n",
       "      <td>310</td>\n",
       "      <td>6.231093e-01</td>\n",
       "    </tr>\n",
       "    <tr>\n",
       "      <th>38708</th>\n",
       "      <td>Eric Stern (politician)</td>\n",
       "      <td>255</td>\n",
       "      <td>6.499863e-01</td>\n",
       "    </tr>\n",
       "    <tr>\n",
       "      <th>28441</th>\n",
       "      <td>George W. Bush</td>\n",
       "      <td>505</td>\n",
       "      <td>6.600595e-01</td>\n",
       "    </tr>\n",
       "    <tr>\n",
       "      <th>...</th>\n",
       "      <td>...</td>\n",
       "      <td>...</td>\n",
       "      <td>...</td>\n",
       "    </tr>\n",
       "    <tr>\n",
       "      <th>5248</th>\n",
       "      <td>Eric L. Muller</td>\n",
       "      <td>443</td>\n",
       "      <td>7.408212e-01</td>\n",
       "    </tr>\n",
       "    <tr>\n",
       "      <th>21004</th>\n",
       "      <td>Herschel Hardin</td>\n",
       "      <td>551</td>\n",
       "      <td>7.411900e-01</td>\n",
       "    </tr>\n",
       "    <tr>\n",
       "      <th>40937</th>\n",
       "      <td>Jonathan Alter</td>\n",
       "      <td>283</td>\n",
       "      <td>7.416125e-01</td>\n",
       "    </tr>\n",
       "    <tr>\n",
       "      <th>27570</th>\n",
       "      <td>Luis Maldonado Venegas</td>\n",
       "      <td>509</td>\n",
       "      <td>7.418427e-01</td>\n",
       "    </tr>\n",
       "    <tr>\n",
       "      <th>18924</th>\n",
       "      <td>Edward L. Ayers</td>\n",
       "      <td>308</td>\n",
       "      <td>7.418804e-01</td>\n",
       "    </tr>\n",
       "  </tbody>\n",
       "</table>\n",
       "<p>100 rows × 3 columns</p>\n",
       "</div>"
      ]
     },
     "execution_count": 103,
     "metadata": {},
     "output_type": "execute_result"
    }
   ],
   "execution_count": 103
  },
  {
   "cell_type": "markdown",
   "metadata": {},
   "source": [
    "From a glance at the above table, things look better.  For example, we now see Joe Biden as Barack Obama's nearest neighbor!  We also see Hillary Clinton on the list.  This list looks even more plausible as nearest neighbors of Barack Obama."
   ]
  },
  {
   "cell_type": "code",
   "metadata": {
    "collapsed": false,
    "jupyter": {
     "outputs_hidden": false
    },
    "ExecuteTime": {
     "end_time": "2024-11-21T10:34:46.522782Z",
     "start_time": "2024-11-21T10:34:45.686752Z"
    }
   },
   "source": [
    "plt.figure(figsize=(10.5,4.5))\n",
    "plt.xlabel('# of words')\n",
    "plt.ylabel('percentage')\n",
    "plt.hist(wiki['length'], 50, color='k', edgecolor='none', histtype= 'stepfilled', label='Entire Wikipedia', density=True)\n",
    "plt.hist(nearest_neighbors_euclidean['length'], 50, color='r', edgecolor='none', histtype= 'stepfilled', label='100 NNs of Obama', density=True)\n",
    "plt.hist(nearest_neighbors_cosine['length'], 50, color='b', edgecolor='none', histtype= 'stepfilled', label='100 NNs of Obama (cosine)', density=True)\n",
    "plt.axvline(wiki['length'][wiki['name'] == 'Barack Obama'].values[0], color='grey', linestyle='--', linewidth=2, label='Obama')\n",
    "plt.axvline(wiki['length'][wiki['name'] == 'Joe Biden'].values[0], color='g', linestyle='--', linewidth=2, label='Biden')\n",
    "\n",
    "plt.legend()\n",
    "\n",
    "plt.tight_layout()"
   ],
   "outputs": [
    {
     "data": {
      "text/plain": [
       "<Figure size 1050x450 with 1 Axes>"
      ],
      "image/png": "[encoded data removed]"
     },
     "metadata": {},
     "output_type": "display_data"
    }
   ],
   "execution_count": 104
  },
  {
   "cell_type": "markdown",
   "metadata": {},
   "source": [
    "Indeed, the 100 nearest neighbors using cosine distance provide a sampling across the range of document lengths, rather than just short articles like Euclidean distance provided."
   ]
  },
  {
   "cell_type": "markdown",
   "metadata": {},
   "source": [
    "**Moral of the story**: In deciding the features and distance measures, check if they produce results that make sense for your particular application."
   ]
  },
  {
   "cell_type": "markdown",
   "metadata": {},
   "source": [
    "## Ex. 5: Problem with cosine distances: tweets vs. long articles"
   ]
  },
  {
   "cell_type": "markdown",
   "metadata": {},
   "source": [
    "Happily ever after? Not so fast. Cosine distances ignore all document lengths, which may be great in certain situations but not in others. For instance, consider the following (admittedly contrived) example."
   ]
  },
  {
   "cell_type": "markdown",
   "metadata": {},
   "source": [
    "```\n",
    "+--------------------------------------------------------+\n",
    "|                                             +--------+ |\n",
    "|  One that shall not be named                | Follow | |\n",
    "|  @username                                  +--------+ |\n",
    "|                                                        |\n",
    "|  Democratic governments control law in response to     |\n",
    "|  popular act.                                          |\n",
    "|                                                        |\n",
    "|  8:05 AM - 16 May 2016                                 |\n",
    "|                                                        |\n",
    "|  Reply   Retweet (1,332)   Like (300)                  |\n",
    "|                                                        |\n",
    "+--------------------------------------------------------+\n",
    "```"
   ]
  },
  {
   "cell_type": "markdown",
   "metadata": {},
   "source": [
    "**a)** Transform the tweet into TF-IDF features, using the fit to the Wikipedia dataset. (That is, let's treat this tweet as an article in our Wikipedia dataset and see what happens.) How similar is this tweet to Barack Obama's Wikipedia article? "
   ]
  },
  {
   "cell_type": "code",
   "metadata": {
    "collapsed": false,
    "ExecuteTime": {
     "end_time": "2024-11-21T10:37:59.158213Z",
     "start_time": "2024-11-21T10:37:56.614727Z"
    }
   },
   "source": [
    "df = pd.DataFrame({'text': ['democratic governments control law in response to popular act']})\n",
    "WCmatrix_sentence = vectorizer.transform(df['text'])\n",
    "TFIDF_sentence = tfidf.transform(WCmatrix_sentence)\n",
    "\n",
    "# Pobranie słownika cech\n",
    "vocabulary = vectorizer.get_feature_names_out()\n",
    "\n",
    "# Wyciągnięcie wartości TF-IDF dla każdego słowa w zdaniu\n",
    "feature_names = pd.Series(vocabulary)\n",
    "sentence_tfidf = TFIDF_sentence.toarray()[0]  # Konwersja na gęstą tablicę, bo to pojedynczy wektor\n",
    "\n",
    "# Dopasowanie słów ze zdania do ich indeksów i wartości TF-IDF\n",
    "word_tfidf_values = {\n",
    "    word: sentence_tfidf[feature_names[feature_names == word].index[0]]\n",
    "    for word in df['text'][0].split()\n",
    "    if word in feature_names.values\n",
    "}\n",
    "\n",
    "# Wyświetlenie wyniku w formie tabeli\n",
    "result_df = pd.DataFrame(\n",
    "    [\n",
    "        {\"word\": word, \"count\": 1, \"tfidf_value\": tfidf_value}\n",
    "        for word, tfidf_value in word_tfidf_values.items()\n",
    "    ]\n",
    ")\n",
    "result_df\n",
    "# Your code goes here"
   ],
   "outputs": [
    {
     "data": {
      "text/plain": [
       "          word  count  tfidf_value\n",
       "0   democratic      1     4.100766\n",
       "1  governments      1     5.150736\n",
       "2      control      1     4.730543\n",
       "3          law      1     3.453298\n",
       "4           in      1     1.001076\n",
       "5     response      1     5.268705\n",
       "6           to      1     1.046378\n",
       "7      popular      1     3.766298\n",
       "8          act      1     4.434127"
      ],
      "text/html": [
       "<div>\n",
       "<style scoped>\n",
       "    .dataframe tbody tr th:only-of-type {\n",
       "        vertical-align: middle;\n",
       "    }\n",
       "\n",
       "    .dataframe tbody tr th {\n",
       "        vertical-align: top;\n",
       "    }\n",
       "\n",
       "    .dataframe thead th {\n",
       "        text-align: right;\n",
       "    }\n",
       "</style>\n",
       "<table border=\"1\" class=\"dataframe\">\n",
       "  <thead>\n",
       "    <tr style=\"text-align: right;\">\n",
       "      <th></th>\n",
       "      <th>word</th>\n",
       "      <th>count</th>\n",
       "      <th>tfidf_value</th>\n",
       "    </tr>\n",
       "  </thead>\n",
       "  <tbody>\n",
       "    <tr>\n",
       "      <th>0</th>\n",
       "      <td>democratic</td>\n",
       "      <td>1</td>\n",
       "      <td>4.100766</td>\n",
       "    </tr>\n",
       "    <tr>\n",
       "      <th>1</th>\n",
       "      <td>governments</td>\n",
       "      <td>1</td>\n",
       "      <td>5.150736</td>\n",
       "    </tr>\n",
       "    <tr>\n",
       "      <th>2</th>\n",
       "      <td>control</td>\n",
       "      <td>1</td>\n",
       "      <td>4.730543</td>\n",
       "    </tr>\n",
       "    <tr>\n",
       "      <th>3</th>\n",
       "      <td>law</td>\n",
       "      <td>1</td>\n",
       "      <td>3.453298</td>\n",
       "    </tr>\n",
       "    <tr>\n",
       "      <th>4</th>\n",
       "      <td>in</td>\n",
       "      <td>1</td>\n",
       "      <td>1.001076</td>\n",
       "    </tr>\n",
       "    <tr>\n",
       "      <th>5</th>\n",
       "      <td>response</td>\n",
       "      <td>1</td>\n",
       "      <td>5.268705</td>\n",
       "    </tr>\n",
       "    <tr>\n",
       "      <th>6</th>\n",
       "      <td>to</td>\n",
       "      <td>1</td>\n",
       "      <td>1.046378</td>\n",
       "    </tr>\n",
       "    <tr>\n",
       "      <th>7</th>\n",
       "      <td>popular</td>\n",
       "      <td>1</td>\n",
       "      <td>3.766298</td>\n",
       "    </tr>\n",
       "    <tr>\n",
       "      <th>8</th>\n",
       "      <td>act</td>\n",
       "      <td>1</td>\n",
       "      <td>4.434127</td>\n",
       "    </tr>\n",
       "  </tbody>\n",
       "</table>\n",
       "</div>"
      ]
     },
     "execution_count": 108,
     "metadata": {},
     "output_type": "execute_result"
    }
   ],
   "execution_count": 108
  },
  {
   "cell_type": "markdown",
   "metadata": {},
   "source": [
    "Let's compare this tweet's TF-IDF vectors  to Barack Obama's Wikipedia entry."
   ]
  },
  {
   "cell_type": "code",
   "metadata": {
    "collapsed": false,
    "jupyter": {
     "outputs_hidden": false
    },
    "ExecuteTime": {
     "end_time": "2024-11-21T10:47:05.454723Z",
     "start_time": "2024-11-21T10:47:05.431734Z"
    }
   },
   "source": "obama_tf_idf",
   "outputs": [
    {
     "data": {
      "text/plain": [
       "             word     tf-idf\n",
       "285825      obama  52.811176\n",
       "389496        the  40.005610\n",
       "35036         act  35.473020\n",
       "200589         in  30.032271\n",
       "206488       iraq  21.741821\n",
       "...           ...        ...\n",
       "145890        ert   0.000000\n",
       "145889       ersz   0.000000\n",
       "145888  erstwhile   0.000000\n",
       "145887     erster   0.000000\n",
       "437538       zzts   0.000000\n",
       "\n",
       "[437539 rows x 2 columns]"
      ],
      "text/html": [
       "<div>\n",
       "<style scoped>\n",
       "    .dataframe tbody tr th:only-of-type {\n",
       "        vertical-align: middle;\n",
       "    }\n",
       "\n",
       "    .dataframe tbody tr th {\n",
       "        vertical-align: top;\n",
       "    }\n",
       "\n",
       "    .dataframe thead th {\n",
       "        text-align: right;\n",
       "    }\n",
       "</style>\n",
       "<table border=\"1\" class=\"dataframe\">\n",
       "  <thead>\n",
       "    <tr style=\"text-align: right;\">\n",
       "      <th></th>\n",
       "      <th>word</th>\n",
       "      <th>tf-idf</th>\n",
       "    </tr>\n",
       "  </thead>\n",
       "  <tbody>\n",
       "    <tr>\n",
       "      <th>285825</th>\n",
       "      <td>obama</td>\n",
       "      <td>52.811176</td>\n",
       "    </tr>\n",
       "    <tr>\n",
       "      <th>389496</th>\n",
       "      <td>the</td>\n",
       "      <td>40.005610</td>\n",
       "    </tr>\n",
       "    <tr>\n",
       "      <th>35036</th>\n",
       "      <td>act</td>\n",
       "      <td>35.473020</td>\n",
       "    </tr>\n",
       "    <tr>\n",
       "      <th>200589</th>\n",
       "      <td>in</td>\n",
       "      <td>30.032271</td>\n",
       "    </tr>\n",
       "    <tr>\n",
       "      <th>206488</th>\n",
       "      <td>iraq</td>\n",
       "      <td>21.741821</td>\n",
       "    </tr>\n",
       "    <tr>\n",
       "      <th>...</th>\n",
       "      <td>...</td>\n",
       "      <td>...</td>\n",
       "    </tr>\n",
       "    <tr>\n",
       "      <th>145890</th>\n",
       "      <td>ert</td>\n",
       "      <td>0.000000</td>\n",
       "    </tr>\n",
       "    <tr>\n",
       "      <th>145889</th>\n",
       "      <td>ersz</td>\n",
       "      <td>0.000000</td>\n",
       "    </tr>\n",
       "    <tr>\n",
       "      <th>145888</th>\n",
       "      <td>erstwhile</td>\n",
       "      <td>0.000000</td>\n",
       "    </tr>\n",
       "    <tr>\n",
       "      <th>145887</th>\n",
       "      <td>erster</td>\n",
       "      <td>0.000000</td>\n",
       "    </tr>\n",
       "    <tr>\n",
       "      <th>437538</th>\n",
       "      <td>zzts</td>\n",
       "      <td>0.000000</td>\n",
       "    </tr>\n",
       "  </tbody>\n",
       "</table>\n",
       "<p>437539 rows × 2 columns</p>\n",
       "</div>"
      ]
     },
     "execution_count": 111,
     "metadata": {},
     "output_type": "execute_result"
    }
   ],
   "execution_count": 111
  },
  {
   "cell_type": "markdown",
   "metadata": {},
   "source": [
    "**b)** Now, compute the cosine distance between the Barack Obama article and this tweet:"
   ]
  },
  {
   "cell_type": "code",
   "metadata": {
    "collapsed": false,
    "jupyter": {
     "outputs_hidden": false
    },
    "ExecuteTime": {
     "end_time": "2024-11-21T10:48:05.083958Z",
     "start_time": "2024-11-21T10:48:05.052549Z"
    }
   },
   "source": [
    "from sklearn.metrics.pairwise import cosine_distances # for one pair of samples we can just use this function\n",
    "dist = cosine_distances(TFIDF_sentence, TFIDFmatrix[wiki[wiki['name'] == 'Barack Obama'].index[0]])\n",
    "dist\n",
    "# Your code goes here"
   ],
   "outputs": [
    {
     "data": {
      "text/plain": [
       "array([[0.69925755]])"
      ]
     },
     "execution_count": 113,
     "metadata": {},
     "output_type": "execute_result"
    }
   ],
   "execution_count": 113
  },
  {
   "cell_type": "markdown",
   "metadata": {},
   "source": [
    "Let's compare this distance to the distance between the Barack Obama article and all of its Wikipedia nearest neighbors:"
   ]
  },
  {
   "cell_type": "code",
   "metadata": {
    "collapsed": false,
    "jupyter": {
     "outputs_hidden": false
    },
    "ExecuteTime": {
     "end_time": "2024-11-21T10:48:58.239674Z",
     "start_time": "2024-11-21T10:48:58.220426Z"
    }
   },
   "source": [
    "nearest_neighbors_cosine[0:23]"
   ],
   "outputs": [
    {
     "data": {
      "text/plain": [
       "                                  name  length        BO-cos\n",
       "35811                     Barack Obama     540  3.330669e-16\n",
       "24478                        Joe Biden     414  5.689319e-01\n",
       "38370                   Samantha Power     310  6.231093e-01\n",
       "38708          Eric Stern (politician)     255  6.499863e-01\n",
       "28441                   George W. Bush     505  6.600595e-01\n",
       "39351                      John McCain     410  6.601311e-01\n",
       "18827                     Henry Waxman     279  6.702800e-01\n",
       "37193          Barry Sullivan (lawyer)     893  6.731467e-01\n",
       "6796                       Eric Holder     232  6.750291e-01\n",
       "36446                     Bill Clinton     524  6.752721e-01\n",
       "24848                  John C. Eastman     366  6.790166e-01\n",
       "36419             Edward B. Montgomery     331  6.796431e-01\n",
       "14754                      Mitt Romney     502  6.811756e-01\n",
       "35351                 Lawrence Summers     413  6.852416e-01\n",
       "34338      Mary Dawson (civil servant)     434  6.967879e-01\n",
       "30798                   Richard Pildes     423  6.980350e-01\n",
       "11723                      Howard Dean     603  6.980821e-01\n",
       "4565               Robinson O. Everett     764  6.982632e-01\n",
       "24294                     Eric Fanning     378  6.987386e-01\n",
       "4874                     Bernard Kenny     461  6.996123e-01\n",
       "7914                     Phil Schiliro     208  7.000023e-01\n",
       "16155  Bob Smith (American politician)     267  7.051681e-01\n",
       "38489                     Barney Frank     264  7.069615e-01"
      ],
      "text/html": [
       "<div>\n",
       "<style scoped>\n",
       "    .dataframe tbody tr th:only-of-type {\n",
       "        vertical-align: middle;\n",
       "    }\n",
       "\n",
       "    .dataframe tbody tr th {\n",
       "        vertical-align: top;\n",
       "    }\n",
       "\n",
       "    .dataframe thead th {\n",
       "        text-align: right;\n",
       "    }\n",
       "</style>\n",
       "<table border=\"1\" class=\"dataframe\">\n",
       "  <thead>\n",
       "    <tr style=\"text-align: right;\">\n",
       "      <th></th>\n",
       "      <th>name</th>\n",
       "      <th>length</th>\n",
       "      <th>BO-cos</th>\n",
       "    </tr>\n",
       "  </thead>\n",
       "  <tbody>\n",
       "    <tr>\n",
       "      <th>35811</th>\n",
       "      <td>Barack Obama</td>\n",
       "      <td>540</td>\n",
       "      <td>3.330669e-16</td>\n",
       "    </tr>\n",
       "    <tr>\n",
       "      <th>24478</th>\n",
       "      <td>Joe Biden</td>\n",
       "      <td>414</td>\n",
       "      <td>5.689319e-01</td>\n",
       "    </tr>\n",
       "    <tr>\n",
       "      <th>38370</th>\n",
       "      <td>Samantha Power</td>\n",
       "      <td>310</td>\n",
       "      <td>6.231093e-01</td>\n",
       "    </tr>\n",
       "    <tr>\n",
       "      <th>38708</th>\n",
       "      <td>Eric Stern (politician)</td>\n",
       "      <td>255</td>\n",
       "      <td>6.499863e-01</td>\n",
       "    </tr>\n",
       "    <tr>\n",
       "      <th>28441</th>\n",
       "      <td>George W. Bush</td>\n",
       "      <td>505</td>\n",
       "      <td>6.600595e-01</td>\n",
       "    </tr>\n",
       "    <tr>\n",
       "      <th>39351</th>\n",
       "      <td>John McCain</td>\n",
       "      <td>410</td>\n",
       "      <td>6.601311e-01</td>\n",
       "    </tr>\n",
       "    <tr>\n",
       "      <th>18827</th>\n",
       "      <td>Henry Waxman</td>\n",
       "      <td>279</td>\n",
       "      <td>6.702800e-01</td>\n",
       "    </tr>\n",
       "    <tr>\n",
       "      <th>37193</th>\n",
       "      <td>Barry Sullivan (lawyer)</td>\n",
       "      <td>893</td>\n",
       "      <td>6.731467e-01</td>\n",
       "    </tr>\n",
       "    <tr>\n",
       "      <th>6796</th>\n",
       "      <td>Eric Holder</td>\n",
       "      <td>232</td>\n",
       "      <td>6.750291e-01</td>\n",
       "    </tr>\n",
       "    <tr>\n",
       "      <th>36446</th>\n",
       "      <td>Bill Clinton</td>\n",
       "      <td>524</td>\n",
       "      <td>6.752721e-01</td>\n",
       "    </tr>\n",
       "    <tr>\n",
       "      <th>24848</th>\n",
       "      <td>John C. Eastman</td>\n",
       "      <td>366</td>\n",
       "      <td>6.790166e-01</td>\n",
       "    </tr>\n",
       "    <tr>\n",
       "      <th>36419</th>\n",
       "      <td>Edward B. Montgomery</td>\n",
       "      <td>331</td>\n",
       "      <td>6.796431e-01</td>\n",
       "    </tr>\n",
       "    <tr>\n",
       "      <th>14754</th>\n",
       "      <td>Mitt Romney</td>\n",
       "      <td>502</td>\n",
       "      <td>6.811756e-01</td>\n",
       "    </tr>\n",
       "    <tr>\n",
       "      <th>35351</th>\n",
       "      <td>Lawrence Summers</td>\n",
       "      <td>413</td>\n",
       "      <td>6.852416e-01</td>\n",
       "    </tr>\n",
       "    <tr>\n",
       "      <th>34338</th>\n",
       "      <td>Mary Dawson (civil servant)</td>\n",
       "      <td>434</td>\n",
       "      <td>6.967879e-01</td>\n",
       "    </tr>\n",
       "    <tr>\n",
       "      <th>30798</th>\n",
       "      <td>Richard Pildes</td>\n",
       "      <td>423</td>\n",
       "      <td>6.980350e-01</td>\n",
       "    </tr>\n",
       "    <tr>\n",
       "      <th>11723</th>\n",
       "      <td>Howard Dean</td>\n",
       "      <td>603</td>\n",
       "      <td>6.980821e-01</td>\n",
       "    </tr>\n",
       "    <tr>\n",
       "      <th>4565</th>\n",
       "      <td>Robinson O. Everett</td>\n",
       "      <td>764</td>\n",
       "      <td>6.982632e-01</td>\n",
       "    </tr>\n",
       "    <tr>\n",
       "      <th>24294</th>\n",
       "      <td>Eric Fanning</td>\n",
       "      <td>378</td>\n",
       "      <td>6.987386e-01</td>\n",
       "    </tr>\n",
       "    <tr>\n",
       "      <th>4874</th>\n",
       "      <td>Bernard Kenny</td>\n",
       "      <td>461</td>\n",
       "      <td>6.996123e-01</td>\n",
       "    </tr>\n",
       "    <tr>\n",
       "      <th>7914</th>\n",
       "      <td>Phil Schiliro</td>\n",
       "      <td>208</td>\n",
       "      <td>7.000023e-01</td>\n",
       "    </tr>\n",
       "    <tr>\n",
       "      <th>16155</th>\n",
       "      <td>Bob Smith (American politician)</td>\n",
       "      <td>267</td>\n",
       "      <td>7.051681e-01</td>\n",
       "    </tr>\n",
       "    <tr>\n",
       "      <th>38489</th>\n",
       "      <td>Barney Frank</td>\n",
       "      <td>264</td>\n",
       "      <td>7.069615e-01</td>\n",
       "    </tr>\n",
       "  </tbody>\n",
       "</table>\n",
       "</div>"
      ]
     },
     "execution_count": 114,
     "metadata": {},
     "output_type": "execute_result"
    }
   ],
   "execution_count": 114
  },
  {
   "cell_type": "markdown",
   "metadata": {},
   "source": [
    "With cosine distances, the tweet is \"nearer\" to Barack Obama than most people! If someone is reading the Barack Obama Wikipedia page, would you want to recommend they read this tweet?\n",
    "In practice, it is common to enforce maximum or minimum document lengths. After all, when someone is reading a long article from _The Atlantic_, you wouldn't recommend him/her a tweet."
   ]
  }
 ],
 "metadata": {
  "anaconda-cloud": {},
  "kernelspec": {
   "display_name": "Python 3 (ipykernel)",
   "language": "python",
   "name": "python3"
  },
  "language_info": {
   "codemirror_mode": {
    "name": "ipython",
    "version": 2
   },
   "file_extension": ".py",
   "mimetype": "text/x-python",
   "name": "python",
   "nbconvert_exporter": "python",
   "pygments_lexer": "ipython2",
   "version": "2.7.12"
  }
 },
 "nbformat": 4,
 "nbformat_minor": 4
}
