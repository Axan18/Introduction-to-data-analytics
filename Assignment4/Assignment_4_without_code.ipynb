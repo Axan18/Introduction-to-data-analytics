{
 "cells": [
  {
   "cell_type": "markdown",
   "metadata": {},
   "source": [
    "When exploring a large set of documents -- such as Wikipedia, news articles, StackOverflow, etc. -- it can be useful to get a list of related material. To find relevant documents you typically\n",
    "* Decide on a notion of similarity\n",
    "* Find the documents that are most similar \n",
    "\n",
    "In the assignment you will\n",
    "* Gain intuition for different notions of similarity and practice finding similar documents. \n",
    "* Explore the tradeoffs with representing documents using raw word counts and TF-IDF\n",
    "* Explore the behavior of different distance metrics by looking at the Wikipedia pages most similar to President Obama’s page."
   ]
  },
  {
   "cell_type": "code",
   "metadata": {
    "collapsed": false,
    "jupyter": {
     "outputs_hidden": false
    },
    "ExecuteTime": {
     "end_time": "2024-12-16T20:40:03.785082Z",
     "start_time": "2024-12-16T20:40:03.780077Z"
    }
   },
   "source": [
    "import matplotlib.pyplot as plt\n",
    "import numpy as np\n",
    "import pandas as pd\n",
    "from holoviews.plotting.bokeh.styles import alpha\n",
    "from tensorflow.python.ops.numpy_ops.np_arrays import ndarray\n",
    "%matplotlib inline"
   ],
   "outputs": [],
   "execution_count": 295
  },
  {
   "cell_type": "markdown",
   "metadata": {},
   "source": [
    "## Load Wikipedia dataset"
   ]
  },
  {
   "cell_type": "markdown",
   "metadata": {},
   "source": [
    "We will be using the dataset of abridged Wikipedia pages. Each element of the dataset consists of a link to the wikipedia article, the name of the person, and the text of the article (in lowercase).  "
   ]
  },
  {
   "cell_type": "code",
   "metadata": {
    "collapsed": false,
    "jupyter": {
     "outputs_hidden": false
    },
    "ExecuteTime": {
     "end_time": "2024-12-16T20:40:05.036704Z",
     "start_time": "2024-12-16T20:40:03.829124Z"
    }
   },
   "source": [
    "wiki = pd.read_csv('people_wiki.csv')\n",
    "wiki.head()"
   ],
   "outputs": [
    {
     "data": {
      "text/plain": [
       "                                                 URI                 name  \\\n",
       "0        <http://dbpedia.org/resource/Digby_Morrell>        Digby Morrell   \n",
       "1       <http://dbpedia.org/resource/Alfred_J._Lewy>       Alfred J. Lewy   \n",
       "2        <http://dbpedia.org/resource/Harpdog_Brown>        Harpdog Brown   \n",
       "3  <http://dbpedia.org/resource/Franz_Rottensteiner>  Franz Rottensteiner   \n",
       "4               <http://dbpedia.org/resource/G-Enka>               G-Enka   \n",
       "\n",
       "                                                                                                                                                                                                                                                                                                                                                                                                                                                                                                                                                                                                                                                                                                                                                                                                                                                                                                                                                                                                                                                                                                                                                                                                                                                                                                                                                                                                                                                                                                                                                                                                                                                                                                                                                                                                                                                                                                                                                                                                                                                                                                                                                                                                                                                                                                                                                                                                                                                           text  \n",
       "0                                                                                                                                                                                                                                                                                                                                                                                                                                                                                                                                                                                                                                                                                                                                                                                                                                                                                                                       digby morrell born 10 october 1979 is a former australian rules footballer who played with the kangaroos and carlton in the australian football league aflfrom western australia morrell played his early senior football for west perth his 44game senior career for the falcons spanned 19982000 and he was the clubs leading goalkicker in 2000 at the age of 21 morrell was recruited to the australian football league by the kangaroos football club with its third round selection in the 2001 afl rookie draft as a forward he twice kicked five goals during his time with the kangaroos the first was in a losing cause against sydney in 2002 and the other the following season in a drawn game against brisbaneafter the 2003 season morrell was traded along with david teague to the carlton football club in exchange for corey mckernan he played 32 games for the blues before being delisted at the end of 2005 he continued to play victorian football league vfl football with the northern bullants carltons vflaffiliate in 2006 and acted as playing assistant coach in 2007 in 2008 he shifted to the box hill hawks before retiring from playing at the end of the season from 2009 until 2013 morrell was the senior coach of the strathmore football club in the essendon district football league leading the club to the 2011 premier division premiership since 2014 he has coached the west coburg football club also in the edflhe currently teaches physical education at parade college in melbourne  \n",
       "1                                                                                                                                                                                                                                                                                                                                                                                                                                                                                                                                                                                                                                                                                                                                                                                                                                                                                                                                    alfred j lewy aka sandy lewy graduated from university of chicago in 1973 after studying psychiatry pharmacology and ophthalmology he is a full professor and vicechair of the department of psychiatry at ohsu oregon health science university and holds an md and phd prior to moving to oregon in 1981 lewy was at the national institute of mental health nimh in bethesda maryland working with senior colleague thomas wehr in oregon he has worked closely with robert l sack as of december 2005 he had 94 publications available on pubmed he describes his research as follows my laboratory studies chronobiologic sleep and mood disorders these disorders include winter depression jet lag maladaptation to shift work and certain types of sleep disturbances relying on a very precise assay for plasma melatonin a hormone that has a clearly defined 24hour pattern of secretion biological rhythm disorders can be assessed and their treatment can be monitored current research is focused on developing bright light exposure and melatonin administration as treatment modalities for these disorders treatment must be precisely scheduled morning light exposure and evening melatonin administration cause circadian phaseadvance shifts evening light exposure and morning melatonin administration cause circadian phasedelay shifts totally blind individuals have 25hour circadian rhythms drifting an hour later each day unless they take a melatonin capsule at a certain time every day  \n",
       "2                                                                                                                                                                                                                                                                                                                                                                                                                                                                                                                                                                                                                                                                                                                                                                                                                                                                                                                                                                                                                                                                                                             harpdog brown is a singer and harmonica player who has been active in canadas blues scene since 1982 hailing from vancouver he crossed tens of thousands of miles playing club dates and festivals in canada the northwestern united states and germanyover the years he has issued seven cds in 1995 his home is where the harp is won the muddy award for the best nw blues release from the cascade blues association in portland oregon as well that year it was nominated for a canadian juno for the best bluesgospel recording teamed up with graham guest on piano his cd naturally was voted 1 canadian blues album of 2010 by the blind lemon surveybrown tours extensively with his guitarist j arthur edmonds performing their electric mid1950s chicago blues either as a duo or with the full band while he is home he juggles a few combos working many venues big and small he also leads the harpdog brown band which is a gutsy traditional chicago blues band in 2014 they released what it is comprising mainly original songs and a few classic covers influential blues promoter and broadcaster holger petersen called what it is browns best albumhe was just awarded the maple blues award in toronto for best harmonica player in canada 2014 and was honored with a life time membership to the hamilton blues society  \n",
       "3  franz rottensteiner born in waidmannsfeld lower austria austria on 18 january 1942 is an austrian publisher and critic in the fields of science fiction and the fantasticrottensteiner studied journalism english and history at the university of vienna receiving his doctorate in 1969 he served about fifteen years as librarian and editor at the sterreichisches institut fr bauforschung in vienna in addition he produced a number of translations into german of leading sf authors including herbert w franke stanislaw lem philip k dick kobo abe cordwainer smith brian w aldiss and the strugatski brothersin 1973 his new york anthology view from another shore of european science fiction introduced a number of continental authors to the englishreading public some of the authors in the work are stanislaw lem josef nesvadba gerard klein and jeanpierre andrevonthe year 1975 saw the start of his series die phantastischen romane for seven years it republished works of both lesser and betterknown writers as well as new ones ending with a total of 28 volumes in the years 19791985 he brought out trnaslations of h g wellss works in an eighteen volumes seriesrottensteiner provoked some controversy with his negative assessment of american science fiction what matters is the highest achievements and there the us has yet to produce a figure comparable to hg wells olaf stapledon karel apek or stanisaw lem rottensteiner describedroger zelazny barry n malzberg and robert silverberg as producing travesties of fiction and stated asimov is a typical nonwriter and heinlein and andersonare just banal however rottensteiner praised philip k dick listing him as one of the greatest sf writers from 1980 through 1998 he was advisor for suhrkamp verlags phantastische bibliothek which brought out some three hundred books in all he has edited about fifty anthologies produced two illustrated books the science fiction book 1975 und the fantasy book 1978 as well as working on numerous reference works on science fiction his close association with and promotion of lem until 1995 was a factor in the recognition of the latter in the united statesrottensteiner has been the editor of quarber merkur the leading german language critical journal of science fiction since 1963 in 2004 on the occasion of the hundredth number of this journal he was awarded a special kurdlawitzpreis  \n",
       "4                                                                                                                                                                                                                                                                                                                                                                                                                                                                                                                                                                                                                                                                                                                                                                                                                                                                                                                                                                                                                                                                                                                                                                                                                                               henry krvits born 30 december 1974 in tallinn better known by his stagename genka is an estonian rapper and record producergenka started rapping in 1996 along with revo and dj paul oja who was genkas schoolmate together they started a band called toe tag their first album the real kuhnja homophobes was released next year in 1998 genka and revo joined another estonian rap group arhm and toe tag went on vacation also genka started making his own solo songs the most famous hit was tallinn which was rapped along with droopy in 2001 during the same year toe tag came back together and started a big estonian tour in 2004 toe tag released their second studio album legendaarne legendary which consisted of 18 songs the most famous songs from the album were legendaarne and pankrot bankruptcy in 2006 genka and arhm released their new album leegion which had 23 songs the most famous songs from this album were palmisaar palm island and tugitooli gangster armchair gangstergenka and dj paul oja started their own record company legendaarne records also genka and arhm were the warmup performers for 50 cent on his 2007 europe promo tour for the curtis album in tallinn  "
      ],
      "text/html": [
       "<div>\n",
       "<style scoped>\n",
       "    .dataframe tbody tr th:only-of-type {\n",
       "        vertical-align: middle;\n",
       "    }\n",
       "\n",
       "    .dataframe tbody tr th {\n",
       "        vertical-align: top;\n",
       "    }\n",
       "\n",
       "    .dataframe thead th {\n",
       "        text-align: right;\n",
       "    }\n",
       "</style>\n",
       "<table border=\"1\" class=\"dataframe\">\n",
       "  <thead>\n",
       "    <tr style=\"text-align: right;\">\n",
       "      <th></th>\n",
       "      <th>URI</th>\n",
       "      <th>name</th>\n",
       "      <th>text</th>\n",
       "    </tr>\n",
       "  </thead>\n",
       "  <tbody>\n",
       "    <tr>\n",
       "      <th>0</th>\n",
       "      <td>&lt;http://dbpedia.org/resource/Digby_Morrell&gt;</td>\n",
       "      <td>Digby Morrell</td>\n",
       "      <td>digby morrell born 10 october 1979 is a former australian rules footballer who played with the kangaroos and carlton in the australian football league aflfrom western australia morrell played his early senior football for west perth his 44game senior career for the falcons spanned 19982000 and he was the clubs leading goalkicker in 2000 at the age of 21 morrell was recruited to the australian football league by the kangaroos football club with its third round selection in the 2001 afl rookie draft as a forward he twice kicked five goals during his time with the kangaroos the first was in a losing cause against sydney in 2002 and the other the following season in a drawn game against brisbaneafter the 2003 season morrell was traded along with david teague to the carlton football club in exchange for corey mckernan he played 32 games for the blues before being delisted at the end of 2005 he continued to play victorian football league vfl football with the northern bullants carltons vflaffiliate in 2006 and acted as playing assistant coach in 2007 in 2008 he shifted to the box hill hawks before retiring from playing at the end of the season from 2009 until 2013 morrell was the senior coach of the strathmore football club in the essendon district football league leading the club to the 2011 premier division premiership since 2014 he has coached the west coburg football club also in the edflhe currently teaches physical education at parade college in melbourne</td>\n",
       "    </tr>\n",
       "    <tr>\n",
       "      <th>1</th>\n",
       "      <td>&lt;http://dbpedia.org/resource/Alfred_J._Lewy&gt;</td>\n",
       "      <td>Alfred J. Lewy</td>\n",
       "      <td>alfred j lewy aka sandy lewy graduated from university of chicago in 1973 after studying psychiatry pharmacology and ophthalmology he is a full professor and vicechair of the department of psychiatry at ohsu oregon health science university and holds an md and phd prior to moving to oregon in 1981 lewy was at the national institute of mental health nimh in bethesda maryland working with senior colleague thomas wehr in oregon he has worked closely with robert l sack as of december 2005 he had 94 publications available on pubmed he describes his research as follows my laboratory studies chronobiologic sleep and mood disorders these disorders include winter depression jet lag maladaptation to shift work and certain types of sleep disturbances relying on a very precise assay for plasma melatonin a hormone that has a clearly defined 24hour pattern of secretion biological rhythm disorders can be assessed and their treatment can be monitored current research is focused on developing bright light exposure and melatonin administration as treatment modalities for these disorders treatment must be precisely scheduled morning light exposure and evening melatonin administration cause circadian phaseadvance shifts evening light exposure and morning melatonin administration cause circadian phasedelay shifts totally blind individuals have 25hour circadian rhythms drifting an hour later each day unless they take a melatonin capsule at a certain time every day</td>\n",
       "    </tr>\n",
       "    <tr>\n",
       "      <th>2</th>\n",
       "      <td>&lt;http://dbpedia.org/resource/Harpdog_Brown&gt;</td>\n",
       "      <td>Harpdog Brown</td>\n",
       "      <td>harpdog brown is a singer and harmonica player who has been active in canadas blues scene since 1982 hailing from vancouver he crossed tens of thousands of miles playing club dates and festivals in canada the northwestern united states and germanyover the years he has issued seven cds in 1995 his home is where the harp is won the muddy award for the best nw blues release from the cascade blues association in portland oregon as well that year it was nominated for a canadian juno for the best bluesgospel recording teamed up with graham guest on piano his cd naturally was voted 1 canadian blues album of 2010 by the blind lemon surveybrown tours extensively with his guitarist j arthur edmonds performing their electric mid1950s chicago blues either as a duo or with the full band while he is home he juggles a few combos working many venues big and small he also leads the harpdog brown band which is a gutsy traditional chicago blues band in 2014 they released what it is comprising mainly original songs and a few classic covers influential blues promoter and broadcaster holger petersen called what it is browns best albumhe was just awarded the maple blues award in toronto for best harmonica player in canada 2014 and was honored with a life time membership to the hamilton blues society</td>\n",
       "    </tr>\n",
       "    <tr>\n",
       "      <th>3</th>\n",
       "      <td>&lt;http://dbpedia.org/resource/Franz_Rottensteiner&gt;</td>\n",
       "      <td>Franz Rottensteiner</td>\n",
       "      <td>franz rottensteiner born in waidmannsfeld lower austria austria on 18 january 1942 is an austrian publisher and critic in the fields of science fiction and the fantasticrottensteiner studied journalism english and history at the university of vienna receiving his doctorate in 1969 he served about fifteen years as librarian and editor at the sterreichisches institut fr bauforschung in vienna in addition he produced a number of translations into german of leading sf authors including herbert w franke stanislaw lem philip k dick kobo abe cordwainer smith brian w aldiss and the strugatski brothersin 1973 his new york anthology view from another shore of european science fiction introduced a number of continental authors to the englishreading public some of the authors in the work are stanislaw lem josef nesvadba gerard klein and jeanpierre andrevonthe year 1975 saw the start of his series die phantastischen romane for seven years it republished works of both lesser and betterknown writers as well as new ones ending with a total of 28 volumes in the years 19791985 he brought out trnaslations of h g wellss works in an eighteen volumes seriesrottensteiner provoked some controversy with his negative assessment of american science fiction what matters is the highest achievements and there the us has yet to produce a figure comparable to hg wells olaf stapledon karel apek or stanisaw lem rottensteiner describedroger zelazny barry n malzberg and robert silverberg as producing travesties of fiction and stated asimov is a typical nonwriter and heinlein and andersonare just banal however rottensteiner praised philip k dick listing him as one of the greatest sf writers from 1980 through 1998 he was advisor for suhrkamp verlags phantastische bibliothek which brought out some three hundred books in all he has edited about fifty anthologies produced two illustrated books the science fiction book 1975 und the fantasy book 1978 as well as working on numerous reference works on science fiction his close association with and promotion of lem until 1995 was a factor in the recognition of the latter in the united statesrottensteiner has been the editor of quarber merkur the leading german language critical journal of science fiction since 1963 in 2004 on the occasion of the hundredth number of this journal he was awarded a special kurdlawitzpreis</td>\n",
       "    </tr>\n",
       "    <tr>\n",
       "      <th>4</th>\n",
       "      <td>&lt;http://dbpedia.org/resource/G-Enka&gt;</td>\n",
       "      <td>G-Enka</td>\n",
       "      <td>henry krvits born 30 december 1974 in tallinn better known by his stagename genka is an estonian rapper and record producergenka started rapping in 1996 along with revo and dj paul oja who was genkas schoolmate together they started a band called toe tag their first album the real kuhnja homophobes was released next year in 1998 genka and revo joined another estonian rap group arhm and toe tag went on vacation also genka started making his own solo songs the most famous hit was tallinn which was rapped along with droopy in 2001 during the same year toe tag came back together and started a big estonian tour in 2004 toe tag released their second studio album legendaarne legendary which consisted of 18 songs the most famous songs from the album were legendaarne and pankrot bankruptcy in 2006 genka and arhm released their new album leegion which had 23 songs the most famous songs from this album were palmisaar palm island and tugitooli gangster armchair gangstergenka and dj paul oja started their own record company legendaarne records also genka and arhm were the warmup performers for 50 cent on his 2007 europe promo tour for the curtis album in tallinn</td>\n",
       "    </tr>\n",
       "  </tbody>\n",
       "</table>\n",
       "</div>"
      ]
     },
     "execution_count": 296,
     "metadata": {},
     "output_type": "execute_result"
    }
   ],
   "execution_count": 296
  },
  {
   "cell_type": "markdown",
   "metadata": {},
   "source": [
    "If you want to check whether the text on the webpage agrees with the one here, you can display it with the following code:"
   ]
  },
  {
   "cell_type": "code",
   "metadata": {
    "collapsed": true,
    "ExecuteTime": {
     "end_time": "2024-12-16T20:40:05.181518Z",
     "start_time": "2024-12-16T20:40:05.177397Z"
    }
   },
   "source": [
    "# from IPython.display import HTML\n",
    "# print(wiki['text'][0])\n",
    "# HTML(url=wiki['URI'][0])"
   ],
   "outputs": [],
   "execution_count": 297
  },
  {
   "cell_type": "markdown",
   "metadata": {},
   "source": [
    "## Ex. 1: Extract word count vectors"
   ]
  },
  {
   "cell_type": "markdown",
   "metadata": {},
   "source": [
    "As we have seen in Assignment 4, we can extract word count vectors using `CountVectorizer` function.\n",
    "- make sure you include words of unit length by using the parameter: `token_pattern=r\"(?u)\\b\\w+\\b\"`\n",
    "- do not use any stopwords\n",
    "- take 10000 most frequent words in the corpus\n",
    "- explicitly take all the words independent of in how many documents they occur\n",
    "- obtain the matrix of word counts"
   ]
  },
  {
   "cell_type": "code",
   "metadata": {
    "collapsed": true,
    "ExecuteTime": {
     "end_time": "2024-12-16T20:40:22.657925Z",
     "start_time": "2024-12-16T20:40:05.239250Z"
    }
   },
   "source": [
    "from sklearn.feature_extraction.text import CountVectorizer\n",
    "\n",
    "vectorizer = CountVectorizer(\n",
    "    token_pattern=r\"(?u)\\b\\w+\\b\",\n",
    "    max_features=10000,\n",
    "    stop_words = None,\n",
    "    min_df=0.0)\n",
    "WCmatrix = vectorizer.fit_transform(wiki['text'])"
   ],
   "outputs": [],
   "execution_count": 298
  },
  {
   "cell_type": "markdown",
   "metadata": {},
   "source": [
    "## Ex. 2: Find nearest neighbors"
   ]
  },
  {
   "cell_type": "markdown",
   "metadata": {},
   "source": [
    "**a)** Start by finding the nearest neighbors of the Barack Obama page using the above word count matrix to represent the articles and **Euclidean** distance to measure distance.\n",
    "Save the distances in `wiki['BO-eucl']` and look at the top 10 nearest neighbors."
   ]
  },
  {
   "cell_type": "code",
   "metadata": {
    "collapsed": true,
    "ExecuteTime": {
     "end_time": "2024-12-16T20:40:23.166101Z",
     "start_time": "2024-12-16T20:40:22.661923Z"
    }
   },
   "source": [
    "# One can use the following:\n",
    "    # from sklearn.neighbors import NearestNeighbors\n",
    "    # nbrs = NearestNeighbors(n_neighbors=3, algorithm='brute',metric='euclidean').fit(X.toarray())\n",
    "    # distances, indices = nbrs.kneighbors(X.toarray())\n",
    "# but here let's use:\n",
    "from sklearn.metrics import pairwise_distances\n",
    "\n",
    "dist = pairwise_distances(WCmatrix, WCmatrix[wiki[wiki['name'] == 'Barack Obama'].index[0]])\n",
    "wiki['BO-eucl'] = dist\n",
    "\n"
   ],
   "outputs": [],
   "execution_count": 299
  },
  {
   "cell_type": "code",
   "metadata": {
    "collapsed": false,
    "ExecuteTime": {
     "end_time": "2024-12-16T20:40:23.286769Z",
     "start_time": "2024-12-16T20:40:23.264190Z"
    }
   },
   "source": "wiki.sort_values(by='BO-eucl',ascending=True).head(10)",
   "outputs": [
    {
     "data": {
      "text/plain": [
       "                                                   URI               name  \\\n",
       "35817       <http://dbpedia.org/resource/Barack_Obama>       Barack Obama   \n",
       "24478          <http://dbpedia.org/resource/Joe_Biden>          Joe Biden   \n",
       "28447     <http://dbpedia.org/resource/George_W._Bush>     George W. Bush   \n",
       "48202       <http://dbpedia.org/resource/Tony_Vaccaro>       Tony Vaccaro   \n",
       "14754        <http://dbpedia.org/resource/Mitt_Romney>        Mitt Romney   \n",
       "31423     <http://dbpedia.org/resource/Walter_Mondale>     Walter Mondale   \n",
       "36364         <http://dbpedia.org/resource/Don_Bonker>         Don Bonker   \n",
       "13229   <http://dbpedia.org/resource/Francisco_Barrio>   Francisco Barrio   \n",
       "35357   <http://dbpedia.org/resource/Lawrence_Summers>   Lawrence Summers   \n",
       "25258  <http://dbpedia.org/resource/Marc_Ravalomanana>  Marc Ravalomanana   \n",
       "\n",
       "                                                                                                                                                                                                                                                                                                                                                                                                                                                                                                                                                                                                                                                                                                                                                                                                                                                                                                                                                                                                                                                                                                                                                                                                                                                                                                                                                                                                                                                                                                                                                                                                                                                                                                                                                                                                                                                                                                                                                                                                                                                                                                                                                                                                                                                                                                                                                                                                                                                                                                                                                                                                                                                                                                                                                                                                                                                                                                                                                                                                                                                                                                                                                                                                                                                                                                                                                                                                                                                                                                                                                                                                                                              text  \\\n",
       "35817                                                                                                                                                                                                                               barack hussein obama ii brk husen bm born august 4 1961 is the 44th and current president of the united states and the first african american to hold the office born in honolulu hawaii obama is a graduate of columbia university and harvard law school where he served as president of the harvard law review he was a community organizer in chicago before earning his law degree he worked as a civil rights attorney and taught constitutional law at the university of chicago law school from 1992 to 2004 he served three terms representing the 13th district in the illinois senate from 1997 to 2004 running unsuccessfully for the united states house of representatives in 2000in 2004 obama received national attention during his campaign to represent illinois in the united states senate with his victory in the march democratic party primary his keynote address at the democratic national convention in july and his election to the senate in november he began his presidential campaign in 2007 and after a close primary campaign against hillary rodham clinton in 2008 he won sufficient delegates in the democratic party primaries to receive the presidential nomination he then defeated republican nominee john mccain in the general election and was inaugurated as president on january 20 2009 nine months after his election obama was named the 2009 nobel peace prize laureateduring his first two years in office obama signed into law economic stimulus legislation in response to the great recession in the form of the american recovery and reinvestment act of 2009 and the tax relief unemployment insurance reauthorization and job creation act of 2010 other major domestic initiatives in his first term included the patient protection and affordable care act often referred to as obamacare the doddfrank wall street reform and consumer protection act and the dont ask dont tell repeal act of 2010 in foreign policy obama ended us military involvement in the iraq war increased us troop levels in afghanistan signed the new start arms control treaty with russia ordered us military involvement in libya and ordered the military operation that resulted in the death of osama bin laden in january 2011 the republicans regained control of the house of representatives as the democratic party lost a total of 63 seats and after a lengthy debate over federal spending and whether or not to raise the nations debt limit obama signed the budget control act of 2011 and the american taxpayer relief act of 2012obama was reelected president in november 2012 defeating republican nominee mitt romney and was sworn in for a second term on january 20 2013 during his second term obama has promoted domestic policies related to gun control in response to the sandy hook elementary school shooting and has called for full equality for lgbt americans while his administration has filed briefs which urged the supreme court to strike down the defense of marriage act of 1996 and californias proposition 8 as unconstitutional in foreign policy obama ordered us military involvement in iraq in response to gains made by the islamic state in iraq after the 2011 withdrawal from iraq continued the process of ending us combat operations in afghanistan and has sought to normalize us relations with cuba   \n",
       "24478                                                                                                                                                                                                                                                                                                                                                                                                                                                                                                                                                                                                                                                                                                                                                                                                                                                                                                                                                                                                                  joseph robinette joe biden jr dosf rbnt badn born november 20 1942 is the 47th and current vice president of the united states jointly elected with president barack obama he is a member of the democratic party and was a united states senator from delaware from january 3 1973 until his resignation on january 15 2009 following his election to the vice presidency in 2012 biden was elected to a second term alongside obamabiden was born in scranton pennsylvania and lived there for ten years before moving to delaware he became an attorney in 1969 and was elected to the new castle county council in 1970 biden was first elected to the senate in 1972 and became the sixthyoungest senator in us history he was reelected to the senate six times and was the fourth most senior senator at the time of his resignation biden was a longtime member and former chairman of the foreign relations committee his strong advocacy helped bring about us military assistance and intervention during the bosnian war he opposed the gulf war in 1991 he voted in favor of the iraq war resolution in 2002 but later proposed resolutions to alter us strategy there he has also served as chairman of the senate judiciary committee dealing with issues related to drug policy crime prevention and civil liberties and led creation of the violent crime control and law enforcement act and violence against women act he chaired the judiciary committee during the contentious us supreme court nominations of robert bork and clarence thomasbiden unsuccessfully sought the democratic presidential nomination in 1988 and 2008 both times dropping out early in the race barack obama selected biden to be the democratic party nominee for vice president in the 2008 us presidential election biden is the first roman catholic and the first delawarean to become vice president of the united states as vice president biden has been heavily involved in obamas decisionmaking process and held the oversight role for infrastructure spending from the obama stimulus package aimed at counteracting the late2000s recession his ability to negotiate with congressional republicans played a key role in bringing about the bipartisan deals that resulted in the tax relief unemployment insurance reauthorization and job creation act of 2010 that resolved a taxation deadlock the budget control act of 2011 that resolved that years debt ceiling crisis and the american taxpayer relief act of 2012 that addressed the impending fiscal cliff obama and biden were reelected in 2012   \n",
       "28447                                                                                                                                                                                                                                                                                                                                                                       george walker bush born july 6 1946 is an american politician and businessman who served as the 43rd president of the united states from 2001 to 2009 and the 46th governor of texas from 1995 to 2000 the eldest son of barbara and george h w bush he was born in new haven connecticut after graduating from yale university in 1968 and harvard business school in 1975 bush worked in oil businesses he married laura welch in 1977 and ran unsuccessfully for the house of representatives shortly thereafter he later coowned the texas rangers baseball team before defeating ann richards in the 1994 texas gubernatorial election bush was elected president in 2000 after a close and controversial election becoming the fourth president to be elected while receiving fewer popular votes nationwide than his opponent bush is the second president to have been the son of a former president the first having been john quincy adams he is also the brother of jeb bush former governor of floridaeight months into bushs first term as president the september 11 2001 terrorist attacks occurred in response bush launched the war on terror an international military campaign which included the war in afghanistan launched in 2001 and the war in iraq launched in 2003in addition to national security issues bush also promoted policies on the economy health care education social security reform and amending the constitution to prohibit samesex marriage he signed into law broad tax cuts the patriot act the no child left behind act the partialbirth abortion ban act medicare prescription drug benefits for seniors and funding for the aids relief program known as pepfar his tenure saw national debates on immigration social security electronic surveillance and torturebush successfully ran for reelection against democratic senator john kerry in 2004 in another relatively close election after his reelection bush received increasingly heated criticism from across the political spectrum for his handling of the iraq war hurricane katrina and numerous other challenges amid this criticism the democratic party regained control of congress in the 2006 elections in december 2007 the united states entered its longest postworld war ii recession often referred to as the great recession prompting the bush administration to enact multiple economic programs intended to preserve the countrys financial system nationally bush was both one of the most popular and unpopular presidents in history having received the highest recorded presidential approval ratings in the wake of the september 11 attacks as well as one of the lowest approval ratings during the 2008 financial crisis he was met with public protests even occurring during visits to the united kingdombush left office in 2009 since then he has returned to texas and purchased a home in a suburban area of dallas he is currently a public speaker has written a memoir titled decision points and his presidential library was opened in 2013 his presidency has been ranked among the worst in recent surveys of presidential scholars although bush has been viewed more favorably by the public since leaving office   \n",
       "48202                                                                                                                                                                                                                                                                                                                                                                                                                                                                                                                                                                                                                                                                                                                                                                                                                                                                                                          michelantonio celestino onofrio vaccaro born december 20 1922 better known as tony vaccaro or michael a vaccaro is an american photographer who is best known for his photos taken in europe during 1944 and 1945 and in germany immediately after world war ii after the war he became a renowned fashion and lifestyle photographer for us magazinesborn in greensburg pennsylvania as the second child of three and the only boy of his parents who were italian immigrants he was baptized michelantonio celestino onofrio vaccaro his father giuseppe antonio vaccaro b october 14 1874 was from bonefro in the region of molise in italy in 1926 the family moved back to bonefro where tony spent his youthwith the outbreak of world war ii vaccaro moved back to the united states in order to escape the fascist regime and military service in italy in the us the seventeenyears old vaccaro finished his education the high school in new rochelle new york in 1943 he was drafted into the us army and sent to europe in 1944vaccaro fought in 1944 and 1945 as a private in the 83rd infantry division of the us army in normandy and then in luxembourg and germany his task as a scout left him with enough free time during the day to take photographs by the end of the war in europe vaccaro had become an official photographer for the divisions newspaper in september 1945 he was discharged from the army vaccaro stayed in germany where he obtained a job first as a photographer for audio visual aids ava stationed at frankfurt and then with weekend the sunday supplement of the us army newspaper stars and stripes until 1949 vaccaro photographed throughout germany and europe documenting postwar lifeafter his return to the us in 1949 he worked for flair and look before joining the magazine life photographs from his extensive despite some 4000 pictures having been lost in an accident in 1948 wartime archive were published in 2001 in his book entering germany photographs 19441949 and 2002 in the book shots of war tony vaccaro in 1994 he was awarded the french lgion dhonneur at the celebrations of the fiftyyear anniversary of the normandy landingsin 2002 german public television ard showed the film schnappschsse vom krieg shots of war in 2004 vaccaro received the german bundesverdienstkreuz erster klasse and in the parlement de la bretagne his exhibition shots of war was shown for the commemoration of the 60th anniversary of the liberation of francethis exhibition was also shown at the scuderie del quirinale in rome in 2009 and at the memorial in caen in 2014a museum named after tony vaccaro was inaugurated in bonefro cb august 24 2014   \n",
       "14754                                                                                                                                                                                                                                                                                                                                                                                                                                       willard mitt romney born march 12 1947 is an american politician and businessman who was the republican partys nominee for president of the united states in the 2012 election before his presidential bid he served as the 70th governor of massachusetts from 2003 to 2007raised in bloomfield hills michigan by his parents george and lenore romney mitt romney spent two and a half years in france as a mormon missionary starting in 1966 in 1969 he married ann davies with whom he has had five sons by 1971 romney had participated in the political campaigns of both of his parents in that year he earned a bachelor of arts at brigham young and in 1975 a joint juris doctor and master of business administration at harvard romney then entered the management consulting industry and in 1977 secured a position at bain company later serving as its chief executive officer he helped lead the company out of financial crisis in 1984 he cofounded and led the spinoff company bain capital a highly profitable private equity investment firm that became one of the largest of its kind in the nation active in the church of jesus christ of latterday saints romney served during his business career as the bishop of his ward head of his local congregation and then stake president in his home area near boston after stepping down from bain capital and his local leadership role in the church he ran as the republican candidate in the 1994 massachusetts election for us senate upon losing to longtime incumbent ted kennedy he resumed his position at bain capital years later a successful stint as president and ceo of the salt lake organizing committee for the 2002 winter olympics led to a relaunch of his political careerelected governor of massachusetts in 2002 romney helped develop and enact into law the massachusetts health care reform legislation the first of its kind in the nation which provided nearuniversal health insurance access through statelevel subsidies and individual mandates to purchase insurance he also presided over the elimination of a projected 1215 billion deficit through a combination of spending cuts increased fees and the closure of corporate tax loopholes romney did not seek reelection in 2006 instead focusing on his campaign for the republican nomination in the 2008 us presidential election he won several primaries and caucuses but lost to the eventual nominee senator john mccain his considerable net worth estimated in 2012 at 190250 million helped finance his political campaigns prior to 2012romney won the 2012 republican presidential nomination becoming the first mormon to be a major party presidential nominee romney was defeated by incumbent democratic president barack obama in the november 2012 general election losing by 332206 electoral college votes the popular vote margin was 5147 percent in obamas favor following the election he initially kept a low profile but later became more visible politically after actively considering the possibility in january 2015 he ruled out running for the presidency again in the 2016 presidential election   \n",
       "31423                                                                                                                                                                                                                                                                                                                                                                                                                                                                                                                                                                                                                                                                                                                                                                                                                                   walter frederick fritz mondale born january 5 1928 is an american democratic party politician who served as the 42nd vice president of the united states 19771981 under president jimmy carter and as a united states senator from minnesota 19641976 he was the democratic partys presidential candidate in the united states presidential election of 1984 at more than 34 years he has had the longest retirement of any vice presidentmondale was born in ceylon minnesota and graduated from the university of minnesota in 1951 he then served in the us army during the korean war before earning a law degree in 1956 he married joan adams in 1955 working as a lawyer in minneapolis mondale was appointed to the position of attorney general in 1960 by governor orville freeman and was elected to a full term as attorney general in 1962 with 60 of votes cast he was appointed to the u s senate by governor karl f rolvaag upon the resignation of senator hubert h humphrey consequent to humphreys election as vice president mondale was subsequently elected to a full senate term in 1966 and again in 1972 resigning that post in 1976 as he prepared to succeed to the vice presidency in 1977 while in the senate he supported consumer protection fair housing tax reform and the desegregation of schools importantly he served as a member of the select committee to study governmental operations with respect to intelligence activities church committeein 1976 carter the democratic presidential nominee chose mondale as his vice presidential running mate in the forthcoming election the cartermondale ticket defeated incumbent president gerald ford and his vice presidential running mate bob dole carter and mondales time in office was marred by a worsening economy and although both were renominated by the democratic party they lost the 1980 election to republicans ronald reagan and george hw bushin 1984 mondale won the democratic presidential nomination and campaigned for a nuclear freeze the equal rights amendment an increase in taxes and a reduction of us public debt mondale was defeated by president reagan in one of the biggest landslides in us history gaining electoral votes from only his home state of minnesota and the district of columbiaafter the election mondale joined the minnesotabased law firm of dorsey whitney and the national democratic institute for international affairs 198693 and was credited with successes in poland and hungary president bill clinton appointed mondale united states ambassador to japan in 1993 he retired in 1996 in 2002 he ran for his old senate seat however he was defeated mondale then returned to working at dorsey whitney and remains active in the democratic party   \n",
       "36364                                                                                                                                                                                                                                                                                                                                                                                                                                don leroy bonker born march 7 1937 in denver colorado is an american former congressman for the state of washington and a democrat he served as a member of the united states house of representatives from 1975 to 1989 representing washingtons third congressional districthe is a resident of bainbridge island washingtonbonker attended public schools in westminster colorado he received his associate of arts degree from clark college in vancouver washington in 1962 his bachelor of arts from lewis clark college in portland oregon in 1964 and completed graduate work at american university in washington dc bonker served in the united states coast guard as first class yeoman from 1955 to 1959he served as aide to united states senator maurine brown neuberger from 1964 to 1965 clark county auditor in vancouver from 1966 to 1974 and as a delegate to washington state democratic conventions from 1968 to 1970 bonker ran for washington secretary of state in 1972 but was defeated by incumbent republican lud kramer bonker was elected as a moderate democrat to the 94th and to the six succeeding congresses january 3 1975january 3 1989 he did not run for reelection in 1988 so he could run for nomination to the united states senate where he narrowly lost in the primary to democrat mike lowry who was defeated in the general election by republican slade gorton in 1992 bonker again ran for a us senate seat but was defeated in the primary by the eventual winner democratic senator patty murray in 2000 he ran for secretary of state again winning the party nomination in the primary but losing in the general to sam reedduring his time in the house bonker was a senior member of the house foreign affairs committee and chairman of the subcommittee on international economic policy and trade he also served on the presidents export council and headed former house speaker tip oneills trade task force which led to passage of the 1988 omnibus trade act during his tenure in congress bonker authored and was a principal sponsor of significant trade legislation such as the export trading company act and the export administration act he helped establish the grays harbor national wildlife refuge and the mount st helens national volcanic monument added protection island to the national wildlife refuge system preserved the point of arches in the olympic national park added 250000 acres 1000 km to the 1984 washington wilderness act and banned the export of western redcedar bonker is now the president and ceo of the international management and development institute on the board of the foundation for usrussia business cooperation and is executive vice president of apco worldwide 1 in 2009 bonker was the target of significant criticism by democrats for endorsing republican susan hutchison for king county executive against democratic favorite and eventual winner dow constantinehe is the author of americas trade crisis published by houghton mifflin and is a writer and speaker on us trade policy his monthly column on trade policy appears in a number of newspapers around the country   \n",
       "13229                                                                                                                                                                                                                                                                                                                                                                                                                                                                                                                                                                                                                                                                                                                                                                                                                                                                                                                                                                                                                                                                  francisco javier barrio terrazas born november 25 1950 is a mexican politician affiliated to the national action party pan he is a former governor of chihuahua and former secretary in the cabinet of president vicente foxbarrio was born in satevo chihuahua and received a bachelors degree in accounting and an mba from the autonomous university of chihuahua he did some consulting and worked in the private sector before joining the local chapter of the national action party in 1983 and becoming its first member to ever win the mayorship of jurez chihuahua he ran for governor in 1986 and lost against the pri candidate fernando baeza melndez in one of the most controversial elections in the states recent history six years later he made another attempt and won ending more than 60 years of uninterrupted control of chihuahuas governorship by members of the institutional revolutionary party as a governor he delivered mixed results and consequently the pri regained control of the state at the end of his term while governor of chihuahua hundreds of women were raped and murdered in juarez barrio refused for years to mount an inquiry and suggested the attacks were not surprising because the victims walked in dark places at night and wore provocative clothingin the course of his political career barrioterrazas has served as mayor of ciudad jurez and governor of the state of chihuahua a post he held from 1992 to 1998 in the 80s he held leadership roles in his native state during the politicaldemocratic transition process and later served as one of the first governors to rise from the ranks of the opposition partyduring his tenure as governor the state of chihuahua placed first in the country in anticorruption and good governance according to the annual review conducted by the prestigious monterrey technological institute of higher studies itesmbarrio headed the federal comptrollers secretariat 20002003 and in 2003 was elected to the chamber of deputies where he became the leader of the national action partys parliamentary groupon february 24 2005 he expressed interest in becoming the pan presidential candidate and campaigned for a few months before quitting on july 7 arguing partisan favoritism towards the former minister of the interior santiago creelin january 2009 he was named as the mexican ambassador to canada this was met with controversy and protests from rights organizations in canada and mexico due to his actions during the juarez murders   \n",
       "35357                                                                                                                                                                                                                                                                                                                                                                                                                                                                                                                                                                                                                                                                                                                                                                                                                                                                                                                  lawrence henry larry summers born november 30 1954 is an american economist who is president emeritus and charles w eliot university professor of harvard universityborn in new haven connecticut summers became a professor of economics at harvard university in 1983 he left harvard in 1991 working as the chief economist at the world bank from 1991 to 1993 in 1993 summers was appointed undersecretary for international affairs of the united states department of the treasury under the clinton administration in 1995 he was promoted to deputy secretary of the treasury under his longtime political mentor robert rubin in 1999 he succeeded rubin as secretary of the treasury while working for the clinton administration summers played a leading role in the american response to the 1994 economic crisis in mexico the 1997 asian financial crisis and the russian financial crisis he was also influential in the american advised privatization of the economies of the postsoviet states and in the deregulation of the us financial system including the abolishment of the glasssteagall actfollowing the end of clintons term summers served as the 27th president of harvard university from 2001 to 2006 summers resigned as harvards president in the wake of a noconfidence vote by harvard faculty that resulted in large part from summerss conflict with cornel west financial conflict of interest questions regarding his relationship with andrei shleifer and a 2005 speech in which he suggested that the underrepresentation of women in science and engineering could be due to a different availability of aptitude at the high end and less to patterns of discrimination and socialization after his departure from harvard summers made millions as a managing partner at the hedge fund d e shaw co and by giving paid speeches to major financial institutions including goldman sachs jpmorgan chase citigroup merrill lynch and lehman brothers summers rejoined public service during the obama administration serving as the director of the white house united states national economic council for president barack obama from january 2009 until november 2010 where he emerged as a key economic decisionmaker in the obama administrations response to the great recession after his departure from the nec in december 2010 summers has worked in the private sector and as a columnist in major newspapers in mid2013 his name was widely floated as the potential successor to ben bernanke as the chairman of the federal reserve though after pushback from the left obama eventually nominated federal reserve vicechairwoman janet yellen for the position   \n",
       "25258  marc ravalomanana malagasy ravalumanan born 12 december 1949 is a malagasy politician who was the president of madagascar from 2002 to 2009 born into a farming merina family in imerinkasinina near the capital city of antananarivo ravalomanana first rose to prominence as the founder and ceo of the vast dairy conglomerate tiko later launching successful wholesaler magro and several additional companieshe entered politics upon founding the tiako iarivo political party in 1999 and successfully ran for the position of mayor of antananarivo holding the position from 1999 to 2001 as mayor he improved sanitary and security conditions in the city in august 2001 he announced his candidacy as an independent in the december 2001 presidential election he then took office as president in 2002 amidst a dispute over election results in which he successfully pressed his claim to have won a majority in the first round under the leadership of jacques sylla ravalomananas prime minister from 2002 to 2007 the political party tiako i madagasikara was founded in 2002 to support ravalomananas presidency and came to dominate legislative and local elections he was reelected in december 2006 again with a majority in the first roundduring ravalomananas presidency madagascar made significant advances toward development targets and experienced an average of seven per cent growth per year his administration oversaw the construction of thousands of new schools and health clinics road rehabilitation aided in improving rural farmers access to markets the establishment of the independent anticorruption agency bianco and the adoption of diverse supporting policies resulted in a decline in government corruption the acreage of natural areas under protection expanded in fulfillment of ravalomananas madagascar naturally development program the 2007 release of ravalomananas comprehensive development strategy the madagascar action plan set targets and goals for national development over his second term in the areas of governance infrastructure agriculture health economy environment and national solidarityopposition members criticized ravalomanana in the later period of his presidency accusing him of increasing authoritarianism and the mixing of public and private interests in addition the benefits of the countrys growth were not evenly spread leading to increased wealth inequality inflation and a decline in purchasing power for the lower and middle classes in 2008 a controversial land lease agreement with korean agricultural firm daewoo the purchase of a costly presidential jet and the closure of media channels owned by opposition leader and mayor of antananarivo andry rajoelina strengthened popular disapproval of his policies rajoelina rallied popular support for the opposition leading to a popular uprising that began in january 2009 and ended two months later with ravalomananas resignation under pressure and rajoelina taking control with military support in a power transfer viewed by the international community as a coup dtat from 2009 to 2013 ravalomanana was active in negotiations between rajoelina and former heads of state albert zafy and didier ratsiraka to organize national elections in december 2012 he declared he would not present himself as a candidate then a precondition to the elections being viewed as legitimate by the international community he is currently imprisoned having been sentenced to lifelong hard labour for abuses of power by the rajoelina administration   \n",
       "\n",
       "         BO-eucl  \n",
       "35817   0.000000  \n",
       "24478  31.336879  \n",
       "28447  33.645208  \n",
       "48202  33.734256  \n",
       "14754  34.351128  \n",
       "31423  34.423829  \n",
       "36364  34.597688  \n",
       "13229  34.669872  \n",
       "35357  35.383612  \n",
       "25258  35.440090  "
      ],
      "text/html": [
       "<div>\n",
       "<style scoped>\n",
       "    .dataframe tbody tr th:only-of-type {\n",
       "        vertical-align: middle;\n",
       "    }\n",
       "\n",
       "    .dataframe tbody tr th {\n",
       "        vertical-align: top;\n",
       "    }\n",
       "\n",
       "    .dataframe thead th {\n",
       "        text-align: right;\n",
       "    }\n",
       "</style>\n",
       "<table border=\"1\" class=\"dataframe\">\n",
       "  <thead>\n",
       "    <tr style=\"text-align: right;\">\n",
       "      <th></th>\n",
       "      <th>URI</th>\n",
       "      <th>name</th>\n",
       "      <th>text</th>\n",
       "      <th>BO-eucl</th>\n",
       "    </tr>\n",
       "  </thead>\n",
       "  <tbody>\n",
       "    <tr>\n",
       "      <th>35817</th>\n",
       "      <td>&lt;http://dbpedia.org/resource/Barack_Obama&gt;</td>\n",
       "      <td>Barack Obama</td>\n",
       "      <td>barack hussein obama ii brk husen bm born august 4 1961 is the 44th and current president of the united states and the first african american to hold the office born in honolulu hawaii obama is a graduate of columbia university and harvard law school where he served as president of the harvard law review he was a community organizer in chicago before earning his law degree he worked as a civil rights attorney and taught constitutional law at the university of chicago law school from 1992 to 2004 he served three terms representing the 13th district in the illinois senate from 1997 to 2004 running unsuccessfully for the united states house of representatives in 2000in 2004 obama received national attention during his campaign to represent illinois in the united states senate with his victory in the march democratic party primary his keynote address at the democratic national convention in july and his election to the senate in november he began his presidential campaign in 2007 and after a close primary campaign against hillary rodham clinton in 2008 he won sufficient delegates in the democratic party primaries to receive the presidential nomination he then defeated republican nominee john mccain in the general election and was inaugurated as president on january 20 2009 nine months after his election obama was named the 2009 nobel peace prize laureateduring his first two years in office obama signed into law economic stimulus legislation in response to the great recession in the form of the american recovery and reinvestment act of 2009 and the tax relief unemployment insurance reauthorization and job creation act of 2010 other major domestic initiatives in his first term included the patient protection and affordable care act often referred to as obamacare the doddfrank wall street reform and consumer protection act and the dont ask dont tell repeal act of 2010 in foreign policy obama ended us military involvement in the iraq war increased us troop levels in afghanistan signed the new start arms control treaty with russia ordered us military involvement in libya and ordered the military operation that resulted in the death of osama bin laden in january 2011 the republicans regained control of the house of representatives as the democratic party lost a total of 63 seats and after a lengthy debate over federal spending and whether or not to raise the nations debt limit obama signed the budget control act of 2011 and the american taxpayer relief act of 2012obama was reelected president in november 2012 defeating republican nominee mitt romney and was sworn in for a second term on january 20 2013 during his second term obama has promoted domestic policies related to gun control in response to the sandy hook elementary school shooting and has called for full equality for lgbt americans while his administration has filed briefs which urged the supreme court to strike down the defense of marriage act of 1996 and californias proposition 8 as unconstitutional in foreign policy obama ordered us military involvement in iraq in response to gains made by the islamic state in iraq after the 2011 withdrawal from iraq continued the process of ending us combat operations in afghanistan and has sought to normalize us relations with cuba</td>\n",
       "      <td>0.000000</td>\n",
       "    </tr>\n",
       "    <tr>\n",
       "      <th>24478</th>\n",
       "      <td>&lt;http://dbpedia.org/resource/Joe_Biden&gt;</td>\n",
       "      <td>Joe Biden</td>\n",
       "      <td>joseph robinette joe biden jr dosf rbnt badn born november 20 1942 is the 47th and current vice president of the united states jointly elected with president barack obama he is a member of the democratic party and was a united states senator from delaware from january 3 1973 until his resignation on january 15 2009 following his election to the vice presidency in 2012 biden was elected to a second term alongside obamabiden was born in scranton pennsylvania and lived there for ten years before moving to delaware he became an attorney in 1969 and was elected to the new castle county council in 1970 biden was first elected to the senate in 1972 and became the sixthyoungest senator in us history he was reelected to the senate six times and was the fourth most senior senator at the time of his resignation biden was a longtime member and former chairman of the foreign relations committee his strong advocacy helped bring about us military assistance and intervention during the bosnian war he opposed the gulf war in 1991 he voted in favor of the iraq war resolution in 2002 but later proposed resolutions to alter us strategy there he has also served as chairman of the senate judiciary committee dealing with issues related to drug policy crime prevention and civil liberties and led creation of the violent crime control and law enforcement act and violence against women act he chaired the judiciary committee during the contentious us supreme court nominations of robert bork and clarence thomasbiden unsuccessfully sought the democratic presidential nomination in 1988 and 2008 both times dropping out early in the race barack obama selected biden to be the democratic party nominee for vice president in the 2008 us presidential election biden is the first roman catholic and the first delawarean to become vice president of the united states as vice president biden has been heavily involved in obamas decisionmaking process and held the oversight role for infrastructure spending from the obama stimulus package aimed at counteracting the late2000s recession his ability to negotiate with congressional republicans played a key role in bringing about the bipartisan deals that resulted in the tax relief unemployment insurance reauthorization and job creation act of 2010 that resolved a taxation deadlock the budget control act of 2011 that resolved that years debt ceiling crisis and the american taxpayer relief act of 2012 that addressed the impending fiscal cliff obama and biden were reelected in 2012</td>\n",
       "      <td>31.336879</td>\n",
       "    </tr>\n",
       "    <tr>\n",
       "      <th>28447</th>\n",
       "      <td>&lt;http://dbpedia.org/resource/George_W._Bush&gt;</td>\n",
       "      <td>George W. Bush</td>\n",
       "      <td>george walker bush born july 6 1946 is an american politician and businessman who served as the 43rd president of the united states from 2001 to 2009 and the 46th governor of texas from 1995 to 2000 the eldest son of barbara and george h w bush he was born in new haven connecticut after graduating from yale university in 1968 and harvard business school in 1975 bush worked in oil businesses he married laura welch in 1977 and ran unsuccessfully for the house of representatives shortly thereafter he later coowned the texas rangers baseball team before defeating ann richards in the 1994 texas gubernatorial election bush was elected president in 2000 after a close and controversial election becoming the fourth president to be elected while receiving fewer popular votes nationwide than his opponent bush is the second president to have been the son of a former president the first having been john quincy adams he is also the brother of jeb bush former governor of floridaeight months into bushs first term as president the september 11 2001 terrorist attacks occurred in response bush launched the war on terror an international military campaign which included the war in afghanistan launched in 2001 and the war in iraq launched in 2003in addition to national security issues bush also promoted policies on the economy health care education social security reform and amending the constitution to prohibit samesex marriage he signed into law broad tax cuts the patriot act the no child left behind act the partialbirth abortion ban act medicare prescription drug benefits for seniors and funding for the aids relief program known as pepfar his tenure saw national debates on immigration social security electronic surveillance and torturebush successfully ran for reelection against democratic senator john kerry in 2004 in another relatively close election after his reelection bush received increasingly heated criticism from across the political spectrum for his handling of the iraq war hurricane katrina and numerous other challenges amid this criticism the democratic party regained control of congress in the 2006 elections in december 2007 the united states entered its longest postworld war ii recession often referred to as the great recession prompting the bush administration to enact multiple economic programs intended to preserve the countrys financial system nationally bush was both one of the most popular and unpopular presidents in history having received the highest recorded presidential approval ratings in the wake of the september 11 attacks as well as one of the lowest approval ratings during the 2008 financial crisis he was met with public protests even occurring during visits to the united kingdombush left office in 2009 since then he has returned to texas and purchased a home in a suburban area of dallas he is currently a public speaker has written a memoir titled decision points and his presidential library was opened in 2013 his presidency has been ranked among the worst in recent surveys of presidential scholars although bush has been viewed more favorably by the public since leaving office</td>\n",
       "      <td>33.645208</td>\n",
       "    </tr>\n",
       "    <tr>\n",
       "      <th>48202</th>\n",
       "      <td>&lt;http://dbpedia.org/resource/Tony_Vaccaro&gt;</td>\n",
       "      <td>Tony Vaccaro</td>\n",
       "      <td>michelantonio celestino onofrio vaccaro born december 20 1922 better known as tony vaccaro or michael a vaccaro is an american photographer who is best known for his photos taken in europe during 1944 and 1945 and in germany immediately after world war ii after the war he became a renowned fashion and lifestyle photographer for us magazinesborn in greensburg pennsylvania as the second child of three and the only boy of his parents who were italian immigrants he was baptized michelantonio celestino onofrio vaccaro his father giuseppe antonio vaccaro b october 14 1874 was from bonefro in the region of molise in italy in 1926 the family moved back to bonefro where tony spent his youthwith the outbreak of world war ii vaccaro moved back to the united states in order to escape the fascist regime and military service in italy in the us the seventeenyears old vaccaro finished his education the high school in new rochelle new york in 1943 he was drafted into the us army and sent to europe in 1944vaccaro fought in 1944 and 1945 as a private in the 83rd infantry division of the us army in normandy and then in luxembourg and germany his task as a scout left him with enough free time during the day to take photographs by the end of the war in europe vaccaro had become an official photographer for the divisions newspaper in september 1945 he was discharged from the army vaccaro stayed in germany where he obtained a job first as a photographer for audio visual aids ava stationed at frankfurt and then with weekend the sunday supplement of the us army newspaper stars and stripes until 1949 vaccaro photographed throughout germany and europe documenting postwar lifeafter his return to the us in 1949 he worked for flair and look before joining the magazine life photographs from his extensive despite some 4000 pictures having been lost in an accident in 1948 wartime archive were published in 2001 in his book entering germany photographs 19441949 and 2002 in the book shots of war tony vaccaro in 1994 he was awarded the french lgion dhonneur at the celebrations of the fiftyyear anniversary of the normandy landingsin 2002 german public television ard showed the film schnappschsse vom krieg shots of war in 2004 vaccaro received the german bundesverdienstkreuz erster klasse and in the parlement de la bretagne his exhibition shots of war was shown for the commemoration of the 60th anniversary of the liberation of francethis exhibition was also shown at the scuderie del quirinale in rome in 2009 and at the memorial in caen in 2014a museum named after tony vaccaro was inaugurated in bonefro cb august 24 2014</td>\n",
       "      <td>33.734256</td>\n",
       "    </tr>\n",
       "    <tr>\n",
       "      <th>14754</th>\n",
       "      <td>&lt;http://dbpedia.org/resource/Mitt_Romney&gt;</td>\n",
       "      <td>Mitt Romney</td>\n",
       "      <td>willard mitt romney born march 12 1947 is an american politician and businessman who was the republican partys nominee for president of the united states in the 2012 election before his presidential bid he served as the 70th governor of massachusetts from 2003 to 2007raised in bloomfield hills michigan by his parents george and lenore romney mitt romney spent two and a half years in france as a mormon missionary starting in 1966 in 1969 he married ann davies with whom he has had five sons by 1971 romney had participated in the political campaigns of both of his parents in that year he earned a bachelor of arts at brigham young and in 1975 a joint juris doctor and master of business administration at harvard romney then entered the management consulting industry and in 1977 secured a position at bain company later serving as its chief executive officer he helped lead the company out of financial crisis in 1984 he cofounded and led the spinoff company bain capital a highly profitable private equity investment firm that became one of the largest of its kind in the nation active in the church of jesus christ of latterday saints romney served during his business career as the bishop of his ward head of his local congregation and then stake president in his home area near boston after stepping down from bain capital and his local leadership role in the church he ran as the republican candidate in the 1994 massachusetts election for us senate upon losing to longtime incumbent ted kennedy he resumed his position at bain capital years later a successful stint as president and ceo of the salt lake organizing committee for the 2002 winter olympics led to a relaunch of his political careerelected governor of massachusetts in 2002 romney helped develop and enact into law the massachusetts health care reform legislation the first of its kind in the nation which provided nearuniversal health insurance access through statelevel subsidies and individual mandates to purchase insurance he also presided over the elimination of a projected 1215 billion deficit through a combination of spending cuts increased fees and the closure of corporate tax loopholes romney did not seek reelection in 2006 instead focusing on his campaign for the republican nomination in the 2008 us presidential election he won several primaries and caucuses but lost to the eventual nominee senator john mccain his considerable net worth estimated in 2012 at 190250 million helped finance his political campaigns prior to 2012romney won the 2012 republican presidential nomination becoming the first mormon to be a major party presidential nominee romney was defeated by incumbent democratic president barack obama in the november 2012 general election losing by 332206 electoral college votes the popular vote margin was 5147 percent in obamas favor following the election he initially kept a low profile but later became more visible politically after actively considering the possibility in january 2015 he ruled out running for the presidency again in the 2016 presidential election</td>\n",
       "      <td>34.351128</td>\n",
       "    </tr>\n",
       "    <tr>\n",
       "      <th>31423</th>\n",
       "      <td>&lt;http://dbpedia.org/resource/Walter_Mondale&gt;</td>\n",
       "      <td>Walter Mondale</td>\n",
       "      <td>walter frederick fritz mondale born january 5 1928 is an american democratic party politician who served as the 42nd vice president of the united states 19771981 under president jimmy carter and as a united states senator from minnesota 19641976 he was the democratic partys presidential candidate in the united states presidential election of 1984 at more than 34 years he has had the longest retirement of any vice presidentmondale was born in ceylon minnesota and graduated from the university of minnesota in 1951 he then served in the us army during the korean war before earning a law degree in 1956 he married joan adams in 1955 working as a lawyer in minneapolis mondale was appointed to the position of attorney general in 1960 by governor orville freeman and was elected to a full term as attorney general in 1962 with 60 of votes cast he was appointed to the u s senate by governor karl f rolvaag upon the resignation of senator hubert h humphrey consequent to humphreys election as vice president mondale was subsequently elected to a full senate term in 1966 and again in 1972 resigning that post in 1976 as he prepared to succeed to the vice presidency in 1977 while in the senate he supported consumer protection fair housing tax reform and the desegregation of schools importantly he served as a member of the select committee to study governmental operations with respect to intelligence activities church committeein 1976 carter the democratic presidential nominee chose mondale as his vice presidential running mate in the forthcoming election the cartermondale ticket defeated incumbent president gerald ford and his vice presidential running mate bob dole carter and mondales time in office was marred by a worsening economy and although both were renominated by the democratic party they lost the 1980 election to republicans ronald reagan and george hw bushin 1984 mondale won the democratic presidential nomination and campaigned for a nuclear freeze the equal rights amendment an increase in taxes and a reduction of us public debt mondale was defeated by president reagan in one of the biggest landslides in us history gaining electoral votes from only his home state of minnesota and the district of columbiaafter the election mondale joined the minnesotabased law firm of dorsey whitney and the national democratic institute for international affairs 198693 and was credited with successes in poland and hungary president bill clinton appointed mondale united states ambassador to japan in 1993 he retired in 1996 in 2002 he ran for his old senate seat however he was defeated mondale then returned to working at dorsey whitney and remains active in the democratic party</td>\n",
       "      <td>34.423829</td>\n",
       "    </tr>\n",
       "    <tr>\n",
       "      <th>36364</th>\n",
       "      <td>&lt;http://dbpedia.org/resource/Don_Bonker&gt;</td>\n",
       "      <td>Don Bonker</td>\n",
       "      <td>don leroy bonker born march 7 1937 in denver colorado is an american former congressman for the state of washington and a democrat he served as a member of the united states house of representatives from 1975 to 1989 representing washingtons third congressional districthe is a resident of bainbridge island washingtonbonker attended public schools in westminster colorado he received his associate of arts degree from clark college in vancouver washington in 1962 his bachelor of arts from lewis clark college in portland oregon in 1964 and completed graduate work at american university in washington dc bonker served in the united states coast guard as first class yeoman from 1955 to 1959he served as aide to united states senator maurine brown neuberger from 1964 to 1965 clark county auditor in vancouver from 1966 to 1974 and as a delegate to washington state democratic conventions from 1968 to 1970 bonker ran for washington secretary of state in 1972 but was defeated by incumbent republican lud kramer bonker was elected as a moderate democrat to the 94th and to the six succeeding congresses january 3 1975january 3 1989 he did not run for reelection in 1988 so he could run for nomination to the united states senate where he narrowly lost in the primary to democrat mike lowry who was defeated in the general election by republican slade gorton in 1992 bonker again ran for a us senate seat but was defeated in the primary by the eventual winner democratic senator patty murray in 2000 he ran for secretary of state again winning the party nomination in the primary but losing in the general to sam reedduring his time in the house bonker was a senior member of the house foreign affairs committee and chairman of the subcommittee on international economic policy and trade he also served on the presidents export council and headed former house speaker tip oneills trade task force which led to passage of the 1988 omnibus trade act during his tenure in congress bonker authored and was a principal sponsor of significant trade legislation such as the export trading company act and the export administration act he helped establish the grays harbor national wildlife refuge and the mount st helens national volcanic monument added protection island to the national wildlife refuge system preserved the point of arches in the olympic national park added 250000 acres 1000 km to the 1984 washington wilderness act and banned the export of western redcedar bonker is now the president and ceo of the international management and development institute on the board of the foundation for usrussia business cooperation and is executive vice president of apco worldwide 1 in 2009 bonker was the target of significant criticism by democrats for endorsing republican susan hutchison for king county executive against democratic favorite and eventual winner dow constantinehe is the author of americas trade crisis published by houghton mifflin and is a writer and speaker on us trade policy his monthly column on trade policy appears in a number of newspapers around the country</td>\n",
       "      <td>34.597688</td>\n",
       "    </tr>\n",
       "    <tr>\n",
       "      <th>13229</th>\n",
       "      <td>&lt;http://dbpedia.org/resource/Francisco_Barrio&gt;</td>\n",
       "      <td>Francisco Barrio</td>\n",
       "      <td>francisco javier barrio terrazas born november 25 1950 is a mexican politician affiliated to the national action party pan he is a former governor of chihuahua and former secretary in the cabinet of president vicente foxbarrio was born in satevo chihuahua and received a bachelors degree in accounting and an mba from the autonomous university of chihuahua he did some consulting and worked in the private sector before joining the local chapter of the national action party in 1983 and becoming its first member to ever win the mayorship of jurez chihuahua he ran for governor in 1986 and lost against the pri candidate fernando baeza melndez in one of the most controversial elections in the states recent history six years later he made another attempt and won ending more than 60 years of uninterrupted control of chihuahuas governorship by members of the institutional revolutionary party as a governor he delivered mixed results and consequently the pri regained control of the state at the end of his term while governor of chihuahua hundreds of women were raped and murdered in juarez barrio refused for years to mount an inquiry and suggested the attacks were not surprising because the victims walked in dark places at night and wore provocative clothingin the course of his political career barrioterrazas has served as mayor of ciudad jurez and governor of the state of chihuahua a post he held from 1992 to 1998 in the 80s he held leadership roles in his native state during the politicaldemocratic transition process and later served as one of the first governors to rise from the ranks of the opposition partyduring his tenure as governor the state of chihuahua placed first in the country in anticorruption and good governance according to the annual review conducted by the prestigious monterrey technological institute of higher studies itesmbarrio headed the federal comptrollers secretariat 20002003 and in 2003 was elected to the chamber of deputies where he became the leader of the national action partys parliamentary groupon february 24 2005 he expressed interest in becoming the pan presidential candidate and campaigned for a few months before quitting on july 7 arguing partisan favoritism towards the former minister of the interior santiago creelin january 2009 he was named as the mexican ambassador to canada this was met with controversy and protests from rights organizations in canada and mexico due to his actions during the juarez murders</td>\n",
       "      <td>34.669872</td>\n",
       "    </tr>\n",
       "    <tr>\n",
       "      <th>35357</th>\n",
       "      <td>&lt;http://dbpedia.org/resource/Lawrence_Summers&gt;</td>\n",
       "      <td>Lawrence Summers</td>\n",
       "      <td>lawrence henry larry summers born november 30 1954 is an american economist who is president emeritus and charles w eliot university professor of harvard universityborn in new haven connecticut summers became a professor of economics at harvard university in 1983 he left harvard in 1991 working as the chief economist at the world bank from 1991 to 1993 in 1993 summers was appointed undersecretary for international affairs of the united states department of the treasury under the clinton administration in 1995 he was promoted to deputy secretary of the treasury under his longtime political mentor robert rubin in 1999 he succeeded rubin as secretary of the treasury while working for the clinton administration summers played a leading role in the american response to the 1994 economic crisis in mexico the 1997 asian financial crisis and the russian financial crisis he was also influential in the american advised privatization of the economies of the postsoviet states and in the deregulation of the us financial system including the abolishment of the glasssteagall actfollowing the end of clintons term summers served as the 27th president of harvard university from 2001 to 2006 summers resigned as harvards president in the wake of a noconfidence vote by harvard faculty that resulted in large part from summerss conflict with cornel west financial conflict of interest questions regarding his relationship with andrei shleifer and a 2005 speech in which he suggested that the underrepresentation of women in science and engineering could be due to a different availability of aptitude at the high end and less to patterns of discrimination and socialization after his departure from harvard summers made millions as a managing partner at the hedge fund d e shaw co and by giving paid speeches to major financial institutions including goldman sachs jpmorgan chase citigroup merrill lynch and lehman brothers summers rejoined public service during the obama administration serving as the director of the white house united states national economic council for president barack obama from january 2009 until november 2010 where he emerged as a key economic decisionmaker in the obama administrations response to the great recession after his departure from the nec in december 2010 summers has worked in the private sector and as a columnist in major newspapers in mid2013 his name was widely floated as the potential successor to ben bernanke as the chairman of the federal reserve though after pushback from the left obama eventually nominated federal reserve vicechairwoman janet yellen for the position</td>\n",
       "      <td>35.383612</td>\n",
       "    </tr>\n",
       "    <tr>\n",
       "      <th>25258</th>\n",
       "      <td>&lt;http://dbpedia.org/resource/Marc_Ravalomanana&gt;</td>\n",
       "      <td>Marc Ravalomanana</td>\n",
       "      <td>marc ravalomanana malagasy ravalumanan born 12 december 1949 is a malagasy politician who was the president of madagascar from 2002 to 2009 born into a farming merina family in imerinkasinina near the capital city of antananarivo ravalomanana first rose to prominence as the founder and ceo of the vast dairy conglomerate tiko later launching successful wholesaler magro and several additional companieshe entered politics upon founding the tiako iarivo political party in 1999 and successfully ran for the position of mayor of antananarivo holding the position from 1999 to 2001 as mayor he improved sanitary and security conditions in the city in august 2001 he announced his candidacy as an independent in the december 2001 presidential election he then took office as president in 2002 amidst a dispute over election results in which he successfully pressed his claim to have won a majority in the first round under the leadership of jacques sylla ravalomananas prime minister from 2002 to 2007 the political party tiako i madagasikara was founded in 2002 to support ravalomananas presidency and came to dominate legislative and local elections he was reelected in december 2006 again with a majority in the first roundduring ravalomananas presidency madagascar made significant advances toward development targets and experienced an average of seven per cent growth per year his administration oversaw the construction of thousands of new schools and health clinics road rehabilitation aided in improving rural farmers access to markets the establishment of the independent anticorruption agency bianco and the adoption of diverse supporting policies resulted in a decline in government corruption the acreage of natural areas under protection expanded in fulfillment of ravalomananas madagascar naturally development program the 2007 release of ravalomananas comprehensive development strategy the madagascar action plan set targets and goals for national development over his second term in the areas of governance infrastructure agriculture health economy environment and national solidarityopposition members criticized ravalomanana in the later period of his presidency accusing him of increasing authoritarianism and the mixing of public and private interests in addition the benefits of the countrys growth were not evenly spread leading to increased wealth inequality inflation and a decline in purchasing power for the lower and middle classes in 2008 a controversial land lease agreement with korean agricultural firm daewoo the purchase of a costly presidential jet and the closure of media channels owned by opposition leader and mayor of antananarivo andry rajoelina strengthened popular disapproval of his policies rajoelina rallied popular support for the opposition leading to a popular uprising that began in january 2009 and ended two months later with ravalomananas resignation under pressure and rajoelina taking control with military support in a power transfer viewed by the international community as a coup dtat from 2009 to 2013 ravalomanana was active in negotiations between rajoelina and former heads of state albert zafy and didier ratsiraka to organize national elections in december 2012 he declared he would not present himself as a candidate then a precondition to the elections being viewed as legitimate by the international community he is currently imprisoned having been sentenced to lifelong hard labour for abuses of power by the rajoelina administration</td>\n",
       "      <td>35.440090</td>\n",
       "    </tr>\n",
       "  </tbody>\n",
       "</table>\n",
       "</div>"
      ]
     },
     "execution_count": 300,
     "metadata": {},
     "output_type": "execute_result"
    }
   ],
   "execution_count": 300
  },
  {
   "cell_type": "markdown",
   "metadata": {},
   "source": [
    "**b)** Measure the pairwise distance between the Wikipedia pages of Barack Obama, George W. Bush, and Joe Biden. Which of the three pairs has the smallest distance?"
   ]
  },
  {
   "cell_type": "code",
   "metadata": {
    "collapsed": false,
    "ExecuteTime": {
     "end_time": "2024-12-16T20:40:24.746100Z",
     "start_time": "2024-12-16T20:40:23.450395Z"
    }
   },
   "source": [
    "dist = pairwise_distances(WCmatrix, WCmatrix[wiki[wiki['name'] == 'George W. Bush'].index[0]])\n",
    "bush_obama = dist[wiki[wiki['name'] == 'Barack Obama'].index[0]]\n",
    "bush_biden = dist[wiki[wiki['name'] == 'Joe Biden'].index[0]]\n",
    "dist = pairwise_distances(WCmatrix, WCmatrix[wiki[wiki['name'] == 'Joe Biden'].index[0]])\n",
    "biden_obama = dist[wiki[wiki['name'] == 'Barack Obama'].index[0]]\n",
    "print(bush_obama, bush_biden, biden_obama)"
   ],
   "outputs": [
    {
     "name": "stdout",
     "output_type": "stream",
     "text": [
      "[33.64520768] [30.91924967] [31.33687923]\n"
     ]
    }
   ],
   "execution_count": 301
  },
  {
   "cell_type": "markdown",
   "metadata": {},
   "source": [
    "All of the 10 people from **a)** are politicians, but about half of them have rather tenuous connections with Obama, other than the fact that they are politicians, e.g.,\n",
    "\n",
    "* Francisco Barrio is a Mexican politician, and a former governor of Chihuahua.\n",
    "* Walter Mondale and Don Bonker are Democrats who made their career in late 1970s.\n",
    "\n",
    "Nearest neighbors with raw word counts got some things right, showing all politicians in the query result, but missed finer and important details."
   ]
  },
  {
   "cell_type": "markdown",
   "metadata": {},
   "source": [
    "**c)** Let's find out why Francisco Barrio was considered a close neighbor of Obama.\n",
    "To do this, look at the most frequently used words in each of Barack Obama and Francisco Barrio's pages."
   ]
  },
  {
   "cell_type": "code",
   "metadata": {
    "collapsed": true,
    "ExecuteTime": {
     "end_time": "2024-12-16T20:40:24.802288Z",
     "start_time": "2024-12-16T20:40:24.796142Z"
    }
   },
   "source": [
    "from collections import Counter\n",
    "def top_words(name, column='count'):\n",
    "    \"\"\"\n",
    "    Get a table of the most frequent words in the given person's wikipedia page.\n",
    "    \"\"\"\n",
    "    # Your code goes here\n",
    "    article = wiki[wiki['name'] == name]['text'].values[0]\n",
    "    article = article.lower().split()\n",
    "    count = Counter(article)\n",
    "    df = pd.DataFrame(count.values(), index = count.keys(), columns=[column])\n",
    "    \n",
    "    return df.sort_values(by=column,ascending=False)"
   ],
   "outputs": [],
   "execution_count": 302
  },
  {
   "cell_type": "code",
   "metadata": {
    "collapsed": false,
    "jupyter": {
     "outputs_hidden": false
    },
    "ExecuteTime": {
     "end_time": "2024-12-16T20:40:25.009777Z",
     "start_time": "2024-12-16T20:40:24.993657Z"
    }
   },
   "source": [
    "obama_words = top_words('Barack Obama', column=\"count_Obama\")\n",
    "obama_words"
   ],
   "outputs": [
    {
     "data": {
      "text/plain": [
       "                count_Obama\n",
       "the                      40\n",
       "in                       30\n",
       "and                      21\n",
       "of                       18\n",
       "to                       14\n",
       "...                     ...\n",
       "laureateduring            1\n",
       "two                       1\n",
       "years                     1\n",
       "into                      1\n",
       "cuba                      1\n",
       "\n",
       "[273 rows x 1 columns]"
      ],
      "text/html": [
       "<div>\n",
       "<style scoped>\n",
       "    .dataframe tbody tr th:only-of-type {\n",
       "        vertical-align: middle;\n",
       "    }\n",
       "\n",
       "    .dataframe tbody tr th {\n",
       "        vertical-align: top;\n",
       "    }\n",
       "\n",
       "    .dataframe thead th {\n",
       "        text-align: right;\n",
       "    }\n",
       "</style>\n",
       "<table border=\"1\" class=\"dataframe\">\n",
       "  <thead>\n",
       "    <tr style=\"text-align: right;\">\n",
       "      <th></th>\n",
       "      <th>count_Obama</th>\n",
       "    </tr>\n",
       "  </thead>\n",
       "  <tbody>\n",
       "    <tr>\n",
       "      <th>the</th>\n",
       "      <td>40</td>\n",
       "    </tr>\n",
       "    <tr>\n",
       "      <th>in</th>\n",
       "      <td>30</td>\n",
       "    </tr>\n",
       "    <tr>\n",
       "      <th>and</th>\n",
       "      <td>21</td>\n",
       "    </tr>\n",
       "    <tr>\n",
       "      <th>of</th>\n",
       "      <td>18</td>\n",
       "    </tr>\n",
       "    <tr>\n",
       "      <th>to</th>\n",
       "      <td>14</td>\n",
       "    </tr>\n",
       "    <tr>\n",
       "      <th>...</th>\n",
       "      <td>...</td>\n",
       "    </tr>\n",
       "    <tr>\n",
       "      <th>laureateduring</th>\n",
       "      <td>1</td>\n",
       "    </tr>\n",
       "    <tr>\n",
       "      <th>two</th>\n",
       "      <td>1</td>\n",
       "    </tr>\n",
       "    <tr>\n",
       "      <th>years</th>\n",
       "      <td>1</td>\n",
       "    </tr>\n",
       "    <tr>\n",
       "      <th>into</th>\n",
       "      <td>1</td>\n",
       "    </tr>\n",
       "    <tr>\n",
       "      <th>cuba</th>\n",
       "      <td>1</td>\n",
       "    </tr>\n",
       "  </tbody>\n",
       "</table>\n",
       "<p>273 rows × 1 columns</p>\n",
       "</div>"
      ]
     },
     "execution_count": 303,
     "metadata": {},
     "output_type": "execute_result"
    }
   ],
   "execution_count": 303
  },
  {
   "cell_type": "code",
   "metadata": {
    "collapsed": false,
    "ExecuteTime": {
     "end_time": "2024-12-16T20:40:25.100009Z",
     "start_time": "2024-12-16T20:40:25.084963Z"
    }
   },
   "source": [
    "barrio_words = top_words('Francisco Barrio', column=\"count_Barrio\")\n",
    "barrio_words"
   ],
   "outputs": [
    {
     "data": {
      "text/plain": [
       "              count_Barrio\n",
       "the                     36\n",
       "of                      24\n",
       "and                     18\n",
       "in                      17\n",
       "he                      10\n",
       "...                    ...\n",
       "delivered                1\n",
       "mixed                    1\n",
       "results                  1\n",
       "consequently             1\n",
       "murders                  1\n",
       "\n",
       "[225 rows x 1 columns]"
      ],
      "text/html": [
       "<div>\n",
       "<style scoped>\n",
       "    .dataframe tbody tr th:only-of-type {\n",
       "        vertical-align: middle;\n",
       "    }\n",
       "\n",
       "    .dataframe tbody tr th {\n",
       "        vertical-align: top;\n",
       "    }\n",
       "\n",
       "    .dataframe thead th {\n",
       "        text-align: right;\n",
       "    }\n",
       "</style>\n",
       "<table border=\"1\" class=\"dataframe\">\n",
       "  <thead>\n",
       "    <tr style=\"text-align: right;\">\n",
       "      <th></th>\n",
       "      <th>count_Barrio</th>\n",
       "    </tr>\n",
       "  </thead>\n",
       "  <tbody>\n",
       "    <tr>\n",
       "      <th>the</th>\n",
       "      <td>36</td>\n",
       "    </tr>\n",
       "    <tr>\n",
       "      <th>of</th>\n",
       "      <td>24</td>\n",
       "    </tr>\n",
       "    <tr>\n",
       "      <th>and</th>\n",
       "      <td>18</td>\n",
       "    </tr>\n",
       "    <tr>\n",
       "      <th>in</th>\n",
       "      <td>17</td>\n",
       "    </tr>\n",
       "    <tr>\n",
       "      <th>he</th>\n",
       "      <td>10</td>\n",
       "    </tr>\n",
       "    <tr>\n",
       "      <th>...</th>\n",
       "      <td>...</td>\n",
       "    </tr>\n",
       "    <tr>\n",
       "      <th>delivered</th>\n",
       "      <td>1</td>\n",
       "    </tr>\n",
       "    <tr>\n",
       "      <th>mixed</th>\n",
       "      <td>1</td>\n",
       "    </tr>\n",
       "    <tr>\n",
       "      <th>results</th>\n",
       "      <td>1</td>\n",
       "    </tr>\n",
       "    <tr>\n",
       "      <th>consequently</th>\n",
       "      <td>1</td>\n",
       "    </tr>\n",
       "    <tr>\n",
       "      <th>murders</th>\n",
       "      <td>1</td>\n",
       "    </tr>\n",
       "  </tbody>\n",
       "</table>\n",
       "<p>225 rows × 1 columns</p>\n",
       "</div>"
      ]
     },
     "execution_count": 304,
     "metadata": {},
     "output_type": "execute_result"
    }
   ],
   "execution_count": 304
  },
  {
   "cell_type": "markdown",
   "metadata": {},
   "source": [
    "**d)** Extract the list of most frequent **common** words that appear in both Obama's and Barrio's documents and display the five words that appear most often in Barrio's article.\n",
    "\n",
    "Use a dataframe operation known as **join**. The **join** operation is very useful when it comes to playing around with data: it lets you combine the content of two tables using a shared column (in this case, the index column of words). See [the documentation](https://pandas.pydata.org/pandas-docs/stable/reference/api/pandas.DataFrame.join.html) for more details."
   ]
  },
  {
   "cell_type": "code",
   "metadata": {
    "collapsed": false,
    "jupyter": {
     "outputs_hidden": false
    },
    "ExecuteTime": {
     "end_time": "2024-12-16T20:40:25.282551Z",
     "start_time": "2024-12-16T20:40:25.272296Z"
    }
   },
   "source": [
    "# Modify the code to avoid error.\n",
    "\n",
    "common_words = obama_words.join(barrio_words, how='inner')\n",
    "common_words.sort_values(by='count_Barrio', ascending=False).head(15)"
   ],
   "outputs": [
    {
     "data": {
      "text/plain": [
       "          count_Obama  count_Barrio\n",
       "the                40            36\n",
       "of                 18            24\n",
       "and                21            18\n",
       "in                 30            17\n",
       "he                  7            10\n",
       "to                 14             9\n",
       "a                   7             6\n",
       "his                11             5\n",
       "as                  6             5\n",
       "was                 5             4\n",
       "state               1             4\n",
       "from                3             4\n",
       "party               3             3\n",
       "national            2             3\n",
       "first               3             3"
      ],
      "text/html": [
       "<div>\n",
       "<style scoped>\n",
       "    .dataframe tbody tr th:only-of-type {\n",
       "        vertical-align: middle;\n",
       "    }\n",
       "\n",
       "    .dataframe tbody tr th {\n",
       "        vertical-align: top;\n",
       "    }\n",
       "\n",
       "    .dataframe thead th {\n",
       "        text-align: right;\n",
       "    }\n",
       "</style>\n",
       "<table border=\"1\" class=\"dataframe\">\n",
       "  <thead>\n",
       "    <tr style=\"text-align: right;\">\n",
       "      <th></th>\n",
       "      <th>count_Obama</th>\n",
       "      <th>count_Barrio</th>\n",
       "    </tr>\n",
       "  </thead>\n",
       "  <tbody>\n",
       "    <tr>\n",
       "      <th>the</th>\n",
       "      <td>40</td>\n",
       "      <td>36</td>\n",
       "    </tr>\n",
       "    <tr>\n",
       "      <th>of</th>\n",
       "      <td>18</td>\n",
       "      <td>24</td>\n",
       "    </tr>\n",
       "    <tr>\n",
       "      <th>and</th>\n",
       "      <td>21</td>\n",
       "      <td>18</td>\n",
       "    </tr>\n",
       "    <tr>\n",
       "      <th>in</th>\n",
       "      <td>30</td>\n",
       "      <td>17</td>\n",
       "    </tr>\n",
       "    <tr>\n",
       "      <th>he</th>\n",
       "      <td>7</td>\n",
       "      <td>10</td>\n",
       "    </tr>\n",
       "    <tr>\n",
       "      <th>to</th>\n",
       "      <td>14</td>\n",
       "      <td>9</td>\n",
       "    </tr>\n",
       "    <tr>\n",
       "      <th>a</th>\n",
       "      <td>7</td>\n",
       "      <td>6</td>\n",
       "    </tr>\n",
       "    <tr>\n",
       "      <th>his</th>\n",
       "      <td>11</td>\n",
       "      <td>5</td>\n",
       "    </tr>\n",
       "    <tr>\n",
       "      <th>as</th>\n",
       "      <td>6</td>\n",
       "      <td>5</td>\n",
       "    </tr>\n",
       "    <tr>\n",
       "      <th>was</th>\n",
       "      <td>5</td>\n",
       "      <td>4</td>\n",
       "    </tr>\n",
       "    <tr>\n",
       "      <th>state</th>\n",
       "      <td>1</td>\n",
       "      <td>4</td>\n",
       "    </tr>\n",
       "    <tr>\n",
       "      <th>from</th>\n",
       "      <td>3</td>\n",
       "      <td>4</td>\n",
       "    </tr>\n",
       "    <tr>\n",
       "      <th>party</th>\n",
       "      <td>3</td>\n",
       "      <td>3</td>\n",
       "    </tr>\n",
       "    <tr>\n",
       "      <th>national</th>\n",
       "      <td>2</td>\n",
       "      <td>3</td>\n",
       "    </tr>\n",
       "    <tr>\n",
       "      <th>first</th>\n",
       "      <td>3</td>\n",
       "      <td>3</td>\n",
       "    </tr>\n",
       "  </tbody>\n",
       "</table>\n",
       "</div>"
      ]
     },
     "execution_count": 305,
     "metadata": {},
     "output_type": "execute_result"
    }
   ],
   "execution_count": 305
  },
  {
   "cell_type": "markdown",
   "metadata": {},
   "source": [
    "Collect all words that appear both in Barack Obama and George W. Bush pages.  Out of those words, find the 10 words that show up most often in Obama's page. "
   ]
  },
  {
   "metadata": {
    "collapsed": false,
    "ExecuteTime": {
     "end_time": "2024-12-16T20:40:25.530520Z",
     "start_time": "2024-12-16T20:40:25.516254Z"
    }
   },
   "cell_type": "code",
   "source": [
    "bush_words = top_words('George W. Bush', column=\"count_Bush\")\n",
    "# Modify the code to avoid error.\n",
    "obama_words.join(bush_words,how ='inner', lsuffix='_Obama', rsuffix='_Bush').head(10)"
   ],
   "outputs": [
    {
     "data": {
      "text/plain": [
       "     count_Obama  count_Bush\n",
       "the           40          39\n",
       "in            30          22\n",
       "and           21          14\n",
       "of            18          14\n",
       "to            14          11\n",
       "his           11           6\n",
       "act            8           3\n",
       "he             7           8\n",
       "a              7           6\n",
       "as             6           6"
      ],
      "text/html": [
       "<div>\n",
       "<style scoped>\n",
       "    .dataframe tbody tr th:only-of-type {\n",
       "        vertical-align: middle;\n",
       "    }\n",
       "\n",
       "    .dataframe tbody tr th {\n",
       "        vertical-align: top;\n",
       "    }\n",
       "\n",
       "    .dataframe thead th {\n",
       "        text-align: right;\n",
       "    }\n",
       "</style>\n",
       "<table border=\"1\" class=\"dataframe\">\n",
       "  <thead>\n",
       "    <tr style=\"text-align: right;\">\n",
       "      <th></th>\n",
       "      <th>count_Obama</th>\n",
       "      <th>count_Bush</th>\n",
       "    </tr>\n",
       "  </thead>\n",
       "  <tbody>\n",
       "    <tr>\n",
       "      <th>the</th>\n",
       "      <td>40</td>\n",
       "      <td>39</td>\n",
       "    </tr>\n",
       "    <tr>\n",
       "      <th>in</th>\n",
       "      <td>30</td>\n",
       "      <td>22</td>\n",
       "    </tr>\n",
       "    <tr>\n",
       "      <th>and</th>\n",
       "      <td>21</td>\n",
       "      <td>14</td>\n",
       "    </tr>\n",
       "    <tr>\n",
       "      <th>of</th>\n",
       "      <td>18</td>\n",
       "      <td>14</td>\n",
       "    </tr>\n",
       "    <tr>\n",
       "      <th>to</th>\n",
       "      <td>14</td>\n",
       "      <td>11</td>\n",
       "    </tr>\n",
       "    <tr>\n",
       "      <th>his</th>\n",
       "      <td>11</td>\n",
       "      <td>6</td>\n",
       "    </tr>\n",
       "    <tr>\n",
       "      <th>act</th>\n",
       "      <td>8</td>\n",
       "      <td>3</td>\n",
       "    </tr>\n",
       "    <tr>\n",
       "      <th>he</th>\n",
       "      <td>7</td>\n",
       "      <td>8</td>\n",
       "    </tr>\n",
       "    <tr>\n",
       "      <th>a</th>\n",
       "      <td>7</td>\n",
       "      <td>6</td>\n",
       "    </tr>\n",
       "    <tr>\n",
       "      <th>as</th>\n",
       "      <td>6</td>\n",
       "      <td>6</td>\n",
       "    </tr>\n",
       "  </tbody>\n",
       "</table>\n",
       "</div>"
      ]
     },
     "execution_count": 306,
     "metadata": {},
     "output_type": "execute_result"
    }
   ],
   "execution_count": 306
  },
  {
   "cell_type": "markdown",
   "metadata": {},
   "source": [
    "**Note.** Even though common words are swamping out important subtle differences, commonalities in rarer political words still matter on the margin. This is why politicians are being listed in the query result instead of musicians, for example. In the next subsection, we will introduce a different metric that will place greater emphasis on those rarer words."
   ]
  },
  {
   "cell_type": "markdown",
   "metadata": {},
   "source": "**e)** Among the words that appear in both Barack Obama and Francisco Barrio, take the 15 that appear most frequently in Obama. How many of the articles in the Wikipedia dataset contain all of those 15 words? Which are they?"
  },
  {
   "metadata": {
    "collapsed": false,
    "ExecuteTime": {
     "end_time": "2024-12-16T20:40:25.780371Z",
     "start_time": "2024-12-16T20:40:25.710881Z"
    }
   },
   "cell_type": "code",
   "source": [
    "# It might be helpful to use:\n",
    "word_to_ind={v: i for i, v in enumerate(vectorizer.get_feature_names_out())}\n",
    "\n",
    "# Your code goes here\n",
    "common_words = obama_words.join(barrio_words,how ='inner', lsuffix='_Obama', rsuffix='_Barrio')\n",
    "common_words.sort_values(by='count_Obama')\n",
    "most_common = common_words.index[:15]\n",
    "print(most_common)\n",
    "word_indices = [word_to_ind[word] for word in most_common]\n",
    "print(word_indices)\n",
    "matrix_slice = WCmatrix[:, word_indices].toarray()\n",
    "\n",
    "articles = np.all(matrix_slice, axis=1)"
   ],
   "outputs": [
    {
     "name": "stdout",
     "output_type": "stream",
     "text": [
      "Index(['the', 'in', 'and', 'of', 'to', 'his', 'he', 'a', 'as', 'was', 'for',\n",
      "       'control', 'has', 'president', 'from'],\n",
      "      dtype='object')\n",
      "[9063, 4616, 722, 6378, 9162, 4387, 4284, 372, 903, 9704, 3774, 2346, 4263, 7090, 3874]\n"
     ]
    }
   ],
   "execution_count": 307
  },
  {
   "cell_type": "code",
   "metadata": {
    "collapsed": false,
    "ExecuteTime": {
     "end_time": "2024-12-16T20:40:26.046429Z",
     "start_time": "2024-12-16T20:40:26.039796Z"
    }
   },
   "source": "wiki[articles]['name']",
   "outputs": [
    {
     "data": {
      "text/plain": [
       "1177             Donald Fowler\n",
       "1222           John P. Johnson\n",
       "1413             Chris Redfern\n",
       "1811             polo magnate)\n",
       "2622          Michimasa Fujino\n",
       "                 ...          \n",
       "57962    William Robert Graham\n",
       "58077           Wang Changshun\n",
       "58552          Paul D. Wohlers\n",
       "58744            S. Mark Young\n",
       "58816              Frank Nuovo\n",
       "Name: name, Length: 154, dtype: object"
      ]
     },
     "execution_count": 308,
     "metadata": {},
     "output_type": "execute_result"
    }
   ],
   "execution_count": 308
  },
  {
   "cell_type": "markdown",
   "metadata": {},
   "source": [
    "## Ex. 3: TF-IDF to the rescue"
   ]
  },
  {
   "cell_type": "markdown",
   "metadata": {},
   "source": [
    "Much of the perceived commonalities between Obama and Barrio were due to occurrences of extremely frequent words, such as \"the\", \"and\", and \"his\". So nearest neighbors is recommending plausible results sometimes for the wrong reasons.\n",
    "\n",
    "To retrieve articles that are more relevant, we should focus more on rare words that don't happen in every article. **TF-IDF** (term frequency–inverse document frequency) is a feature representation that penalizes words that are too common."
   ]
  },
  {
   "cell_type": "markdown",
   "metadata": {},
   "source": [
    "**a)** Repeat the search for the 10 nearest neighbors of Barack Obama with Euclidean distance of TF-IDF. This time do not limit to only 10000 most frequent words, but take all of them."
   ]
  },
  {
   "cell_type": "code",
   "metadata": {
    "collapsed": true,
    "ExecuteTime": {
     "end_time": "2024-12-16T20:40:45.443449Z",
     "start_time": "2024-12-16T20:40:26.533282Z"
    }
   },
   "source": [
    "# We could use:\n",
    "    # from sklearn.feature_extraction.text import TfidfVectorizer\n",
    "# but since we already know how to compute CountVectorizer, let's use:\n",
    "from sklearn.feature_extraction.text import TfidfTransformer\n",
    "\n",
    "vectorizer = CountVectorizer(\n",
    "    token_pattern=r\"(?u)\\b\\w+\\b\",\n",
    "    stop_words = None,\n",
    "    min_df=0.0\n",
    "                            )\n",
    "WCmatrix=vectorizer.fit_transform(wiki['text'])\n",
    "\n",
    "tfidf=TfidfTransformer(smooth_idf=False, norm=None)# Your code goes here; use smooth_idf=False, norm=None\n",
    "TFIDFmatrix = tfidf.fit_transform(WCmatrix)"
   ],
   "outputs": [],
   "execution_count": 309
  },
  {
   "cell_type": "code",
   "metadata": {
    "collapsed": false,
    "ExecuteTime": {
     "end_time": "2024-12-16T20:40:45.627788Z",
     "start_time": "2024-12-16T20:40:45.498496Z"
    }
   },
   "source": [
    "# now recompute the distances as before but for TF-IDF\n",
    "dist = pairwise_distances(\n",
    "    TFIDFmatrix,\n",
    "    TFIDFmatrix[wiki[wiki['name'] == 'Barack Obama'].index[0]]\n",
    "                        )\n",
    "# add the distances as a column in the wiki dataframe\n",
    "wiki['BO-eucl-TF-IDF'] = dist\n",
    "wiki.sort_values(by='BO-eucl-TF-IDF',ascending=True)[0:10][['name','BO-eucl-TF-IDF']]\n"
   ],
   "outputs": [
    {
     "data": {
      "text/plain": [
       "                          name  BO-eucl-TF-IDF\n",
       "35817             Barack Obama        0.000000\n",
       "38376           Samantha Power      139.364493\n",
       "46811            Jeff Sessions      139.757740\n",
       "7914             Phil Schiliro      139.812175\n",
       "38714  Eric Stern (politician)      140.450064\n",
       "6507              Bob Menendez      141.661111\n",
       "44681   Jesse Lee (politician)      142.342440\n",
       "6796               Eric Holder      142.490179\n",
       "38495             Barney Frank      142.581337\n",
       "56008            Nathan Cullen      142.751073"
      ],
      "text/html": [
       "<div>\n",
       "<style scoped>\n",
       "    .dataframe tbody tr th:only-of-type {\n",
       "        vertical-align: middle;\n",
       "    }\n",
       "\n",
       "    .dataframe tbody tr th {\n",
       "        vertical-align: top;\n",
       "    }\n",
       "\n",
       "    .dataframe thead th {\n",
       "        text-align: right;\n",
       "    }\n",
       "</style>\n",
       "<table border=\"1\" class=\"dataframe\">\n",
       "  <thead>\n",
       "    <tr style=\"text-align: right;\">\n",
       "      <th></th>\n",
       "      <th>name</th>\n",
       "      <th>BO-eucl-TF-IDF</th>\n",
       "    </tr>\n",
       "  </thead>\n",
       "  <tbody>\n",
       "    <tr>\n",
       "      <th>35817</th>\n",
       "      <td>Barack Obama</td>\n",
       "      <td>0.000000</td>\n",
       "    </tr>\n",
       "    <tr>\n",
       "      <th>38376</th>\n",
       "      <td>Samantha Power</td>\n",
       "      <td>139.364493</td>\n",
       "    </tr>\n",
       "    <tr>\n",
       "      <th>46811</th>\n",
       "      <td>Jeff Sessions</td>\n",
       "      <td>139.757740</td>\n",
       "    </tr>\n",
       "    <tr>\n",
       "      <th>7914</th>\n",
       "      <td>Phil Schiliro</td>\n",
       "      <td>139.812175</td>\n",
       "    </tr>\n",
       "    <tr>\n",
       "      <th>38714</th>\n",
       "      <td>Eric Stern (politician)</td>\n",
       "      <td>140.450064</td>\n",
       "    </tr>\n",
       "    <tr>\n",
       "      <th>6507</th>\n",
       "      <td>Bob Menendez</td>\n",
       "      <td>141.661111</td>\n",
       "    </tr>\n",
       "    <tr>\n",
       "      <th>44681</th>\n",
       "      <td>Jesse Lee (politician)</td>\n",
       "      <td>142.342440</td>\n",
       "    </tr>\n",
       "    <tr>\n",
       "      <th>6796</th>\n",
       "      <td>Eric Holder</td>\n",
       "      <td>142.490179</td>\n",
       "    </tr>\n",
       "    <tr>\n",
       "      <th>38495</th>\n",
       "      <td>Barney Frank</td>\n",
       "      <td>142.581337</td>\n",
       "    </tr>\n",
       "    <tr>\n",
       "      <th>56008</th>\n",
       "      <td>Nathan Cullen</td>\n",
       "      <td>142.751073</td>\n",
       "    </tr>\n",
       "  </tbody>\n",
       "</table>\n",
       "</div>"
      ]
     },
     "execution_count": 310,
     "metadata": {},
     "output_type": "execute_result"
    }
   ],
   "execution_count": 310
  },
  {
   "cell_type": "markdown",
   "metadata": {},
   "source": [
    "Let's determine whether this list makes sense.\n",
    "* With a notable exception of Nathan Cullen, the other 8 are all American politicians who are contemporaries of Barack Obama.\n",
    "* Phil Schiliro, Jesse Lee, Samantha Power, Eric Stern, Eric Holder worked for Obama.\n",
    "\n",
    "Clearly, the results are more plausible with the use of TF-IDF. Let's take a look at the word vector for Obama and Schilirio's pages. Notice that TF-IDF representation assigns a weight to each word. This weight captures relative importance of that word in the document."
   ]
  },
  {
   "cell_type": "markdown",
   "metadata": {},
   "source": [
    "**b)** Sort the words in Obama's article by their TF-IDF weights; do the same for Schiliro's article as well.\n",
    "Using the **join** operation we learned earlier, compute the common words shared by Obama's and Schiliro's articles.\n",
    "Sort the common words by their TF-IDF weights in Obama's document."
   ]
  },
  {
   "cell_type": "code",
   "metadata": {
    "collapsed": true,
    "ExecuteTime": {
     "end_time": "2024-12-16T22:01:21.552536Z",
     "start_time": "2024-12-16T22:01:21.548021Z"
    }
   },
   "source": [
    "def top_words_tf_idf(name, column = 'tf-idf'):\n",
    "    \"\"\"\n",
    "    Get a table of the largest tf-idf words in the given person's wikipedia page.\n",
    "    \"\"\"\n",
    "    # Your code goes here\n",
    "    article = wiki[wiki['name'] == name].index\n",
    "    article = TFIDFmatrix[article, :]\n",
    "    _, row = article.nonzero()\n",
    "    [val] = article[:, row].toarray()\n",
    "    words = vectorizer.get_feature_names_out()[row]\n",
    "    \n",
    "    df = pd.DataFrame(val, index = words, columns=[column])\n",
    "    return df.sort_values(by=column,ascending=False)"
   ],
   "outputs": [],
   "execution_count": 349
  },
  {
   "cell_type": "code",
   "metadata": {
    "collapsed": false,
    "jupyter": {
     "outputs_hidden": false
    },
    "ExecuteTime": {
     "end_time": "2024-12-16T22:03:36.876780Z",
     "start_time": "2024-12-16T22:03:35.045930Z"
    }
   },
   "source": [
    "obama_tf_idf = top_words_tf_idf('Barack Obama', column='tf-idf_Obama')\n",
    "schiliro_tf_idf = top_words_tf_idf('Phil Schiliro', column='tf-idf_Schiliro')\n",
    "common_words = obama_tf_idf.join(schiliro_tf_idf, how ='inner')\n",
    "print(obama_tf_idf)\n",
    "print(schiliro_tf_idf)\n",
    "print(common_words)\n",
    "common_words= common_words.index[:15]"
   ],
   "outputs": [
    {
     "name": "stdout",
     "output_type": "stream",
     "text": [
      "       tf-idf_Obama\n",
      "obama     52.295653\n",
      "the       40.004063\n",
      "act       35.678223\n",
      "in        30.028962\n",
      "iraq      21.747379\n",
      "...             ...\n",
      "is         2.055233\n",
      "new        1.887235\n",
      "which      1.767431\n",
      "that       1.661407\n",
      "by         1.374553\n",
      "\n",
      "[273 rows x 1 columns]\n",
      "               tf-idf_Schiliro\n",
      "schiliro             23.972991\n",
      "staff                20.856442\n",
      "congressional        16.547088\n",
      "president            14.033587\n",
      "he                   13.347054\n",
      "...                        ...\n",
      "where                 2.089076\n",
      "is                    2.055233\n",
      "university            1.847343\n",
      "that                  1.661407\n",
      "his                   1.262611\n",
      "\n",
      "[119 rows x 1 columns]\n",
      "                tf-idf_Obama  tf-idf_Schiliro\n",
      "obama              52.295653        11.621256\n",
      "the                40.004063        10.001016\n",
      "in                 30.028962         5.004827\n",
      "and                21.015648         6.004471\n",
      "law                20.722936        10.361468\n",
      "of                 18.074811         9.037406\n",
      "democratic         16.410689         8.205344\n",
      "to                 14.657229         7.328615\n",
      "his                13.888726         1.262611\n",
      "senate             13.164288         4.388096\n",
      "president          11.226869        14.033587\n",
      "presidential        9.386955         4.693478\n",
      "he                  8.493580        13.347054\n",
      "states              8.473201         2.824400\n",
      "2011                8.107041         5.404694\n",
      "policy              8.095386         4.047693\n",
      "2004                8.071033         2.690344\n",
      "united              7.703766         2.567922\n",
      "2009                7.693309         2.564436\n",
      "office              7.248173         3.624086\n",
      "a                   7.039334         5.028096\n",
      "as                  6.763017         4.508678\n",
      "school              6.668362         2.222787\n",
      "house               6.651096         6.651096\n",
      "american            6.382133         2.127378\n",
      "barack              6.067602         6.067602\n",
      "unsuccessfully      5.831637         5.831637\n",
      "has                 5.713990         2.856995\n",
      "was                 5.396829         4.317463\n",
      "reform              5.092839         5.092839\n",
      "served              5.072545         5.072545\n",
      "care                4.916621         4.916621\n",
      "relations           4.445874         4.445874\n",
      "for                 4.291450         4.291450\n",
      "review              4.227735         4.227735\n",
      "down                3.947661         3.947661\n",
      "from                3.881266         2.587511\n",
      "university          3.694686         1.847343\n",
      "graduate            3.675097         3.675097\n",
      "2013                2.954564         2.954564\n",
      "worked              2.553972         2.553972\n",
      "2008                2.509416         2.509416\n",
      "before              2.496782         2.496782\n",
      "on                  2.368826         4.737651\n",
      "where               2.089076         2.089076\n",
      "is                  2.055233         2.055233\n",
      "that                1.661407         1.661407\n"
     ]
    }
   ],
   "execution_count": 353
  },
  {
   "cell_type": "markdown",
   "metadata": {},
   "source": [
    "**c)** Among the words that appear in both Barack Obama and Phil Schiliro, take the 15 that have largest weights in Obama. How many of the articles in the Wikipedia dataset contain all of those 15 words? Which are they?"
   ]
  },
  {
   "cell_type": "code",
   "metadata": {
    "collapsed": false,
    "ExecuteTime": {
     "end_time": "2024-12-16T22:04:17.628220Z",
     "start_time": "2024-12-16T22:04:16.285366Z"
    }
   },
   "source": [
    "# It might be helpful to use:\n",
    "word_to_ind={v: i for i, v in enumerate(vectorizer.get_feature_names_out())} # a dictionary with words as keys and indices as values\n",
    "\n",
    "# Your code goes here\n",
    "word_indices = [word_to_ind[word] for word in common_words]\n",
    "articles = np.all(WCmatrix[:, word_indices].toarray(), axis=1)\n",
    "wiki[articles]['name']"
   ],
   "outputs": [
    {
     "data": {
      "text/plain": [
       "7914     Phil Schiliro\n",
       "24478        Joe Biden\n",
       "35817     Barack Obama\n",
       "Name: name, dtype: object"
      ]
     },
     "execution_count": 354,
     "metadata": {},
     "output_type": "execute_result"
    }
   ],
   "execution_count": 354
  },
  {
   "cell_type": "code",
   "metadata": {
    "collapsed": false,
    "ExecuteTime": {
     "end_time": "2024-12-16T20:41:31.397761Z",
     "start_time": "2024-12-16T20:41:31.390739Z"
    }
   },
   "source": "",
   "outputs": [
    {
     "data": {
      "text/plain": [
       "35817    Barack Obama\n",
       "Name: name, dtype: object"
      ]
     },
     "execution_count": 328,
     "metadata": {},
     "output_type": "execute_result"
    }
   ],
   "execution_count": 328
  },
  {
   "cell_type": "markdown",
   "metadata": {},
   "source": [
    "Notice the huge difference in this calculation using TF-IDF scores instead  of raw word counts. We've eliminated noise arising from extremely common words."
   ]
  },
  {
   "cell_type": "markdown",
   "metadata": {},
   "source": [
    "## Ex. 4: Choosing metrics"
   ]
  },
  {
   "cell_type": "markdown",
   "metadata": {},
   "source": [
    "**a)** Compute the Euclidean distance between TF-IDF features of Obama and Biden."
   ]
  },
  {
   "cell_type": "code",
   "metadata": {
    "collapsed": false,
    "ExecuteTime": {
     "end_time": "2024-12-16T22:06:10.378616Z",
     "start_time": "2024-12-16T22:06:10.362253Z"
    }
   },
   "source": [
    "dist = pairwise_distances(TFIDFmatrix[wiki[wiki['name'] == 'Barack Obama'].index[0]], TFIDFmatrix[wiki[wiki['name'] == 'Joe Biden'].index[0]])\n",
    "dist"
   ],
   "outputs": [
    {
     "data": {
      "text/plain": [
       "array([[148.77845413]])"
      ]
     },
     "execution_count": 355,
     "metadata": {},
     "output_type": "execute_result"
    }
   ],
   "execution_count": 355
  },
  {
   "cell_type": "markdown",
   "metadata": {},
   "source": [
    "The distance is larger than the distances we found for the 10 nearest neighbors, which we repeat here for readability:"
   ]
  },
  {
   "cell_type": "code",
   "metadata": {
    "collapsed": false,
    "jupyter": {
     "outputs_hidden": false
    },
    "ExecuteTime": {
     "end_time": "2024-12-16T22:06:12.223982Z",
     "start_time": "2024-12-16T22:06:12.193949Z"
    }
   },
   "source": [
    "wiki.sort_values(by='BO-eucl-TF-IDF',ascending=True)[['name','BO-eucl-TF-IDF']][0:10]"
   ],
   "outputs": [
    {
     "data": {
      "text/plain": [
       "                          name  BO-eucl-TF-IDF\n",
       "35817             Barack Obama        0.000000\n",
       "38376           Samantha Power      139.364493\n",
       "46811            Jeff Sessions      139.757740\n",
       "7914             Phil Schiliro      139.812175\n",
       "38714  Eric Stern (politician)      140.450064\n",
       "6507              Bob Menendez      141.661111\n",
       "44681   Jesse Lee (politician)      142.342440\n",
       "6796               Eric Holder      142.490179\n",
       "38495             Barney Frank      142.581337\n",
       "56008            Nathan Cullen      142.751073"
      ],
      "text/html": [
       "<div>\n",
       "<style scoped>\n",
       "    .dataframe tbody tr th:only-of-type {\n",
       "        vertical-align: middle;\n",
       "    }\n",
       "\n",
       "    .dataframe tbody tr th {\n",
       "        vertical-align: top;\n",
       "    }\n",
       "\n",
       "    .dataframe thead th {\n",
       "        text-align: right;\n",
       "    }\n",
       "</style>\n",
       "<table border=\"1\" class=\"dataframe\">\n",
       "  <thead>\n",
       "    <tr style=\"text-align: right;\">\n",
       "      <th></th>\n",
       "      <th>name</th>\n",
       "      <th>BO-eucl-TF-IDF</th>\n",
       "    </tr>\n",
       "  </thead>\n",
       "  <tbody>\n",
       "    <tr>\n",
       "      <th>35817</th>\n",
       "      <td>Barack Obama</td>\n",
       "      <td>0.000000</td>\n",
       "    </tr>\n",
       "    <tr>\n",
       "      <th>38376</th>\n",
       "      <td>Samantha Power</td>\n",
       "      <td>139.364493</td>\n",
       "    </tr>\n",
       "    <tr>\n",
       "      <th>46811</th>\n",
       "      <td>Jeff Sessions</td>\n",
       "      <td>139.757740</td>\n",
       "    </tr>\n",
       "    <tr>\n",
       "      <th>7914</th>\n",
       "      <td>Phil Schiliro</td>\n",
       "      <td>139.812175</td>\n",
       "    </tr>\n",
       "    <tr>\n",
       "      <th>38714</th>\n",
       "      <td>Eric Stern (politician)</td>\n",
       "      <td>140.450064</td>\n",
       "    </tr>\n",
       "    <tr>\n",
       "      <th>6507</th>\n",
       "      <td>Bob Menendez</td>\n",
       "      <td>141.661111</td>\n",
       "    </tr>\n",
       "    <tr>\n",
       "      <th>44681</th>\n",
       "      <td>Jesse Lee (politician)</td>\n",
       "      <td>142.342440</td>\n",
       "    </tr>\n",
       "    <tr>\n",
       "      <th>6796</th>\n",
       "      <td>Eric Holder</td>\n",
       "      <td>142.490179</td>\n",
       "    </tr>\n",
       "    <tr>\n",
       "      <th>38495</th>\n",
       "      <td>Barney Frank</td>\n",
       "      <td>142.581337</td>\n",
       "    </tr>\n",
       "    <tr>\n",
       "      <th>56008</th>\n",
       "      <td>Nathan Cullen</td>\n",
       "      <td>142.751073</td>\n",
       "    </tr>\n",
       "  </tbody>\n",
       "</table>\n",
       "</div>"
      ]
     },
     "execution_count": 356,
     "metadata": {},
     "output_type": "execute_result"
    }
   ],
   "execution_count": 356
  },
  {
   "cell_type": "markdown",
   "metadata": {},
   "source": [
    "But one may wonder, is Biden's article that different from Obama's, more so than, say, Schiliro's? It turns out that, when we compute nearest neighbors using the Euclidean distances, we unwittingly favor short articles over long ones."
   ]
  },
  {
   "cell_type": "markdown",
   "metadata": {},
   "source": [
    "**b)** Let us compute the length of each Wikipedia document, and examine the document lengths for the 100 nearest neighbors to Obama's page. To compute text length use the same splitting rules you used in `vectorizer`."
   ]
  },
  {
   "cell_type": "code",
   "metadata": {
    "collapsed": false,
    "jupyter": {
     "outputs_hidden": false
    },
    "ExecuteTime": {
     "end_time": "2024-12-16T22:06:22.023923Z",
     "start_time": "2024-12-16T22:06:14.165091Z"
    }
   },
   "source": [
    "tokenizer = vectorizer.build_tokenizer()\n",
    "\n",
    "def compute_length(row):\n",
    "# Here we could use simply:\n",
    "#     return len(row['text'].split(' '))\n",
    "    return len(tokenizer(row['text']))\n",
    "\n",
    "wiki['length'] = wiki.apply(compute_length, axis=1)"
   ],
   "outputs": [],
   "execution_count": 357
  },
  {
   "cell_type": "code",
   "metadata": {
    "collapsed": false,
    "jupyter": {
     "outputs_hidden": false
    },
    "ExecuteTime": {
     "end_time": "2024-12-16T22:06:23.504156Z",
     "start_time": "2024-12-16T22:06:23.479101Z"
    }
   },
   "source": [
    "nearest_neighbors_euclidean = wiki.sort_values(by='BO-eucl-TF-IDF',ascending=True)[0:100]\n",
    "nearest_neighbors_euclidean[['name', 'length']]"
   ],
   "outputs": [
    {
     "data": {
      "text/plain": [
       "                          name  length\n",
       "35817             Barack Obama     540\n",
       "38376           Samantha Power     310\n",
       "46811            Jeff Sessions     230\n",
       "7914             Phil Schiliro     208\n",
       "38714  Eric Stern (politician)     255\n",
       "...                        ...     ...\n",
       "12834      Mark Waller (judge)     211\n",
       "11303          Steven Weinberg     227\n",
       "8277          John M. Facciola     207\n",
       "11996        Thomas H. Jackson     216\n",
       "50366  Patrick Lipton Robinson     201\n",
       "\n",
       "[100 rows x 2 columns]"
      ],
      "text/html": [
       "<div>\n",
       "<style scoped>\n",
       "    .dataframe tbody tr th:only-of-type {\n",
       "        vertical-align: middle;\n",
       "    }\n",
       "\n",
       "    .dataframe tbody tr th {\n",
       "        vertical-align: top;\n",
       "    }\n",
       "\n",
       "    .dataframe thead th {\n",
       "        text-align: right;\n",
       "    }\n",
       "</style>\n",
       "<table border=\"1\" class=\"dataframe\">\n",
       "  <thead>\n",
       "    <tr style=\"text-align: right;\">\n",
       "      <th></th>\n",
       "      <th>name</th>\n",
       "      <th>length</th>\n",
       "    </tr>\n",
       "  </thead>\n",
       "  <tbody>\n",
       "    <tr>\n",
       "      <th>35817</th>\n",
       "      <td>Barack Obama</td>\n",
       "      <td>540</td>\n",
       "    </tr>\n",
       "    <tr>\n",
       "      <th>38376</th>\n",
       "      <td>Samantha Power</td>\n",
       "      <td>310</td>\n",
       "    </tr>\n",
       "    <tr>\n",
       "      <th>46811</th>\n",
       "      <td>Jeff Sessions</td>\n",
       "      <td>230</td>\n",
       "    </tr>\n",
       "    <tr>\n",
       "      <th>7914</th>\n",
       "      <td>Phil Schiliro</td>\n",
       "      <td>208</td>\n",
       "    </tr>\n",
       "    <tr>\n",
       "      <th>38714</th>\n",
       "      <td>Eric Stern (politician)</td>\n",
       "      <td>255</td>\n",
       "    </tr>\n",
       "    <tr>\n",
       "      <th>...</th>\n",
       "      <td>...</td>\n",
       "      <td>...</td>\n",
       "    </tr>\n",
       "    <tr>\n",
       "      <th>12834</th>\n",
       "      <td>Mark Waller (judge)</td>\n",
       "      <td>211</td>\n",
       "    </tr>\n",
       "    <tr>\n",
       "      <th>11303</th>\n",
       "      <td>Steven Weinberg</td>\n",
       "      <td>227</td>\n",
       "    </tr>\n",
       "    <tr>\n",
       "      <th>8277</th>\n",
       "      <td>John M. Facciola</td>\n",
       "      <td>207</td>\n",
       "    </tr>\n",
       "    <tr>\n",
       "      <th>11996</th>\n",
       "      <td>Thomas H. Jackson</td>\n",
       "      <td>216</td>\n",
       "    </tr>\n",
       "    <tr>\n",
       "      <th>50366</th>\n",
       "      <td>Patrick Lipton Robinson</td>\n",
       "      <td>201</td>\n",
       "    </tr>\n",
       "  </tbody>\n",
       "</table>\n",
       "<p>100 rows × 2 columns</p>\n",
       "</div>"
      ]
     },
     "execution_count": 358,
     "metadata": {},
     "output_type": "execute_result"
    }
   ],
   "execution_count": 358
  },
  {
   "cell_type": "markdown",
   "metadata": {},
   "source": [
    "**c)** To see how these document lengths compare to the lengths of other documents in the corpus, make a histogram of the document lengths of Obama's 100 nearest neighbors and compare to a histogram of document lengths for all documents."
   ]
  },
  {
   "cell_type": "code",
   "metadata": {
    "collapsed": false,
    "jupyter": {
     "outputs_hidden": false
    },
    "ExecuteTime": {
     "end_time": "2024-12-16T22:09:23.756571Z",
     "start_time": "2024-12-16T22:09:23.504655Z"
    }
   },
   "source": [
    "plt.figure(figsize=(10.5,4.5))\n",
    "plt.xlabel('# of words')\n",
    "plt.ylabel('percentage')\n",
    "plt.hist(wiki['length'], 50, color='k', edgecolor='none', histtype= 'stepfilled', label='Entire Wikipedia', density=True)\n",
    "plt.hist(nearest_neighbors_euclidean['length'], 50, color='r', edgecolor='none', histtype= 'stepfilled', label='100 NNs of Obama', density=True)\n",
    "plt.axvline(wiki['length'][wiki['name'] == 'Barack Obama'].values[0], color='grey', linestyle='--', linewidth=2, label='Obama')\n",
    "plt.axvline(wiki['length'][wiki['name'] == 'Joe Biden'].values[0], color='g', linestyle='--', linewidth=2, label='Biden')\n",
    "ax = plt.gca()\n",
    "ax.set_xlim([0, 1000])\n",
    "\n",
    "plt.legend()\n",
    "plt.tight_layout()\n",
    "plt.show()"
   ],
   "outputs": [
    {
     "data": {
      "text/plain": [
       "<Figure size 1050x450 with 1 Axes>"
      ],
      "image/png": "[encoded data removed]"
     },
     "metadata": {},
     "output_type": "display_data"
    }
   ],
   "execution_count": 367
  },
  {
   "cell_type": "markdown",
   "metadata": {},
   "source": [
    "Relative to the rest of Wikipedia, nearest neighbors of Obama are overwhemingly short, most of them being shorter than 300 words. The bias towards short articles is not appropriate in this application as there is really no reason to  favor short articles over long articles (they are all Wikipedia articles, after all). Many of the Wikipedia articles are 300 words or more, and both Obama and Biden are over 300 words long.\n",
    "\n",
    "**Note**: For the interest of computation time, the dataset given here contains _excerpts_ of the articles rather than full text. For instance, the actual Wikipedia article about Obama is around 25000 words. Do not be surprised by the low numbers shown in the histogram."
   ]
  },
  {
   "cell_type": "markdown",
   "metadata": {},
   "source": [
    "**Note:** Both word-count features and TF-IDF are proportional to word frequencies. While TF-IDF penalizes very common words, longer articles tend to have longer TF-IDF vectors simply because they have more words in them."
   ]
  },
  {
   "cell_type": "markdown",
   "metadata": {},
   "source": [
    "To remove this bias, we turn to **cosine distances**:\n",
    "$$\n",
    "d(\\mathbf{x},\\mathbf{y}) = 1 - \\frac{\\mathbf{x}^T\\mathbf{y}}{\\|\\mathbf{x}\\| \\|\\mathbf{y}\\|}\n",
    "$$\n",
    "Cosine distances let us compare word distributions of two articles of varying lengths."
   ]
  },
  {
   "cell_type": "markdown",
   "metadata": {},
   "source": [
    "**d)** Train a new nearest neighbor model, this time with cosine distances.  Then repeat the search for Obama's 100 nearest neighbors and make a plot to better visualize the effect of having used cosine distance in place of Euclidean on our TF-IDF vectors."
   ]
  },
  {
   "cell_type": "code",
   "metadata": {
    "collapsed": false,
    "jupyter": {
     "outputs_hidden": false
    },
    "ExecuteTime": {
     "end_time": "2024-12-16T22:06:29.789387Z",
     "start_time": "2024-12-16T22:06:29.603233Z"
    }
   },
   "source": [
    "# Your code goes here\n",
    "dist = pairwise_distances(TFIDFmatrix, TFIDFmatrix[wiki[wiki['name'] == 'Barack Obama'].index[0]], metric='cosine')\n",
    "wiki['BO-cos'] = dist\n",
    "nearest_neighbors_cosine = wiki.sort_values(by='BO-cos',ascending=True)[0:100][['name', 'length', 'BO-cos']]\n",
    "nearest_neighbors_cosine"
   ],
   "outputs": [
    {
     "data": {
      "text/plain": [
       "                                  name  length    BO-cos\n",
       "35817                     Barack Obama     540  0.000000\n",
       "24478                        Joe Biden     414  0.572725\n",
       "57108           Hillary Rodham Clinton     580  0.616149\n",
       "38376                   Samantha Power     310  0.625797\n",
       "38714          Eric Stern (politician)     255  0.651475\n",
       "...                                ...     ...       ...\n",
       "2045             Allan Ryan (attorney)     291  0.731376\n",
       "47085                     Ray Thornton     326  0.731908\n",
       "16392  P%C3%A9ter Kov%C3%A1cs (lawyer)     365  0.732172\n",
       "55495               Lokman Singh Karki    2486  0.732608\n",
       "22304                 Chung Dong-young     886  0.732785\n",
       "\n",
       "[100 rows x 3 columns]"
      ],
      "text/html": [
       "<div>\n",
       "<style scoped>\n",
       "    .dataframe tbody tr th:only-of-type {\n",
       "        vertical-align: middle;\n",
       "    }\n",
       "\n",
       "    .dataframe tbody tr th {\n",
       "        vertical-align: top;\n",
       "    }\n",
       "\n",
       "    .dataframe thead th {\n",
       "        text-align: right;\n",
       "    }\n",
       "</style>\n",
       "<table border=\"1\" class=\"dataframe\">\n",
       "  <thead>\n",
       "    <tr style=\"text-align: right;\">\n",
       "      <th></th>\n",
       "      <th>name</th>\n",
       "      <th>length</th>\n",
       "      <th>BO-cos</th>\n",
       "    </tr>\n",
       "  </thead>\n",
       "  <tbody>\n",
       "    <tr>\n",
       "      <th>35817</th>\n",
       "      <td>Barack Obama</td>\n",
       "      <td>540</td>\n",
       "      <td>0.000000</td>\n",
       "    </tr>\n",
       "    <tr>\n",
       "      <th>24478</th>\n",
       "      <td>Joe Biden</td>\n",
       "      <td>414</td>\n",
       "      <td>0.572725</td>\n",
       "    </tr>\n",
       "    <tr>\n",
       "      <th>57108</th>\n",
       "      <td>Hillary Rodham Clinton</td>\n",
       "      <td>580</td>\n",
       "      <td>0.616149</td>\n",
       "    </tr>\n",
       "    <tr>\n",
       "      <th>38376</th>\n",
       "      <td>Samantha Power</td>\n",
       "      <td>310</td>\n",
       "      <td>0.625797</td>\n",
       "    </tr>\n",
       "    <tr>\n",
       "      <th>38714</th>\n",
       "      <td>Eric Stern (politician)</td>\n",
       "      <td>255</td>\n",
       "      <td>0.651475</td>\n",
       "    </tr>\n",
       "    <tr>\n",
       "      <th>...</th>\n",
       "      <td>...</td>\n",
       "      <td>...</td>\n",
       "      <td>...</td>\n",
       "    </tr>\n",
       "    <tr>\n",
       "      <th>2045</th>\n",
       "      <td>Allan Ryan (attorney)</td>\n",
       "      <td>291</td>\n",
       "      <td>0.731376</td>\n",
       "    </tr>\n",
       "    <tr>\n",
       "      <th>47085</th>\n",
       "      <td>Ray Thornton</td>\n",
       "      <td>326</td>\n",
       "      <td>0.731908</td>\n",
       "    </tr>\n",
       "    <tr>\n",
       "      <th>16392</th>\n",
       "      <td>P%C3%A9ter Kov%C3%A1cs (lawyer)</td>\n",
       "      <td>365</td>\n",
       "      <td>0.732172</td>\n",
       "    </tr>\n",
       "    <tr>\n",
       "      <th>55495</th>\n",
       "      <td>Lokman Singh Karki</td>\n",
       "      <td>2486</td>\n",
       "      <td>0.732608</td>\n",
       "    </tr>\n",
       "    <tr>\n",
       "      <th>22304</th>\n",
       "      <td>Chung Dong-young</td>\n",
       "      <td>886</td>\n",
       "      <td>0.732785</td>\n",
       "    </tr>\n",
       "  </tbody>\n",
       "</table>\n",
       "<p>100 rows × 3 columns</p>\n",
       "</div>"
      ]
     },
     "execution_count": 360,
     "metadata": {},
     "output_type": "execute_result"
    }
   ],
   "execution_count": 360
  },
  {
   "cell_type": "markdown",
   "metadata": {},
   "source": [
    "From a glance at the above table, things look better.  For example, we now see Joe Biden as Barack Obama's nearest neighbor!  We also see Hillary Clinton on the list.  This list looks even more plausible as nearest neighbors of Barack Obama."
   ]
  },
  {
   "cell_type": "code",
   "metadata": {
    "collapsed": false,
    "jupyter": {
     "outputs_hidden": false
    },
    "ExecuteTime": {
     "end_time": "2024-12-16T22:11:32.393910Z",
     "start_time": "2024-12-16T22:11:32.150095Z"
    }
   },
   "source": [
    "plt.figure(figsize=(10.5,4.5))\n",
    "plt.xlabel('# of words')\n",
    "plt.ylabel('percentage')\n",
    "plt.hist(wiki['length'], 50, color='k', edgecolor='none', histtype= 'stepfilled', label='Entire Wikipedia', density=True)\n",
    "plt.hist(nearest_neighbors_euclidean['length'], 50, color='r', edgecolor='none', histtype= 'stepfilled', label='100 NNs of Obama', density=True, alpha=0.75)\n",
    "plt.hist(nearest_neighbors_cosine['length'], 50, color='b', edgecolor='none', histtype= 'stepfilled', label='100 NNs of Obama', density=True ,alpha=0.75)\n",
    "plt.axvline(wiki['length'][wiki['name'] == 'Barack Obama'].values[0], color='grey', linestyle='--', linewidth=2, label='Obama')\n",
    "plt.axvline(wiki['length'][wiki['name'] == 'Joe Biden'].values[0], color='g', linestyle='--', linewidth=2, label='Biden')\n",
    "ax = plt.gca()\n",
    "ax.set_xlim([0, 1000])\n",
    "plt.legend()\n",
    "plt.tight_layout()\n",
    "plt.show()"
   ],
   "outputs": [
    {
     "data": {
      "text/plain": [
       "<Figure size 1050x450 with 1 Axes>"
      ],
      "image/png": "[encoded data removed]"
     },
     "metadata": {},
     "output_type": "display_data"
    }
   ],
   "execution_count": 371
  },
  {
   "cell_type": "markdown",
   "metadata": {},
   "source": [
    "Indeed, the 100 nearest neighbors using cosine distance provide a sampling across the range of document lengths, rather than just short articles like Euclidean distance provided."
   ]
  },
  {
   "cell_type": "markdown",
   "metadata": {},
   "source": [
    "**Moral of the story**: In deciding the features and distance measures, check if they produce results that make sense for your particular application."
   ]
  },
  {
   "cell_type": "markdown",
   "metadata": {},
   "source": [
    "## Ex. 5: Problem with cosine distances: tweets vs. long articles"
   ]
  },
  {
   "cell_type": "markdown",
   "metadata": {},
   "source": [
    "Happily ever after? Not so fast. Cosine distances ignore all document lengths, which may be great in certain situations but not in others. For instance, consider the following (admittedly contrived) example."
   ]
  },
  {
   "cell_type": "markdown",
   "metadata": {},
   "source": [
    "```\n",
    "+--------------------------------------------------------+\n",
    "|                                             +--------+ |\n",
    "|  One that shall not be named                | Follow | |\n",
    "|  @username                                  +--------+ |\n",
    "|                                                        |\n",
    "|  Democratic governments control law in response to     |\n",
    "|  popular act.                                          |\n",
    "|                                                        |\n",
    "|  8:05 AM - 16 May 2016                                 |\n",
    "|                                                        |\n",
    "|  Reply   Retweet (1,332)   Like (300)                  |\n",
    "|                                                        |\n",
    "+--------------------------------------------------------+\n",
    "```"
   ]
  },
  {
   "cell_type": "markdown",
   "metadata": {},
   "source": [
    "**a)** Transform the tweet into TF-IDF features, using the fit to the Wikipedia dataset. (That is, let's treat this tweet as an article in our Wikipedia dataset and see what happens.) How similar is this tweet to Barack Obama's Wikipedia article? "
   ]
  },
  {
   "cell_type": "code",
   "metadata": {
    "collapsed": false,
    "ExecuteTime": {
     "end_time": "2024-12-16T22:11:55.743253Z",
     "start_time": "2024-12-16T22:11:53.730799Z"
    }
   },
   "source": [
    "df = pd.DataFrame({'text': ['democratic governments control law in response to popular act']})\n",
    "WCmatrix_sentence = vectorizer.transform(df['text'])\n",
    "TFIDF_sentence = tfidf.transform(WCmatrix_sentence)\n",
    "\n",
    "vocabulary = vectorizer.get_feature_names_out()\n",
    "feature_names = pd.Series(vocabulary)\n",
    "sentence_tfidf = TFIDF_sentence.toarray()[0]  # Konwersja na gęstą tablicę, bo to pojedynczy wektor\n",
    "\n",
    "word_tfidf_values = {\n",
    "    word: sentence_tfidf[feature_names[feature_names == word].index[0]]\n",
    "    for word in df['text'][0].split()\n",
    "    if word in feature_names.values\n",
    "}\n",
    "\n",
    "# Wyświetlenie wyniku w formie tabeli\n",
    "result_df = pd.DataFrame(\n",
    "    [\n",
    "        {\"word\": word, \"count\": 1, \"tfidf_value\": tfidf_value}\n",
    "        for word, tfidf_value in word_tfidf_values.items()\n",
    "    ]\n",
    ")\n",
    "result_df\n",
    "# Your code goes here"
   ],
   "outputs": [
    {
     "data": {
      "text/plain": [
       "          word  count  tfidf_value\n",
       "0   democratic      1     4.102672\n",
       "1  governments      1     5.167571\n",
       "2      control      1     4.721765\n",
       "3          law      1     3.453823\n",
       "4           in      1     1.000965\n",
       "5     response      1     5.261462\n",
       "6           to      1     1.046945\n",
       "7      popular      1     3.764479\n",
       "8          act      1     4.459778"
      ],
      "text/html": [
       "<div>\n",
       "<style scoped>\n",
       "    .dataframe tbody tr th:only-of-type {\n",
       "        vertical-align: middle;\n",
       "    }\n",
       "\n",
       "    .dataframe tbody tr th {\n",
       "        vertical-align: top;\n",
       "    }\n",
       "\n",
       "    .dataframe thead th {\n",
       "        text-align: right;\n",
       "    }\n",
       "</style>\n",
       "<table border=\"1\" class=\"dataframe\">\n",
       "  <thead>\n",
       "    <tr style=\"text-align: right;\">\n",
       "      <th></th>\n",
       "      <th>word</th>\n",
       "      <th>count</th>\n",
       "      <th>tfidf_value</th>\n",
       "    </tr>\n",
       "  </thead>\n",
       "  <tbody>\n",
       "    <tr>\n",
       "      <th>0</th>\n",
       "      <td>democratic</td>\n",
       "      <td>1</td>\n",
       "      <td>4.102672</td>\n",
       "    </tr>\n",
       "    <tr>\n",
       "      <th>1</th>\n",
       "      <td>governments</td>\n",
       "      <td>1</td>\n",
       "      <td>5.167571</td>\n",
       "    </tr>\n",
       "    <tr>\n",
       "      <th>2</th>\n",
       "      <td>control</td>\n",
       "      <td>1</td>\n",
       "      <td>4.721765</td>\n",
       "    </tr>\n",
       "    <tr>\n",
       "      <th>3</th>\n",
       "      <td>law</td>\n",
       "      <td>1</td>\n",
       "      <td>3.453823</td>\n",
       "    </tr>\n",
       "    <tr>\n",
       "      <th>4</th>\n",
       "      <td>in</td>\n",
       "      <td>1</td>\n",
       "      <td>1.000965</td>\n",
       "    </tr>\n",
       "    <tr>\n",
       "      <th>5</th>\n",
       "      <td>response</td>\n",
       "      <td>1</td>\n",
       "      <td>5.261462</td>\n",
       "    </tr>\n",
       "    <tr>\n",
       "      <th>6</th>\n",
       "      <td>to</td>\n",
       "      <td>1</td>\n",
       "      <td>1.046945</td>\n",
       "    </tr>\n",
       "    <tr>\n",
       "      <th>7</th>\n",
       "      <td>popular</td>\n",
       "      <td>1</td>\n",
       "      <td>3.764479</td>\n",
       "    </tr>\n",
       "    <tr>\n",
       "      <th>8</th>\n",
       "      <td>act</td>\n",
       "      <td>1</td>\n",
       "      <td>4.459778</td>\n",
       "    </tr>\n",
       "  </tbody>\n",
       "</table>\n",
       "</div>"
      ]
     },
     "execution_count": 372,
     "metadata": {},
     "output_type": "execute_result"
    }
   ],
   "execution_count": 372
  },
  {
   "cell_type": "markdown",
   "metadata": {},
   "source": [
    "Let's compare this tweet's TF-IDF vectors  to Barack Obama's Wikipedia entry."
   ]
  },
  {
   "cell_type": "code",
   "metadata": {
    "collapsed": false,
    "jupyter": {
     "outputs_hidden": false
    },
    "ExecuteTime": {
     "end_time": "2024-12-16T20:41:00.428399Z",
     "start_time": "2024-12-16T20:41:00.415863Z"
    }
   },
   "source": "obama_tf_idf",
   "outputs": [
    {
     "data": {
      "text/plain": [
       "                word     tf-idf\n",
       "358582         obama  52.295653\n",
       "488178           the  40.004063\n",
       "45084            act  35.678223\n",
       "251924            in  30.028962\n",
       "259239          iraq  21.747379\n",
       "...              ...        ...\n",
       "182862        equina   0.000000\n",
       "182861       equiluz   0.000000\n",
       "182860      equilium   0.000000\n",
       "182859  equilibriums   0.000000\n",
       "548464          zzts   0.000000\n",
       "\n",
       "[548465 rows x 2 columns]"
      ],
      "text/html": [
       "<div>\n",
       "<style scoped>\n",
       "    .dataframe tbody tr th:only-of-type {\n",
       "        vertical-align: middle;\n",
       "    }\n",
       "\n",
       "    .dataframe tbody tr th {\n",
       "        vertical-align: top;\n",
       "    }\n",
       "\n",
       "    .dataframe thead th {\n",
       "        text-align: right;\n",
       "    }\n",
       "</style>\n",
       "<table border=\"1\" class=\"dataframe\">\n",
       "  <thead>\n",
       "    <tr style=\"text-align: right;\">\n",
       "      <th></th>\n",
       "      <th>word</th>\n",
       "      <th>tf-idf</th>\n",
       "    </tr>\n",
       "  </thead>\n",
       "  <tbody>\n",
       "    <tr>\n",
       "      <th>358582</th>\n",
       "      <td>obama</td>\n",
       "      <td>52.295653</td>\n",
       "    </tr>\n",
       "    <tr>\n",
       "      <th>488178</th>\n",
       "      <td>the</td>\n",
       "      <td>40.004063</td>\n",
       "    </tr>\n",
       "    <tr>\n",
       "      <th>45084</th>\n",
       "      <td>act</td>\n",
       "      <td>35.678223</td>\n",
       "    </tr>\n",
       "    <tr>\n",
       "      <th>251924</th>\n",
       "      <td>in</td>\n",
       "      <td>30.028962</td>\n",
       "    </tr>\n",
       "    <tr>\n",
       "      <th>259239</th>\n",
       "      <td>iraq</td>\n",
       "      <td>21.747379</td>\n",
       "    </tr>\n",
       "    <tr>\n",
       "      <th>...</th>\n",
       "      <td>...</td>\n",
       "      <td>...</td>\n",
       "    </tr>\n",
       "    <tr>\n",
       "      <th>182862</th>\n",
       "      <td>equina</td>\n",
       "      <td>0.000000</td>\n",
       "    </tr>\n",
       "    <tr>\n",
       "      <th>182861</th>\n",
       "      <td>equiluz</td>\n",
       "      <td>0.000000</td>\n",
       "    </tr>\n",
       "    <tr>\n",
       "      <th>182860</th>\n",
       "      <td>equilium</td>\n",
       "      <td>0.000000</td>\n",
       "    </tr>\n",
       "    <tr>\n",
       "      <th>182859</th>\n",
       "      <td>equilibriums</td>\n",
       "      <td>0.000000</td>\n",
       "    </tr>\n",
       "    <tr>\n",
       "      <th>548464</th>\n",
       "      <td>zzts</td>\n",
       "      <td>0.000000</td>\n",
       "    </tr>\n",
       "  </tbody>\n",
       "</table>\n",
       "<p>548465 rows × 2 columns</p>\n",
       "</div>"
      ]
     },
     "execution_count": 323,
     "metadata": {},
     "output_type": "execute_result"
    }
   ],
   "execution_count": 323
  },
  {
   "cell_type": "markdown",
   "metadata": {},
   "source": [
    "**b)** Now, compute the cosine distance between the Barack Obama article and this tweet:"
   ]
  },
  {
   "cell_type": "code",
   "metadata": {
    "collapsed": false,
    "jupyter": {
     "outputs_hidden": false
    },
    "ExecuteTime": {
     "end_time": "2024-12-16T20:41:00.515913Z",
     "start_time": "2024-12-16T20:41:00.503183Z"
    }
   },
   "source": [
    "from sklearn.metrics.pairwise import cosine_distances # for one pair of samples we can just use this function\n",
    "dist = cosine_distances(TFIDF_sentence, TFIDFmatrix[wiki[wiki['name'] == 'Barack Obama'].index[0]])\n",
    "dist\n",
    "# Your code goes here"
   ],
   "outputs": [
    {
     "data": {
      "text/plain": [
       "array([[0.69866453]])"
      ]
     },
     "execution_count": 324,
     "metadata": {},
     "output_type": "execute_result"
    }
   ],
   "execution_count": 324
  },
  {
   "cell_type": "markdown",
   "metadata": {},
   "source": [
    "Let's compare this distance to the distance between the Barack Obama article and all of its Wikipedia nearest neighbors:"
   ]
  },
  {
   "cell_type": "code",
   "metadata": {
    "collapsed": false,
    "jupyter": {
     "outputs_hidden": false
    },
    "ExecuteTime": {
     "end_time": "2024-12-16T20:41:00.639882Z",
     "start_time": "2024-12-16T20:41:00.628360Z"
    }
   },
   "source": [
    "nearest_neighbors_cosine[0:23]"
   ],
   "outputs": [
    {
     "data": {
      "text/plain": [
       "                              name  length    BO-cos\n",
       "35817                 Barack Obama     540  0.000000\n",
       "24478                    Joe Biden     414  0.572725\n",
       "57108       Hillary Rodham Clinton     580  0.616149\n",
       "38376               Samantha Power     310  0.625797\n",
       "38714      Eric Stern (politician)     255  0.651475\n",
       "28447               George W. Bush     505  0.659478\n",
       "39357                  John McCain     410  0.661645\n",
       "48693                  Artur Davis     371  0.666690\n",
       "18827                 Henry Waxman     279  0.671226\n",
       "37199      Barry Sullivan (lawyer)     893  0.673300\n",
       "46811                Jeff Sessions     230  0.673581\n",
       "36452                 Bill Clinton     524  0.675260\n",
       "6796                   Eric Holder     232  0.677451\n",
       "24848              John C. Eastman     366  0.679724\n",
       "36425         Edward B. Montgomery     331  0.681387\n",
       "14754                  Mitt Romney     502  0.681761\n",
       "35357             Lawrence Summers     413  0.687272\n",
       "47303                   John Kerry     410  0.692701\n",
       "34344  Mary Dawson (civil servant)     434  0.696581\n",
       "55181                     Ron Paul     427  0.696642\n",
       "4565           Robinson O. Everett     764  0.698133\n",
       "46140                 Robert Gibbs     257  0.698549\n",
       "52859                    Ann Lewis     634  0.698799"
      ],
      "text/html": [
       "<div>\n",
       "<style scoped>\n",
       "    .dataframe tbody tr th:only-of-type {\n",
       "        vertical-align: middle;\n",
       "    }\n",
       "\n",
       "    .dataframe tbody tr th {\n",
       "        vertical-align: top;\n",
       "    }\n",
       "\n",
       "    .dataframe thead th {\n",
       "        text-align: right;\n",
       "    }\n",
       "</style>\n",
       "<table border=\"1\" class=\"dataframe\">\n",
       "  <thead>\n",
       "    <tr style=\"text-align: right;\">\n",
       "      <th></th>\n",
       "      <th>name</th>\n",
       "      <th>length</th>\n",
       "      <th>BO-cos</th>\n",
       "    </tr>\n",
       "  </thead>\n",
       "  <tbody>\n",
       "    <tr>\n",
       "      <th>35817</th>\n",
       "      <td>Barack Obama</td>\n",
       "      <td>540</td>\n",
       "      <td>0.000000</td>\n",
       "    </tr>\n",
       "    <tr>\n",
       "      <th>24478</th>\n",
       "      <td>Joe Biden</td>\n",
       "      <td>414</td>\n",
       "      <td>0.572725</td>\n",
       "    </tr>\n",
       "    <tr>\n",
       "      <th>57108</th>\n",
       "      <td>Hillary Rodham Clinton</td>\n",
       "      <td>580</td>\n",
       "      <td>0.616149</td>\n",
       "    </tr>\n",
       "    <tr>\n",
       "      <th>38376</th>\n",
       "      <td>Samantha Power</td>\n",
       "      <td>310</td>\n",
       "      <td>0.625797</td>\n",
       "    </tr>\n",
       "    <tr>\n",
       "      <th>38714</th>\n",
       "      <td>Eric Stern (politician)</td>\n",
       "      <td>255</td>\n",
       "      <td>0.651475</td>\n",
       "    </tr>\n",
       "    <tr>\n",
       "      <th>28447</th>\n",
       "      <td>George W. Bush</td>\n",
       "      <td>505</td>\n",
       "      <td>0.659478</td>\n",
       "    </tr>\n",
       "    <tr>\n",
       "      <th>39357</th>\n",
       "      <td>John McCain</td>\n",
       "      <td>410</td>\n",
       "      <td>0.661645</td>\n",
       "    </tr>\n",
       "    <tr>\n",
       "      <th>48693</th>\n",
       "      <td>Artur Davis</td>\n",
       "      <td>371</td>\n",
       "      <td>0.666690</td>\n",
       "    </tr>\n",
       "    <tr>\n",
       "      <th>18827</th>\n",
       "      <td>Henry Waxman</td>\n",
       "      <td>279</td>\n",
       "      <td>0.671226</td>\n",
       "    </tr>\n",
       "    <tr>\n",
       "      <th>37199</th>\n",
       "      <td>Barry Sullivan (lawyer)</td>\n",
       "      <td>893</td>\n",
       "      <td>0.673300</td>\n",
       "    </tr>\n",
       "    <tr>\n",
       "      <th>46811</th>\n",
       "      <td>Jeff Sessions</td>\n",
       "      <td>230</td>\n",
       "      <td>0.673581</td>\n",
       "    </tr>\n",
       "    <tr>\n",
       "      <th>36452</th>\n",
       "      <td>Bill Clinton</td>\n",
       "      <td>524</td>\n",
       "      <td>0.675260</td>\n",
       "    </tr>\n",
       "    <tr>\n",
       "      <th>6796</th>\n",
       "      <td>Eric Holder</td>\n",
       "      <td>232</td>\n",
       "      <td>0.677451</td>\n",
       "    </tr>\n",
       "    <tr>\n",
       "      <th>24848</th>\n",
       "      <td>John C. Eastman</td>\n",
       "      <td>366</td>\n",
       "      <td>0.679724</td>\n",
       "    </tr>\n",
       "    <tr>\n",
       "      <th>36425</th>\n",
       "      <td>Edward B. Montgomery</td>\n",
       "      <td>331</td>\n",
       "      <td>0.681387</td>\n",
       "    </tr>\n",
       "    <tr>\n",
       "      <th>14754</th>\n",
       "      <td>Mitt Romney</td>\n",
       "      <td>502</td>\n",
       "      <td>0.681761</td>\n",
       "    </tr>\n",
       "    <tr>\n",
       "      <th>35357</th>\n",
       "      <td>Lawrence Summers</td>\n",
       "      <td>413</td>\n",
       "      <td>0.687272</td>\n",
       "    </tr>\n",
       "    <tr>\n",
       "      <th>47303</th>\n",
       "      <td>John Kerry</td>\n",
       "      <td>410</td>\n",
       "      <td>0.692701</td>\n",
       "    </tr>\n",
       "    <tr>\n",
       "      <th>34344</th>\n",
       "      <td>Mary Dawson (civil servant)</td>\n",
       "      <td>434</td>\n",
       "      <td>0.696581</td>\n",
       "    </tr>\n",
       "    <tr>\n",
       "      <th>55181</th>\n",
       "      <td>Ron Paul</td>\n",
       "      <td>427</td>\n",
       "      <td>0.696642</td>\n",
       "    </tr>\n",
       "    <tr>\n",
       "      <th>4565</th>\n",
       "      <td>Robinson O. Everett</td>\n",
       "      <td>764</td>\n",
       "      <td>0.698133</td>\n",
       "    </tr>\n",
       "    <tr>\n",
       "      <th>46140</th>\n",
       "      <td>Robert Gibbs</td>\n",
       "      <td>257</td>\n",
       "      <td>0.698549</td>\n",
       "    </tr>\n",
       "    <tr>\n",
       "      <th>52859</th>\n",
       "      <td>Ann Lewis</td>\n",
       "      <td>634</td>\n",
       "      <td>0.698799</td>\n",
       "    </tr>\n",
       "  </tbody>\n",
       "</table>\n",
       "</div>"
      ]
     },
     "execution_count": 325,
     "metadata": {},
     "output_type": "execute_result"
    }
   ],
   "execution_count": 325
  },
  {
   "cell_type": "markdown",
   "metadata": {},
   "source": [
    "With cosine distances, the tweet is \"nearer\" to Barack Obama than most people! If someone is reading the Barack Obama Wikipedia page, would you want to recommend they read this tweet?\n",
    "In practice, it is common to enforce maximum or minimum document lengths. After all, when someone is reading a long article from _The Atlantic_, you wouldn't recommend him/her a tweet."
   ]
  }
 ],
 "metadata": {
  "anaconda-cloud": {},
  "kernelspec": {
   "display_name": "Python 3 (ipykernel)",
   "language": "python",
   "name": "python3"
  },
  "language_info": {
   "codemirror_mode": {
    "name": "ipython",
    "version": 2
   },
   "file_extension": ".py",
   "mimetype": "text/x-python",
   "name": "python",
   "nbconvert_exporter": "python",
   "pygments_lexer": "ipython2",
   "version": "2.7.12"
  }
 },
 "nbformat": 4,
 "nbformat_minor": 4
}
